{
 "cells": [
  {
   "cell_type": "code",
   "execution_count": 30,
   "metadata": {
    "collapsed": false
   },
   "outputs": [
    {
     "name": "stdout",
     "output_type": "stream",
     "text": [
      "Please enter a search term: Arsenal\n",
      "This is the search term: Arsenal\n",
      "Path:arsenal\n"
     ]
    }
   ],
   "source": [
    "# Authorize and get the search term!\n",
    "import requests\n",
    "from requests_oauthlib import OAuth1\n",
    "import os, json\n",
    "from time import sleep\n",
    "\n",
    "\n",
    "\n",
    "url = 'https://api.twitter.com/1.1/account/verify_credentials.json'\n",
    "auth = OAuth1('E5eeHHPrKm0N8qkHhH1BOkSu6', 'iLkXetVRI93Xt32KJfY44CUfau1BgH4BHSotaDLHloaykLOmTR',\n",
    "                  '744995423308374017-ic5GQxFdUxYjgpFJSbAQ1rRaJluz4nJ', 'hZl4AAiu62CalzpY8BeJfX2wJXezROk0WsEhms9KxXQ4w')\n",
    "requests.get(url, auth=auth)\n",
    "\n",
    "\n",
    "searchWord = input(\"Please enter a search term: \")\n",
    "filepath = searchWord.replace(\" \",\"\").lower() \n",
    "searchWord = searchWord.replace(\" \", \"%20\")\n",
    "print(\"This is the search term: \" + searchWord)\n",
    "print(\"Path:\" + filepath)\n"
   ]
  },
  {
   "cell_type": "markdown",
   "metadata": {},
   "source": [
    "# Store data in json file by merging tweets to get unique tweets"
   ]
  },
  {
   "cell_type": "code",
   "execution_count": 32,
   "metadata": {
    "collapsed": false,
    "scrolled": false
   },
   "outputs": [
    {
     "name": "stdout",
     "output_type": "stream",
     "text": [
      "50\n"
     ]
    }
   ],
   "source": [
    "import os\n",
    "from datetime import datetime\n",
    "getTweet = 'https://api.twitter.com/1.1/search/tweets.json?q=%40'+searchWord+'&count=50'\n",
    "#print(requests.get(getTweet, auth=auth))\n",
    "#print(\"URL: \" + getTweet)\n",
    "#response = requests.get(getTweet, auth=auth)\n",
    "\n",
    "\n",
    "#print(data)\n",
    "#json_str = json.dumps(data)\n",
    "#data = json.loads(json_str)\n",
    "# Writing JSON data\n",
    "\n",
    "#if not os.path.exists(path):\n",
    "    #os.makedirs(path)\n",
    "\n",
    "def merge(query):\n",
    "    data = {}\n",
    "    while len(data) < 50:\n",
    "        response = requests.get(getTweet, auth = auth) \n",
    "        response = response.json()\n",
    "        for status in response['statuses']:\n",
    "            data[status['id']] = status \n",
    "        sleep(1)\n",
    "        #print(len(data))\n",
    "    return data\n",
    "\n",
    "data = merge(getTweet)\n",
    "#datetime.now().strftime('%H-%M')+ datetime.datetime.now().strftime(\"%B\") + dattime.now().strftime('%d%Y')+'.json'\n",
    "with open(filepath+'.json', 'w') as f:\n",
    "     json.dump(data, f)\n",
    "        \n",
    "print(len(data))"
   ]
  },
  {
   "cell_type": "markdown",
   "metadata": {},
   "source": [
    "# Time Zones"
   ]
  },
  {
   "cell_type": "code",
   "execution_count": 54,
   "metadata": {
    "collapsed": false
   },
   "outputs": [
    {
     "name": "stdout",
     "output_type": "stream",
     "text": [
      "Please enter a search term: arsenal\n",
      "{'La Paz': 1, 'Amsterdam': 4, 'Eastern Time (US & Canada)': 1, 'Jakarta': 2, 'Belgrade': 1, 'Pacific Time (US & Canada)': 2, 'Central Time (US & Canada)': 1, 'Atlantic Time (Canada)': 1, 'Baghdad': 2, 'Arizona': 1, 'Santiago': 1, 'London': 6, 'Caracas': 1, 'Kuala Lumpur': 4, 'Alaska': 1}\n",
      "['London', 'Amsterdam', 'Kuala Lumpur', 'Jakarta', 'Pacific Time (US & Canada)', 'Baghdad', 'La Paz', 'Eastern Time (US & Canada)', 'Belgrade', 'Central Time (US & Canada)', 'Atlantic Time (Canada)', 'Arizona', 'Santiago', 'Caracas', 'Alaska']\n"
     ]
    }
   ],
   "source": [
    "#TimeZones\n",
    "searchWord = input(\"Please enter a search term: \")\n",
    "filepath = searchWord.replace(\" \",\"\").lower() \n",
    "\n",
    "with open(filepath+'.json', 'r') as fr:\n",
    "    data = json.load(fr)\n",
    "time_zone_all = {}\n",
    "user_count = 0\n",
    "for id in data:\n",
    "    user = data[id]['user']\n",
    "    #user_count += 1\n",
    "    if user['time_zone'] is not None: \n",
    "        if user['time_zone'] in time_zone_all:\n",
    "            time_zone_all[user['time_zone']] += 1\n",
    "        else:\n",
    "            time_zone_all[user['time_zone']] = 1\n",
    "\n",
    "print(time_zone_all)\n",
    "\n",
    "#print(sorted(time_zone_all, key=lambda x: time_zone_all[x], reverse = True))\n",
    "\n",
    "top10 = sorted(time_zone_all, key=lambda x: time_zone_all[x], reverse = True)\n",
    "print(top10)\n",
    "#print(user_count)"
   ]
  },
  {
   "cell_type": "markdown",
   "metadata": {},
   "source": [
    "# Most frequent tweeter of this topic"
   ]
  },
  {
   "cell_type": "code",
   "execution_count": 39,
   "metadata": {
    "collapsed": false,
    "scrolled": true
   },
   "outputs": [
    {
     "name": "stdout",
     "output_type": "stream",
     "text": [
      "User ids and their tweet numbers: {'782118017283026944': 1, '875591588': 1, '794700272': 1, '315324834': 1, '552677481': 1, '2917143809': 1, '3402061834': 1, '2522563976': 1, '34613288': 1, '1267850144': 1, '52770629': 1, '232112151': 1, '183721151': 1, '457156955': 1, '232197456': 1, '725004480882728960': 1, '3897762856': 1, '278777267': 1, '2929426177': 1, '1186571000': 1, '2429950896': 1, '305056214': 1, '2184605048': 1, '169160623': 1, '169603805': 1, '576609286': 1, '1157287796': 1, '727161735879221248': 1, '235846342': 1, '2235926017': 1, '1524056150': 1, '597775186': 1, '791966016': 1, '2752474705': 2, '3208221315': 1, '2356315415': 1, '834249614': 1, '85893862': 1, '706744285': 1, '315225214': 1, '1676079120': 3, '2456402449': 1, '605520107': 1, '949890200': 1, '982133305': 1, '736539960': 1, '21879650': 1}\n",
      "User ID: 1676079120 Number of tweets on the topic 3 \n",
      "\n",
      "User ID: 2752474705 Number of tweets on the topic 2 \n",
      "\n",
      "User ID: 782118017283026944 Number of tweets on the topic 1 \n",
      "\n",
      "User ID: 875591588 Number of tweets on the topic 1 \n",
      "\n",
      "User ID: 794700272 Number of tweets on the topic 1 \n",
      "\n",
      "User ID: 315324834 Number of tweets on the topic 1 \n",
      "\n",
      "User ID: 552677481 Number of tweets on the topic 1 \n",
      "\n",
      "User ID: 2917143809 Number of tweets on the topic 1 \n",
      "\n",
      "User ID: 3402061834 Number of tweets on the topic 1 \n",
      "\n",
      "User ID: 2522563976 Number of tweets on the topic 1 \n",
      "\n",
      "47\n"
     ]
    }
   ],
   "source": [
    "searchWord = input(\"Please enter a search term: \")\n",
    "filepath = searchWord.replace(\" \",\"\").lower() \n",
    "\n",
    "with open(filepath+'.json', 'r') as fr:\n",
    "    data = json.load(fr)\n",
    "user_id_all = {}\n",
    "user_screenname_all = []\n",
    "for id in data:\n",
    "    user = data[id]['user']\n",
    "    if user['id_str'] is not None or user['screen_name'] is not None: \n",
    "        if user['id_str'] in user_id_all:\n",
    "            user_id_all[user['id_str']] += 1\n",
    "        else: \n",
    "            user_id_all[user['id_str']] = 1\n",
    "        user_screenname_all.append(user['screen_name'])\n",
    "print('User ids and their tweet numbers:',user_id_all)\n",
    "#print(len(user_id_all))\n",
    "for key, value in sorted(user_id_all.items(), key=lambda x: x[1], reverse = True)[:10]:\n",
    "    print('User ID:',key,'--- Number of tweets on the topic', value, '\\n')\n",
    "screen_name_unique = list(set(user_screenname_all))\n",
    "#print(screen_name_unique)\n",
    "print(len(screen_name_unique))\n",
    "#print(sorted(user_id_all, key=lambda x: user_id_all[x]))\n"
   ]
  },
  {
   "cell_type": "markdown",
   "metadata": {},
   "source": [
    "# Number of followers of the user - First level reach - through api"
   ]
  },
  {
   "cell_type": "code",
   "execution_count": 23,
   "metadata": {
    "collapsed": false,
    "scrolled": false
   },
   "outputs": [
    {
     "ename": "ConnectionError",
     "evalue": "('Connection aborted.', ConnectionResetError(10054, 'An existing connection was forcibly closed by the remote host', None, 10054, None))",
     "output_type": "error",
     "traceback": [
      "\u001b[1;31m---------------------------------------------------------------------------\u001b[0m",
      "\u001b[1;31mConnectionResetError\u001b[0m                      Traceback (most recent call last)",
      "\u001b[1;32mC:\\Users\\Priyanka\\Anaconda3\\lib\\site-packages\\requests\\packages\\urllib3\\connectionpool.py\u001b[0m in \u001b[0;36murlopen\u001b[1;34m(self, method, url, body, headers, retries, redirect, assert_same_host, timeout, pool_timeout, release_conn, chunked, **response_kw)\u001b[0m\n\u001b[0;32m    577\u001b[0m                                                   \u001b[0mbody\u001b[0m\u001b[1;33m=\u001b[0m\u001b[0mbody\u001b[0m\u001b[1;33m,\u001b[0m \u001b[0mheaders\u001b[0m\u001b[1;33m=\u001b[0m\u001b[0mheaders\u001b[0m\u001b[1;33m,\u001b[0m\u001b[1;33m\u001b[0m\u001b[0m\n\u001b[1;32m--> 578\u001b[1;33m                                                   chunked=chunked)\n\u001b[0m\u001b[0;32m    579\u001b[0m \u001b[1;33m\u001b[0m\u001b[0m\n",
      "\u001b[1;32mC:\\Users\\Priyanka\\Anaconda3\\lib\\site-packages\\requests\\packages\\urllib3\\connectionpool.py\u001b[0m in \u001b[0;36m_make_request\u001b[1;34m(self, conn, method, url, timeout, chunked, **httplib_request_kw)\u001b[0m\n\u001b[0;32m    350\u001b[0m         \u001b[1;32mtry\u001b[0m\u001b[1;33m:\u001b[0m\u001b[1;33m\u001b[0m\u001b[0m\n\u001b[1;32m--> 351\u001b[1;33m             \u001b[0mself\u001b[0m\u001b[1;33m.\u001b[0m\u001b[0m_validate_conn\u001b[0m\u001b[1;33m(\u001b[0m\u001b[0mconn\u001b[0m\u001b[1;33m)\u001b[0m\u001b[1;33m\u001b[0m\u001b[0m\n\u001b[0m\u001b[0;32m    352\u001b[0m         \u001b[1;32mexcept\u001b[0m \u001b[1;33m(\u001b[0m\u001b[0mSocketTimeout\u001b[0m\u001b[1;33m,\u001b[0m \u001b[0mBaseSSLError\u001b[0m\u001b[1;33m)\u001b[0m \u001b[1;32mas\u001b[0m \u001b[0me\u001b[0m\u001b[1;33m:\u001b[0m\u001b[1;33m\u001b[0m\u001b[0m\n",
      "\u001b[1;32mC:\\Users\\Priyanka\\Anaconda3\\lib\\site-packages\\requests\\packages\\urllib3\\connectionpool.py\u001b[0m in \u001b[0;36m_validate_conn\u001b[1;34m(self, conn)\u001b[0m\n\u001b[0;32m    813\u001b[0m         \u001b[1;32mif\u001b[0m \u001b[1;32mnot\u001b[0m \u001b[0mgetattr\u001b[0m\u001b[1;33m(\u001b[0m\u001b[0mconn\u001b[0m\u001b[1;33m,\u001b[0m \u001b[1;34m'sock'\u001b[0m\u001b[1;33m,\u001b[0m \u001b[1;32mNone\u001b[0m\u001b[1;33m)\u001b[0m\u001b[1;33m:\u001b[0m  \u001b[1;31m# AppEngine might not have  `.sock`\u001b[0m\u001b[1;33m\u001b[0m\u001b[0m\n\u001b[1;32m--> 814\u001b[1;33m             \u001b[0mconn\u001b[0m\u001b[1;33m.\u001b[0m\u001b[0mconnect\u001b[0m\u001b[1;33m(\u001b[0m\u001b[1;33m)\u001b[0m\u001b[1;33m\u001b[0m\u001b[0m\n\u001b[0m\u001b[0;32m    815\u001b[0m \u001b[1;33m\u001b[0m\u001b[0m\n",
      "\u001b[1;32mC:\\Users\\Priyanka\\Anaconda3\\lib\\site-packages\\requests\\packages\\urllib3\\connection.py\u001b[0m in \u001b[0;36mconnect\u001b[1;34m(self)\u001b[0m\n\u001b[0;32m    288\u001b[0m                                     \u001b[0mserver_hostname\u001b[0m\u001b[1;33m=\u001b[0m\u001b[0mhostname\u001b[0m\u001b[1;33m,\u001b[0m\u001b[1;33m\u001b[0m\u001b[0m\n\u001b[1;32m--> 289\u001b[1;33m                                     ssl_version=resolved_ssl_version)\n\u001b[0m\u001b[0;32m    290\u001b[0m \u001b[1;33m\u001b[0m\u001b[0m\n",
      "\u001b[1;32mC:\\Users\\Priyanka\\Anaconda3\\lib\\site-packages\\requests\\packages\\urllib3\\util\\ssl_.py\u001b[0m in \u001b[0;36mssl_wrap_socket\u001b[1;34m(sock, keyfile, certfile, cert_reqs, ca_certs, server_hostname, ssl_version, ciphers, ssl_context, ca_cert_dir)\u001b[0m\n\u001b[0;32m    307\u001b[0m     \u001b[1;32mif\u001b[0m \u001b[0mHAS_SNI\u001b[0m\u001b[1;33m:\u001b[0m  \u001b[1;31m# Platform-specific: OpenSSL with enabled SNI\u001b[0m\u001b[1;33m\u001b[0m\u001b[0m\n\u001b[1;32m--> 308\u001b[1;33m         \u001b[1;32mreturn\u001b[0m \u001b[0mcontext\u001b[0m\u001b[1;33m.\u001b[0m\u001b[0mwrap_socket\u001b[0m\u001b[1;33m(\u001b[0m\u001b[0msock\u001b[0m\u001b[1;33m,\u001b[0m \u001b[0mserver_hostname\u001b[0m\u001b[1;33m=\u001b[0m\u001b[0mserver_hostname\u001b[0m\u001b[1;33m)\u001b[0m\u001b[1;33m\u001b[0m\u001b[0m\n\u001b[0m\u001b[0;32m    309\u001b[0m \u001b[1;33m\u001b[0m\u001b[0m\n",
      "\u001b[1;32mC:\\Users\\Priyanka\\Anaconda3\\lib\\ssl.py\u001b[0m in \u001b[0;36mwrap_socket\u001b[1;34m(self, sock, server_side, do_handshake_on_connect, suppress_ragged_eofs, server_hostname)\u001b[0m\n\u001b[0;32m    376\u001b[0m                          \u001b[0mserver_hostname\u001b[0m\u001b[1;33m=\u001b[0m\u001b[0mserver_hostname\u001b[0m\u001b[1;33m,\u001b[0m\u001b[1;33m\u001b[0m\u001b[0m\n\u001b[1;32m--> 377\u001b[1;33m                          _context=self)\n\u001b[0m\u001b[0;32m    378\u001b[0m \u001b[1;33m\u001b[0m\u001b[0m\n",
      "\u001b[1;32mC:\\Users\\Priyanka\\Anaconda3\\lib\\ssl.py\u001b[0m in \u001b[0;36m__init__\u001b[1;34m(self, sock, keyfile, certfile, server_side, cert_reqs, ssl_version, ca_certs, do_handshake_on_connect, family, type, proto, fileno, suppress_ragged_eofs, npn_protocols, ciphers, server_hostname, _context)\u001b[0m\n\u001b[0;32m    751\u001b[0m                         \u001b[1;32mraise\u001b[0m \u001b[0mValueError\u001b[0m\u001b[1;33m(\u001b[0m\u001b[1;34m\"do_handshake_on_connect should not be specified for non-blocking sockets\"\u001b[0m\u001b[1;33m)\u001b[0m\u001b[1;33m\u001b[0m\u001b[0m\n\u001b[1;32m--> 752\u001b[1;33m                     \u001b[0mself\u001b[0m\u001b[1;33m.\u001b[0m\u001b[0mdo_handshake\u001b[0m\u001b[1;33m(\u001b[0m\u001b[1;33m)\u001b[0m\u001b[1;33m\u001b[0m\u001b[0m\n\u001b[0m\u001b[0;32m    753\u001b[0m \u001b[1;33m\u001b[0m\u001b[0m\n",
      "\u001b[1;32mC:\\Users\\Priyanka\\Anaconda3\\lib\\ssl.py\u001b[0m in \u001b[0;36mdo_handshake\u001b[1;34m(self, block)\u001b[0m\n\u001b[0;32m    987\u001b[0m                 \u001b[0mself\u001b[0m\u001b[1;33m.\u001b[0m\u001b[0msettimeout\u001b[0m\u001b[1;33m(\u001b[0m\u001b[1;32mNone\u001b[0m\u001b[1;33m)\u001b[0m\u001b[1;33m\u001b[0m\u001b[0m\n\u001b[1;32m--> 988\u001b[1;33m             \u001b[0mself\u001b[0m\u001b[1;33m.\u001b[0m\u001b[0m_sslobj\u001b[0m\u001b[1;33m.\u001b[0m\u001b[0mdo_handshake\u001b[0m\u001b[1;33m(\u001b[0m\u001b[1;33m)\u001b[0m\u001b[1;33m\u001b[0m\u001b[0m\n\u001b[0m\u001b[0;32m    989\u001b[0m         \u001b[1;32mfinally\u001b[0m\u001b[1;33m:\u001b[0m\u001b[1;33m\u001b[0m\u001b[0m\n",
      "\u001b[1;32mC:\\Users\\Priyanka\\Anaconda3\\lib\\ssl.py\u001b[0m in \u001b[0;36mdo_handshake\u001b[1;34m(self)\u001b[0m\n\u001b[0;32m    632\u001b[0m         \u001b[1;34m\"\"\"Start the SSL/TLS handshake.\"\"\"\u001b[0m\u001b[1;33m\u001b[0m\u001b[0m\n\u001b[1;32m--> 633\u001b[1;33m         \u001b[0mself\u001b[0m\u001b[1;33m.\u001b[0m\u001b[0m_sslobj\u001b[0m\u001b[1;33m.\u001b[0m\u001b[0mdo_handshake\u001b[0m\u001b[1;33m(\u001b[0m\u001b[1;33m)\u001b[0m\u001b[1;33m\u001b[0m\u001b[0m\n\u001b[0m\u001b[0;32m    634\u001b[0m         \u001b[1;32mif\u001b[0m \u001b[0mself\u001b[0m\u001b[1;33m.\u001b[0m\u001b[0mcontext\u001b[0m\u001b[1;33m.\u001b[0m\u001b[0mcheck_hostname\u001b[0m\u001b[1;33m:\u001b[0m\u001b[1;33m\u001b[0m\u001b[0m\n",
      "\u001b[1;31mConnectionResetError\u001b[0m: [WinError 10054] An existing connection was forcibly closed by the remote host",
      "\nDuring handling of the above exception, another exception occurred:\n",
      "\u001b[1;31mProtocolError\u001b[0m                             Traceback (most recent call last)",
      "\u001b[1;32mC:\\Users\\Priyanka\\Anaconda3\\lib\\site-packages\\requests\\adapters.py\u001b[0m in \u001b[0;36msend\u001b[1;34m(self, request, stream, timeout, verify, cert, proxies)\u001b[0m\n\u001b[0;32m    402\u001b[0m                     \u001b[0mretries\u001b[0m\u001b[1;33m=\u001b[0m\u001b[0mself\u001b[0m\u001b[1;33m.\u001b[0m\u001b[0mmax_retries\u001b[0m\u001b[1;33m,\u001b[0m\u001b[1;33m\u001b[0m\u001b[0m\n\u001b[1;32m--> 403\u001b[1;33m                     \u001b[0mtimeout\u001b[0m\u001b[1;33m=\u001b[0m\u001b[0mtimeout\u001b[0m\u001b[1;33m\u001b[0m\u001b[0m\n\u001b[0m\u001b[0;32m    404\u001b[0m                 )\n",
      "\u001b[1;32mC:\\Users\\Priyanka\\Anaconda3\\lib\\site-packages\\requests\\packages\\urllib3\\connectionpool.py\u001b[0m in \u001b[0;36murlopen\u001b[1;34m(self, method, url, body, headers, retries, redirect, assert_same_host, timeout, pool_timeout, release_conn, chunked, **response_kw)\u001b[0m\n\u001b[0;32m    622\u001b[0m             retries = retries.increment(method, url, error=e, _pool=self,\n\u001b[1;32m--> 623\u001b[1;33m                                         _stacktrace=sys.exc_info()[2])\n\u001b[0m\u001b[0;32m    624\u001b[0m             \u001b[0mretries\u001b[0m\u001b[1;33m.\u001b[0m\u001b[0msleep\u001b[0m\u001b[1;33m(\u001b[0m\u001b[1;33m)\u001b[0m\u001b[1;33m\u001b[0m\u001b[0m\n",
      "\u001b[1;32mC:\\Users\\Priyanka\\Anaconda3\\lib\\site-packages\\requests\\packages\\urllib3\\util\\retry.py\u001b[0m in \u001b[0;36mincrement\u001b[1;34m(self, method, url, response, error, _pool, _stacktrace)\u001b[0m\n\u001b[0;32m    254\u001b[0m             \u001b[1;32mif\u001b[0m \u001b[0mread\u001b[0m \u001b[1;32mis\u001b[0m \u001b[1;32mFalse\u001b[0m\u001b[1;33m:\u001b[0m\u001b[1;33m\u001b[0m\u001b[0m\n\u001b[1;32m--> 255\u001b[1;33m                 \u001b[1;32mraise\u001b[0m \u001b[0msix\u001b[0m\u001b[1;33m.\u001b[0m\u001b[0mreraise\u001b[0m\u001b[1;33m(\u001b[0m\u001b[0mtype\u001b[0m\u001b[1;33m(\u001b[0m\u001b[0merror\u001b[0m\u001b[1;33m)\u001b[0m\u001b[1;33m,\u001b[0m \u001b[0merror\u001b[0m\u001b[1;33m,\u001b[0m \u001b[0m_stacktrace\u001b[0m\u001b[1;33m)\u001b[0m\u001b[1;33m\u001b[0m\u001b[0m\n\u001b[0m\u001b[0;32m    256\u001b[0m             \u001b[1;32melif\u001b[0m \u001b[0mread\u001b[0m \u001b[1;32mis\u001b[0m \u001b[1;32mnot\u001b[0m \u001b[1;32mNone\u001b[0m\u001b[1;33m:\u001b[0m\u001b[1;33m\u001b[0m\u001b[0m\n",
      "\u001b[1;32mC:\\Users\\Priyanka\\Anaconda3\\lib\\site-packages\\requests\\packages\\urllib3\\packages\\six.py\u001b[0m in \u001b[0;36mreraise\u001b[1;34m(tp, value, tb)\u001b[0m\n\u001b[0;32m    308\u001b[0m         \u001b[1;32mif\u001b[0m \u001b[0mvalue\u001b[0m\u001b[1;33m.\u001b[0m\u001b[0m__traceback__\u001b[0m \u001b[1;32mis\u001b[0m \u001b[1;32mnot\u001b[0m \u001b[0mtb\u001b[0m\u001b[1;33m:\u001b[0m\u001b[1;33m\u001b[0m\u001b[0m\n\u001b[1;32m--> 309\u001b[1;33m             \u001b[1;32mraise\u001b[0m \u001b[0mvalue\u001b[0m\u001b[1;33m.\u001b[0m\u001b[0mwith_traceback\u001b[0m\u001b[1;33m(\u001b[0m\u001b[0mtb\u001b[0m\u001b[1;33m)\u001b[0m\u001b[1;33m\u001b[0m\u001b[0m\n\u001b[0m\u001b[0;32m    310\u001b[0m         \u001b[1;32mraise\u001b[0m \u001b[0mvalue\u001b[0m\u001b[1;33m\u001b[0m\u001b[0m\n",
      "\u001b[1;32mC:\\Users\\Priyanka\\Anaconda3\\lib\\site-packages\\requests\\packages\\urllib3\\connectionpool.py\u001b[0m in \u001b[0;36murlopen\u001b[1;34m(self, method, url, body, headers, retries, redirect, assert_same_host, timeout, pool_timeout, release_conn, chunked, **response_kw)\u001b[0m\n\u001b[0;32m    577\u001b[0m                                                   \u001b[0mbody\u001b[0m\u001b[1;33m=\u001b[0m\u001b[0mbody\u001b[0m\u001b[1;33m,\u001b[0m \u001b[0mheaders\u001b[0m\u001b[1;33m=\u001b[0m\u001b[0mheaders\u001b[0m\u001b[1;33m,\u001b[0m\u001b[1;33m\u001b[0m\u001b[0m\n\u001b[1;32m--> 578\u001b[1;33m                                                   chunked=chunked)\n\u001b[0m\u001b[0;32m    579\u001b[0m \u001b[1;33m\u001b[0m\u001b[0m\n",
      "\u001b[1;32mC:\\Users\\Priyanka\\Anaconda3\\lib\\site-packages\\requests\\packages\\urllib3\\connectionpool.py\u001b[0m in \u001b[0;36m_make_request\u001b[1;34m(self, conn, method, url, timeout, chunked, **httplib_request_kw)\u001b[0m\n\u001b[0;32m    350\u001b[0m         \u001b[1;32mtry\u001b[0m\u001b[1;33m:\u001b[0m\u001b[1;33m\u001b[0m\u001b[0m\n\u001b[1;32m--> 351\u001b[1;33m             \u001b[0mself\u001b[0m\u001b[1;33m.\u001b[0m\u001b[0m_validate_conn\u001b[0m\u001b[1;33m(\u001b[0m\u001b[0mconn\u001b[0m\u001b[1;33m)\u001b[0m\u001b[1;33m\u001b[0m\u001b[0m\n\u001b[0m\u001b[0;32m    352\u001b[0m         \u001b[1;32mexcept\u001b[0m \u001b[1;33m(\u001b[0m\u001b[0mSocketTimeout\u001b[0m\u001b[1;33m,\u001b[0m \u001b[0mBaseSSLError\u001b[0m\u001b[1;33m)\u001b[0m \u001b[1;32mas\u001b[0m \u001b[0me\u001b[0m\u001b[1;33m:\u001b[0m\u001b[1;33m\u001b[0m\u001b[0m\n",
      "\u001b[1;32mC:\\Users\\Priyanka\\Anaconda3\\lib\\site-packages\\requests\\packages\\urllib3\\connectionpool.py\u001b[0m in \u001b[0;36m_validate_conn\u001b[1;34m(self, conn)\u001b[0m\n\u001b[0;32m    813\u001b[0m         \u001b[1;32mif\u001b[0m \u001b[1;32mnot\u001b[0m \u001b[0mgetattr\u001b[0m\u001b[1;33m(\u001b[0m\u001b[0mconn\u001b[0m\u001b[1;33m,\u001b[0m \u001b[1;34m'sock'\u001b[0m\u001b[1;33m,\u001b[0m \u001b[1;32mNone\u001b[0m\u001b[1;33m)\u001b[0m\u001b[1;33m:\u001b[0m  \u001b[1;31m# AppEngine might not have  `.sock`\u001b[0m\u001b[1;33m\u001b[0m\u001b[0m\n\u001b[1;32m--> 814\u001b[1;33m             \u001b[0mconn\u001b[0m\u001b[1;33m.\u001b[0m\u001b[0mconnect\u001b[0m\u001b[1;33m(\u001b[0m\u001b[1;33m)\u001b[0m\u001b[1;33m\u001b[0m\u001b[0m\n\u001b[0m\u001b[0;32m    815\u001b[0m \u001b[1;33m\u001b[0m\u001b[0m\n",
      "\u001b[1;32mC:\\Users\\Priyanka\\Anaconda3\\lib\\site-packages\\requests\\packages\\urllib3\\connection.py\u001b[0m in \u001b[0;36mconnect\u001b[1;34m(self)\u001b[0m\n\u001b[0;32m    288\u001b[0m                                     \u001b[0mserver_hostname\u001b[0m\u001b[1;33m=\u001b[0m\u001b[0mhostname\u001b[0m\u001b[1;33m,\u001b[0m\u001b[1;33m\u001b[0m\u001b[0m\n\u001b[1;32m--> 289\u001b[1;33m                                     ssl_version=resolved_ssl_version)\n\u001b[0m\u001b[0;32m    290\u001b[0m \u001b[1;33m\u001b[0m\u001b[0m\n",
      "\u001b[1;32mC:\\Users\\Priyanka\\Anaconda3\\lib\\site-packages\\requests\\packages\\urllib3\\util\\ssl_.py\u001b[0m in \u001b[0;36mssl_wrap_socket\u001b[1;34m(sock, keyfile, certfile, cert_reqs, ca_certs, server_hostname, ssl_version, ciphers, ssl_context, ca_cert_dir)\u001b[0m\n\u001b[0;32m    307\u001b[0m     \u001b[1;32mif\u001b[0m \u001b[0mHAS_SNI\u001b[0m\u001b[1;33m:\u001b[0m  \u001b[1;31m# Platform-specific: OpenSSL with enabled SNI\u001b[0m\u001b[1;33m\u001b[0m\u001b[0m\n\u001b[1;32m--> 308\u001b[1;33m         \u001b[1;32mreturn\u001b[0m \u001b[0mcontext\u001b[0m\u001b[1;33m.\u001b[0m\u001b[0mwrap_socket\u001b[0m\u001b[1;33m(\u001b[0m\u001b[0msock\u001b[0m\u001b[1;33m,\u001b[0m \u001b[0mserver_hostname\u001b[0m\u001b[1;33m=\u001b[0m\u001b[0mserver_hostname\u001b[0m\u001b[1;33m)\u001b[0m\u001b[1;33m\u001b[0m\u001b[0m\n\u001b[0m\u001b[0;32m    309\u001b[0m \u001b[1;33m\u001b[0m\u001b[0m\n",
      "\u001b[1;32mC:\\Users\\Priyanka\\Anaconda3\\lib\\ssl.py\u001b[0m in \u001b[0;36mwrap_socket\u001b[1;34m(self, sock, server_side, do_handshake_on_connect, suppress_ragged_eofs, server_hostname)\u001b[0m\n\u001b[0;32m    376\u001b[0m                          \u001b[0mserver_hostname\u001b[0m\u001b[1;33m=\u001b[0m\u001b[0mserver_hostname\u001b[0m\u001b[1;33m,\u001b[0m\u001b[1;33m\u001b[0m\u001b[0m\n\u001b[1;32m--> 377\u001b[1;33m                          _context=self)\n\u001b[0m\u001b[0;32m    378\u001b[0m \u001b[1;33m\u001b[0m\u001b[0m\n",
      "\u001b[1;32mC:\\Users\\Priyanka\\Anaconda3\\lib\\ssl.py\u001b[0m in \u001b[0;36m__init__\u001b[1;34m(self, sock, keyfile, certfile, server_side, cert_reqs, ssl_version, ca_certs, do_handshake_on_connect, family, type, proto, fileno, suppress_ragged_eofs, npn_protocols, ciphers, server_hostname, _context)\u001b[0m\n\u001b[0;32m    751\u001b[0m                         \u001b[1;32mraise\u001b[0m \u001b[0mValueError\u001b[0m\u001b[1;33m(\u001b[0m\u001b[1;34m\"do_handshake_on_connect should not be specified for non-blocking sockets\"\u001b[0m\u001b[1;33m)\u001b[0m\u001b[1;33m\u001b[0m\u001b[0m\n\u001b[1;32m--> 752\u001b[1;33m                     \u001b[0mself\u001b[0m\u001b[1;33m.\u001b[0m\u001b[0mdo_handshake\u001b[0m\u001b[1;33m(\u001b[0m\u001b[1;33m)\u001b[0m\u001b[1;33m\u001b[0m\u001b[0m\n\u001b[0m\u001b[0;32m    753\u001b[0m \u001b[1;33m\u001b[0m\u001b[0m\n",
      "\u001b[1;32mC:\\Users\\Priyanka\\Anaconda3\\lib\\ssl.py\u001b[0m in \u001b[0;36mdo_handshake\u001b[1;34m(self, block)\u001b[0m\n\u001b[0;32m    987\u001b[0m                 \u001b[0mself\u001b[0m\u001b[1;33m.\u001b[0m\u001b[0msettimeout\u001b[0m\u001b[1;33m(\u001b[0m\u001b[1;32mNone\u001b[0m\u001b[1;33m)\u001b[0m\u001b[1;33m\u001b[0m\u001b[0m\n\u001b[1;32m--> 988\u001b[1;33m             \u001b[0mself\u001b[0m\u001b[1;33m.\u001b[0m\u001b[0m_sslobj\u001b[0m\u001b[1;33m.\u001b[0m\u001b[0mdo_handshake\u001b[0m\u001b[1;33m(\u001b[0m\u001b[1;33m)\u001b[0m\u001b[1;33m\u001b[0m\u001b[0m\n\u001b[0m\u001b[0;32m    989\u001b[0m         \u001b[1;32mfinally\u001b[0m\u001b[1;33m:\u001b[0m\u001b[1;33m\u001b[0m\u001b[0m\n",
      "\u001b[1;32mC:\\Users\\Priyanka\\Anaconda3\\lib\\ssl.py\u001b[0m in \u001b[0;36mdo_handshake\u001b[1;34m(self)\u001b[0m\n\u001b[0;32m    632\u001b[0m         \u001b[1;34m\"\"\"Start the SSL/TLS handshake.\"\"\"\u001b[0m\u001b[1;33m\u001b[0m\u001b[0m\n\u001b[1;32m--> 633\u001b[1;33m         \u001b[0mself\u001b[0m\u001b[1;33m.\u001b[0m\u001b[0m_sslobj\u001b[0m\u001b[1;33m.\u001b[0m\u001b[0mdo_handshake\u001b[0m\u001b[1;33m(\u001b[0m\u001b[1;33m)\u001b[0m\u001b[1;33m\u001b[0m\u001b[0m\n\u001b[0m\u001b[0;32m    634\u001b[0m         \u001b[1;32mif\u001b[0m \u001b[0mself\u001b[0m\u001b[1;33m.\u001b[0m\u001b[0mcontext\u001b[0m\u001b[1;33m.\u001b[0m\u001b[0mcheck_hostname\u001b[0m\u001b[1;33m:\u001b[0m\u001b[1;33m\u001b[0m\u001b[0m\n",
      "\u001b[1;31mProtocolError\u001b[0m: ('Connection aborted.', ConnectionResetError(10054, 'An existing connection was forcibly closed by the remote host', None, 10054, None))",
      "\nDuring handling of the above exception, another exception occurred:\n",
      "\u001b[1;31mConnectionError\u001b[0m                           Traceback (most recent call last)",
      "\u001b[1;32m<ipython-input-23-32d9574579d3>\u001b[0m in \u001b[0;36m<module>\u001b[1;34m()\u001b[0m\n\u001b[0;32m      5\u001b[0m     \u001b[0mgetUserInfo\u001b[0m \u001b[1;33m=\u001b[0m \u001b[1;34m'https://api.twitter.com/1.1/users/show.json?screen_name='\u001b[0m\u001b[1;33m+\u001b[0m\u001b[0muser_id\u001b[0m\u001b[1;33m\u001b[0m\u001b[0m\n\u001b[0;32m      6\u001b[0m \u001b[1;33m\u001b[0m\u001b[0m\n\u001b[1;32m----> 7\u001b[1;33m     \u001b[0mresponse\u001b[0m \u001b[1;33m=\u001b[0m \u001b[0mrequests\u001b[0m\u001b[1;33m.\u001b[0m\u001b[0mget\u001b[0m\u001b[1;33m(\u001b[0m\u001b[0mgetUserInfo\u001b[0m\u001b[1;33m,\u001b[0m \u001b[0mauth\u001b[0m \u001b[1;33m=\u001b[0m \u001b[0mauth\u001b[0m\u001b[1;33m)\u001b[0m\u001b[1;33m\u001b[0m\u001b[0m\n\u001b[0m\u001b[0;32m      8\u001b[0m     \u001b[0mresponse\u001b[0m \u001b[1;33m=\u001b[0m \u001b[0mresponse\u001b[0m\u001b[1;33m.\u001b[0m\u001b[0mjson\u001b[0m\u001b[1;33m(\u001b[0m\u001b[1;33m)\u001b[0m\u001b[1;33m\u001b[0m\u001b[0m\n\u001b[0;32m      9\u001b[0m     \u001b[0msleep\u001b[0m\u001b[1;33m(\u001b[0m\u001b[1;36m1\u001b[0m\u001b[1;33m)\u001b[0m\u001b[1;33m\u001b[0m\u001b[0m\n",
      "\u001b[1;32mC:\\Users\\Priyanka\\Anaconda3\\lib\\site-packages\\requests\\api.py\u001b[0m in \u001b[0;36mget\u001b[1;34m(url, params, **kwargs)\u001b[0m\n\u001b[0;32m     69\u001b[0m \u001b[1;33m\u001b[0m\u001b[0m\n\u001b[0;32m     70\u001b[0m     \u001b[0mkwargs\u001b[0m\u001b[1;33m.\u001b[0m\u001b[0msetdefault\u001b[0m\u001b[1;33m(\u001b[0m\u001b[1;34m'allow_redirects'\u001b[0m\u001b[1;33m,\u001b[0m \u001b[1;32mTrue\u001b[0m\u001b[1;33m)\u001b[0m\u001b[1;33m\u001b[0m\u001b[0m\n\u001b[1;32m---> 71\u001b[1;33m     \u001b[1;32mreturn\u001b[0m \u001b[0mrequest\u001b[0m\u001b[1;33m(\u001b[0m\u001b[1;34m'get'\u001b[0m\u001b[1;33m,\u001b[0m \u001b[0murl\u001b[0m\u001b[1;33m,\u001b[0m \u001b[0mparams\u001b[0m\u001b[1;33m=\u001b[0m\u001b[0mparams\u001b[0m\u001b[1;33m,\u001b[0m \u001b[1;33m**\u001b[0m\u001b[0mkwargs\u001b[0m\u001b[1;33m)\u001b[0m\u001b[1;33m\u001b[0m\u001b[0m\n\u001b[0m\u001b[0;32m     72\u001b[0m \u001b[1;33m\u001b[0m\u001b[0m\n\u001b[0;32m     73\u001b[0m \u001b[1;33m\u001b[0m\u001b[0m\n",
      "\u001b[1;32mC:\\Users\\Priyanka\\Anaconda3\\lib\\site-packages\\requests\\api.py\u001b[0m in \u001b[0;36mrequest\u001b[1;34m(method, url, **kwargs)\u001b[0m\n\u001b[0;32m     55\u001b[0m     \u001b[1;31m# cases, and look like a memory leak in others.\u001b[0m\u001b[1;33m\u001b[0m\u001b[1;33m\u001b[0m\u001b[0m\n\u001b[0;32m     56\u001b[0m     \u001b[1;32mwith\u001b[0m \u001b[0msessions\u001b[0m\u001b[1;33m.\u001b[0m\u001b[0mSession\u001b[0m\u001b[1;33m(\u001b[0m\u001b[1;33m)\u001b[0m \u001b[1;32mas\u001b[0m \u001b[0msession\u001b[0m\u001b[1;33m:\u001b[0m\u001b[1;33m\u001b[0m\u001b[0m\n\u001b[1;32m---> 57\u001b[1;33m         \u001b[1;32mreturn\u001b[0m \u001b[0msession\u001b[0m\u001b[1;33m.\u001b[0m\u001b[0mrequest\u001b[0m\u001b[1;33m(\u001b[0m\u001b[0mmethod\u001b[0m\u001b[1;33m=\u001b[0m\u001b[0mmethod\u001b[0m\u001b[1;33m,\u001b[0m \u001b[0murl\u001b[0m\u001b[1;33m=\u001b[0m\u001b[0murl\u001b[0m\u001b[1;33m,\u001b[0m \u001b[1;33m**\u001b[0m\u001b[0mkwargs\u001b[0m\u001b[1;33m)\u001b[0m\u001b[1;33m\u001b[0m\u001b[0m\n\u001b[0m\u001b[0;32m     58\u001b[0m \u001b[1;33m\u001b[0m\u001b[0m\n\u001b[0;32m     59\u001b[0m \u001b[1;33m\u001b[0m\u001b[0m\n",
      "\u001b[1;32mC:\\Users\\Priyanka\\Anaconda3\\lib\\site-packages\\requests\\sessions.py\u001b[0m in \u001b[0;36mrequest\u001b[1;34m(self, method, url, params, data, headers, cookies, files, auth, timeout, allow_redirects, proxies, hooks, stream, verify, cert, json)\u001b[0m\n\u001b[0;32m    473\u001b[0m         }\n\u001b[0;32m    474\u001b[0m         \u001b[0msend_kwargs\u001b[0m\u001b[1;33m.\u001b[0m\u001b[0mupdate\u001b[0m\u001b[1;33m(\u001b[0m\u001b[0msettings\u001b[0m\u001b[1;33m)\u001b[0m\u001b[1;33m\u001b[0m\u001b[0m\n\u001b[1;32m--> 475\u001b[1;33m         \u001b[0mresp\u001b[0m \u001b[1;33m=\u001b[0m \u001b[0mself\u001b[0m\u001b[1;33m.\u001b[0m\u001b[0msend\u001b[0m\u001b[1;33m(\u001b[0m\u001b[0mprep\u001b[0m\u001b[1;33m,\u001b[0m \u001b[1;33m**\u001b[0m\u001b[0msend_kwargs\u001b[0m\u001b[1;33m)\u001b[0m\u001b[1;33m\u001b[0m\u001b[0m\n\u001b[0m\u001b[0;32m    476\u001b[0m \u001b[1;33m\u001b[0m\u001b[0m\n\u001b[0;32m    477\u001b[0m         \u001b[1;32mreturn\u001b[0m \u001b[0mresp\u001b[0m\u001b[1;33m\u001b[0m\u001b[0m\n",
      "\u001b[1;32mC:\\Users\\Priyanka\\Anaconda3\\lib\\site-packages\\requests\\sessions.py\u001b[0m in \u001b[0;36msend\u001b[1;34m(self, request, **kwargs)\u001b[0m\n\u001b[0;32m    583\u001b[0m \u001b[1;33m\u001b[0m\u001b[0m\n\u001b[0;32m    584\u001b[0m         \u001b[1;31m# Send the request\u001b[0m\u001b[1;33m\u001b[0m\u001b[1;33m\u001b[0m\u001b[0m\n\u001b[1;32m--> 585\u001b[1;33m         \u001b[0mr\u001b[0m \u001b[1;33m=\u001b[0m \u001b[0madapter\u001b[0m\u001b[1;33m.\u001b[0m\u001b[0msend\u001b[0m\u001b[1;33m(\u001b[0m\u001b[0mrequest\u001b[0m\u001b[1;33m,\u001b[0m \u001b[1;33m**\u001b[0m\u001b[0mkwargs\u001b[0m\u001b[1;33m)\u001b[0m\u001b[1;33m\u001b[0m\u001b[0m\n\u001b[0m\u001b[0;32m    586\u001b[0m \u001b[1;33m\u001b[0m\u001b[0m\n\u001b[0;32m    587\u001b[0m         \u001b[1;31m# Total elapsed time of the request (approximately)\u001b[0m\u001b[1;33m\u001b[0m\u001b[1;33m\u001b[0m\u001b[0m\n",
      "\u001b[1;32mC:\\Users\\Priyanka\\Anaconda3\\lib\\site-packages\\requests\\adapters.py\u001b[0m in \u001b[0;36msend\u001b[1;34m(self, request, stream, timeout, verify, cert, proxies)\u001b[0m\n\u001b[0;32m    451\u001b[0m \u001b[1;33m\u001b[0m\u001b[0m\n\u001b[0;32m    452\u001b[0m         \u001b[1;32mexcept\u001b[0m \u001b[1;33m(\u001b[0m\u001b[0mProtocolError\u001b[0m\u001b[1;33m,\u001b[0m \u001b[0msocket\u001b[0m\u001b[1;33m.\u001b[0m\u001b[0merror\u001b[0m\u001b[1;33m)\u001b[0m \u001b[1;32mas\u001b[0m \u001b[0merr\u001b[0m\u001b[1;33m:\u001b[0m\u001b[1;33m\u001b[0m\u001b[0m\n\u001b[1;32m--> 453\u001b[1;33m             \u001b[1;32mraise\u001b[0m \u001b[0mConnectionError\u001b[0m\u001b[1;33m(\u001b[0m\u001b[0merr\u001b[0m\u001b[1;33m,\u001b[0m \u001b[0mrequest\u001b[0m\u001b[1;33m=\u001b[0m\u001b[0mrequest\u001b[0m\u001b[1;33m)\u001b[0m\u001b[1;33m\u001b[0m\u001b[0m\n\u001b[0m\u001b[0;32m    454\u001b[0m \u001b[1;33m\u001b[0m\u001b[0m\n\u001b[0;32m    455\u001b[0m         \u001b[1;32mexcept\u001b[0m \u001b[0mMaxRetryError\u001b[0m \u001b[1;32mas\u001b[0m \u001b[0me\u001b[0m\u001b[1;33m:\u001b[0m\u001b[1;33m\u001b[0m\u001b[0m\n",
      "\u001b[1;31mConnectionError\u001b[0m: ('Connection aborted.', ConnectionResetError(10054, 'An existing connection was forcibly closed by the remote host', None, 10054, None))"
     ]
    }
   ],
   "source": [
    "#number of followers with respect to the user\n",
    "level_one = {}\n",
    "for user_id in screen_name_unique:\n",
    "    #getFollowers = 'https://api.twitter.com/1.1/followers/ids.json?cursor=-1&user_id='+user_id+'&count=5000'\n",
    "    getUserInfo = 'https://api.twitter.com/1.1/users/show.json?screen_name='+user_id\n",
    "    \n",
    "    response = requests.get(getUserInfo, auth = auth) \n",
    "    response = response.json()\n",
    "    sleep(1)\n",
    "    if response['followers_count'] is not None:\n",
    "        level_one[user_id] = response['followers_count']\n",
    "        \n",
    "print(level_one)\n",
    "\n"
   ]
  },
  {
   "cell_type": "markdown",
   "metadata": {},
   "source": [
    "# Influential tweets by calculating followers and retweet_count"
   ]
  },
  {
   "cell_type": "code",
   "execution_count": 61,
   "metadata": {
    "collapsed": false,
    "scrolled": true
   },
   "outputs": [
    {
     "name": "stdout",
     "output_type": "stream",
     "text": [
      "Please enter a search term: arsenal\n",
      "Below are the tweets which are influential with their value of influence = retweet_count * followers_count\n",
      "Status ID:  790988769243652096 \n",
      " RT @KallyBean: View for tonight. Lots of goals please @Arsenal #AFCvRFC https://t.co/vijjyjabXt \n",
      " Value of Influence: 24945594 \n",
      " \n",
      "\n",
      "Status ID:  790988803435552770 \n",
      " RT @Arsenal: Jenko's back in the side tonight - 898 days since his last @Arsenal appearance when he did this... https://t.co/4mCOQUnws3 \n",
      " Value of Influence: 9900240 \n",
      " \n",
      "\n",
      "Status ID:  790988870028451840 \n",
      " RT @Arsenal: Here it is, your @Arsenal team to face @ReadingFC \n",
      "\n",
      "#AFCvRFC https://t.co/C4phgHjayy \n",
      " Value of Influence: 5206620 \n",
      " \n",
      "\n",
      "Status ID:  790988771760177153 \n",
      " RT @Arsenal: The thoughts of everyone at Arsenal are with the family and friends of Carlos Alberto https://t.co/U50gkOwZAY \n",
      " Value of Influence: 4615794 \n",
      " \n",
      "\n",
      "Status ID:  790988862751404032 \n",
      " RT @Arsenal: Here it is, your @Arsenal team to face @ReadingFC \n",
      "\n",
      "#AFCvRFC https://t.co/C4phgHjayy \n",
      " Value of Influence: 2407500 \n",
      " \n",
      "\n",
      "Status ID:  790988871689351169 \n",
      " RT @Arsenal: Here it is, your @Arsenal team to face @ReadingFC \n",
      "\n",
      "#AFCvRFC https://t.co/C4phgHjayy \n",
      " Value of Influence: 1782620 \n",
      " \n",
      "\n",
      "Status ID:  790988865393664000 \n",
      " RT @Arsenal: Our team in text form for those asking: Martinez, Jenkinson, Holding, Gabriel, Gibbs, Elneny, Maitland-Niles, Ox, Jeff, Iwobi,… \n",
      " Value of Influence: 1178025 \n",
      " \n",
      "\n",
      "Status ID:  790988830031671301 \n",
      " RT @Arsenal: Last time we played Reading in the League Cup, this happened...\n",
      "\n",
      "#AFCvRFC https://t.co/JH5vnxV4Cg \n",
      " Value of Influence: 1170312 \n",
      " \n",
      "\n",
      "Status ID:  790988821089382400 \n",
      " RT @Arsenal: Here it is, your @Arsenal team to face @ReadingFC \n",
      "\n",
      "#AFCvRFC https://t.co/C4phgHjayy \n",
      " Value of Influence: 864560 \n",
      " \n",
      "\n",
      "Status ID:  790988891968966656 \n",
      " RT @Arsenal: Last time we played Reading in the League Cup, this happened...\n",
      "\n",
      "#AFCvRFC https://t.co/JH5vnxV4Cg \n",
      " Value of Influence: 555334 \n",
      " \n",
      "\n",
      "Status ID:  790988769243652096 \n",
      " length of the tweet: 95 \n",
      " Favourite count:  3220 \n",
      " Value of Influence: 24945594 \n",
      " \n",
      "\n",
      "Status ID:  790988803435552770 \n",
      " length of the tweet: 135 \n",
      " Favourite count:  161 \n",
      " Value of Influence: 9900240 \n",
      " \n",
      "\n",
      "Status ID:  790988870028451840 \n",
      " length of the tweet: 97 \n",
      " Favourite count:  477 \n",
      " Value of Influence: 5206620 \n",
      " \n",
      "\n",
      "Status ID:  790988771760177153 \n",
      " length of the tweet: 122 \n",
      " Favourite count:  29113 \n",
      " Value of Influence: 4615794 \n",
      " \n",
      "\n",
      "Status ID:  790988862751404032 \n",
      " length of the tweet: 97 \n",
      " Favourite count:  10931 \n",
      " Value of Influence: 2407500 \n",
      " \n",
      "\n",
      "Status ID:  790988871689351169 \n",
      " length of the tweet: 97 \n",
      " Favourite count:  1297 \n",
      " Value of Influence: 1782620 \n",
      " \n",
      "\n",
      "Status ID:  790988865393664000 \n",
      " length of the tweet: 140 \n",
      " Favourite count:  63 \n",
      " Value of Influence: 1178025 \n",
      " \n",
      "\n",
      "Status ID:  790988830031671301 \n",
      " length of the tweet: 110 \n",
      " Favourite count:  31960 \n",
      " Value of Influence: 1170312 \n",
      " \n",
      "\n",
      "Status ID:  790988821089382400 \n",
      " length of the tweet: 97 \n",
      " Favourite count:  22142 \n",
      " Value of Influence: 864560 \n",
      " \n",
      "\n",
      "Status ID:  790988891968966656 \n",
      " length of the tweet: 110 \n",
      " Favourite count:  2934 \n",
      " Value of Influence: 555334 \n",
      " \n",
      "\n",
      "{'790988803435552770': 161, '790988891968966656': 2934, '790988830031671301': 31960, '790988871689351169': 1297, '790988865393664000': 63, '790988771760177153': 29113, '790988821089382400': 22142, '790988870028451840': 477, '790988769243652096': 3220, '790988862751404032': 10931} \n",
      "\n",
      "length of tweet {'790988803435552770': 135, '790988891968966656': 110, '790988830031671301': 110, '790988871689351169': 97, '790988865393664000': 140, '790988771760177153': 122, '790988821089382400': 97, '790988870028451840': 97, '790988769243652096': 95, '790988862751404032': 97}\n"
     ]
    }
   ],
   "source": [
    "# get the id's of users who have retweeted the status id\n",
    "#retweeteduser = {}\n",
    "searchWord = input(\"Please enter a search term: \")\n",
    "filepath = searchWord.replace(\" \",\"\").lower() \n",
    "\n",
    "with open(filepath+'.json', 'r') as fr:\n",
    "    data = json.load(fr)\n",
    "\n",
    "influential_tweets = {}\n",
    "for key in data:\n",
    "    #print('key: ',key)\n",
    "    #print('retweet', data[key]['retweet_count'])\n",
    "    if data[key]['retweet_count'] > 0:\n",
    "        retweet_count = data[key]['retweet_count']\n",
    "        #print('retweet_count > 0: ' , retweet_count)\n",
    "        \n",
    "        followers_count = data[key]['user']['followers_count']\n",
    "        #print('followers_count: ' , followers_count )\n",
    "        product = retweet_count * followers_count\n",
    "        influential_tweets[key] = product\n",
    "        #print('Product:', product)\n",
    "print(\"Below are the tweets which are influential with their value of influence = retweet_count * followers_count\")\n",
    "for key, value in sorted(influential_tweets.items(), key=lambda x: x[1], reverse = True)[:10]:\n",
    "    print('Status ID: ',key,'\\n',data[key]['text'],'\\n','Value of Influence:', value, '\\n','\\n')\n",
    "\n",
    "    #if data[key]['retweet_count'] > 0:\n",
    "     #   getReTweetedId = 'https://api.twitter.com/1.1/statuses/retweeters/ids.json?id='+key+'&count=100&stringify_ids=true'\n",
    "          #response = requests.get(getReTweetedId, auth=auth)\n",
    "        #response = response.json()\n",
    "        #print(response)\n",
    "    #sleep(1)\n",
    "    \n",
    "# to calculate the engagement of a tweet\n",
    "fav_count = {}\n",
    "length_tweet = {}\n",
    "# for every key- status id in influential tweet find favorite count\n",
    "for key, value in sorted(influential_tweets.items(), key=lambda x: x[1], reverse = True)[:10]:\n",
    "    print('Status ID: ',key,'\\n','length of the tweet:', len(data[key]['text']),'\\n','Favourite count: ',data[key]['user']['favourites_count'],'\\n','Value of Influence:', value, '\\n','\\n')\n",
    "\n",
    "    fav_count[key] = data[key]['user']['favourites_count']\n",
    "    length_tweet[key] = len(data[key]['text'])\n",
    "print(fav_count,'\\n')\n",
    "print('length of tweet', length_tweet)\n",
    "\n",
    "# engagement can be length of the tweet for the influential value\n",
    "\n",
    "\n",
    "#print(retweeteduser['id'])"
   ]
  },
  {
   "cell_type": "markdown",
   "metadata": {},
   "source": [
    "# to get al the user ID's of those who have retweeted the tweet"
   ]
  },
  {
   "cell_type": "code",
   "execution_count": 8,
   "metadata": {
    "collapsed": false
   },
   "outputs": [
    {
     "name": "stdout",
     "output_type": "stream",
     "text": [
      "{'ids': [], 'next_cursor': 0, 'previous_cursor': 0, 'previous_cursor_str': '0', 'next_cursor_str': '0'}\n"
     ]
    }
   ],
   "source": [
    "getReTweetedId = 'https://api.twitter.com/1.1/statuses/retweeters/ids.json?id=790672589605568513&count=100&stringify_ids=true'\n",
    "response = requests.get(getReTweetedId, auth=auth)\n",
    "response = response.json()\n",
    "\n",
    "print(response)\n",
    "    "
   ]
  },
  {
   "cell_type": "markdown",
   "metadata": {},
   "source": [
    "# To remove tokenize tweets and process"
   ]
  },
  {
   "cell_type": "code",
   "execution_count": 55,
   "metadata": {
    "collapsed": false
   },
   "outputs": [
    {
     "name": "stdout",
     "output_type": "stream",
     "text": [
      "Please enter a search term: arsenal\n",
      "[['RT', '@Arsenal', ':', \"Jenko's\", 'back', 'in', 'the', 'side', 'tonight', '-', '898', 'days', 'since', 'his', 'last', '@Arsenal', 'appearance', 'when', 'he', 'did', 'this', '.', '.', '.', 'https://t.co/4mCOQUnws3'], ['RT', '@Arsenal', ':', 'Which', 'of', 'our', 'academy', 'products', 'are', 'you', 'most', 'looking', 'forward', 'to', 'seeing', 'in', 'action', 'tonight', '?', '#AFCvRFC'], ['RT', '@Arsenal', ':', 'Not', 'long', 'to', 'go', 'now', '-', 'and', 'we', 'want', 'your', 'predictions', 'for', '#AFCvRFC', 'Send', 'us', 'the', 'following', '⚽', 'First', 'scorer', '⏲', 'Time', 'of', 'first', 'goal', '🔴', 'F', '…'], ['RT', '@Arsenal', ':', \"Jenko's\", 'back', 'in', 'the', 'side', 'tonight', '-', '898', 'days', 'since', 'his', 'last', '@Arsenal', 'appearance', 'when', 'he', 'did', 'this', '.', '.', '.', 'https://t.co/4mCOQUnws3'], ['RT', '@Arsenal', ':', 'Reading', 'get', 'us', 'underway', '-', 'come', 'on', 'you', 'Gunners', '!', 'Listen', 'LIVE', '➡', '️', 'https://t.co/fh4Fyeou4V', '#AFCvRFC', '🔴', '0', '-', '0', '🔵', '(', '1', ')', 'https://t.co/EYn', '…'], ['RT', '@Arsenal', ':', 'Reading', 'get', 'us', 'underway', '-', 'come', 'on', 'you', 'Gunners', '!', 'Listen', 'LIVE', '➡', '️', 'https://t.co/fh4Fyeou4V', '#AFCvRFC', '🔴', '0', '-', '0', '🔵', '(', '1', ')', 'https://t.co/EYn', '…'], ['@Arsenal', 'Cmon', 'lads', '!', '#COYG'], ['@arsenal', 'Lucas', ',', '18', 'minutes', ',', 'FT', ':', '3', '-', '0'], ['RT', '@WestHamUtd', ':', 'Good', 'luck', 'to', '@carljenkinson', 'on', 'his', 'return', 'to', 'action', 'for', '@Arsenal', 'in', 'this', 'evening', '👊', 'https://t.co/f1Ij0mTW91'], ['RT', '@Arsenal', ':', 'Here', 'it', 'is', ',', 'your', '@Arsenal', 'team', 'to', 'face', '@ReadingFC', '#AFCvRFC', 'https://t.co/C4phgHjayy'], ['RT', '@Arsenal', ':', 'Reading', 'get', 'us', 'underway', '-', 'come', 'on', 'you', 'Gunners', '!', 'Listen', 'LIVE', '➡', '️', 'https://t.co/fh4Fyeou4V', '#AFCvRFC', '🔴', '0', '-', '0', '🔵', '(', '1', ')', 'https://t.co/EYn', '…'], ['RT', '@Arsenal', ':', 'Reading', 'get', 'us', 'underway', '-', 'come', 'on', 'you', 'Gunners', '!', 'Listen', 'LIVE', '➡', '️', 'https://t.co/fh4Fyeou4V', '#AFCvRFC', '🔴', '0', '-', '0', '🔵', '(', '1', ')', 'https://t.co/EYn', '…'], ['RT', '@WestHamUtd', ':', 'Good', 'luck', 'to', '@carljenkinson', 'on', 'his', 'return', 'to', 'action', 'for', '@Arsenal', 'in', 'this', 'evening', '👊', 'https://t.co/f1Ij0mTW91'], ['@onrey88', '@ModRta', '@Arsenal', '@ReadingFC', 'قعدت', 'أدو', 'ّ', 'ر', 'عادل', 'عيد', 'و', 'مالقيته', '😂', '.', '.'], ['RT', '@Arsenal', ':', 'The', 'thoughts', 'of', 'everyone', 'at', 'Arsenal', 'are', 'with', 'the', 'family', 'and', 'friends', 'of', 'Carlos', 'Alberto', 'https://t.co/U50gkOwZAY'], ['Lets', 'go', '#arsenal', '@Arsenal', '!', 'Arsenal', 'vs', '.', 'Reading', 'has', 'started', 'at', 'Emirates', 'Stadium', '.', '(', 'ESPN', ')', 'https://t.co/r6UdKQYen4'], ['RT', '@Arsenal', ':', \"Jenko's\", 'back', 'in', 'the', 'side', 'tonight', '-', '898', 'days', 'since', 'his', 'last', '@Arsenal', 'appearance', 'when', 'he', 'did', 'this', '.', '.', '.', 'https://t.co/4mCOQUnws3'], ['RT', '@Arsenal', ':', 'Reading', 'get', 'us', 'underway', '-', 'come', 'on', 'you', 'Gunners', '!', 'Listen', 'LIVE', '➡', '️', 'https://t.co/fh4Fyeou4V', '#AFCvRFC', '🔴', '0', '-', '0', '🔵', '(', '1', ')', 'https://t.co/EYn', '…'], ['RT', '@WestHamUtd', ':', 'Good', 'luck', 'to', '@carljenkinson', 'on', 'his', 'return', 'to', 'action', 'for', '@Arsenal', 'in', 'this', 'evening', '👊', 'https://t.co/f1Ij0mTW91'], ['@ReadingFC', '@Arsenal', 'Live', 'HD', 'stream', 'Arsenal', 'vs', 'Reading', 'FC', 'https://t.co/O53s3wNa87', 'https://t.co/XusE9wX23z'], ['RT', '@WestHamUtd', ':', 'Good', 'luck', 'to', '@carljenkinson', 'on', 'his', 'return', 'to', 'action', 'for', '@Arsenal', 'in', 'this', 'evening', '👊', 'https://t.co/f1Ij0mTW91'], ['Can', 'you', 'imagine', 'having', '3', 'kids', 'who', 'all', 'want', '@Arsenal', 'shirts', 'in', 'next', 'few', 'years', '.', 'Names', 'of', 'Maitland-Niles', ',', 'Oxlade-Chamberlain', ',', '&', 'amp', ';', 'Reine-Adelaide', '😳', '😂'], ['@arsenal', 'who', 'is', 'our', 'captain', 'tonight'], ['RT', '@Arsenal', ':', 'Last', 'time', 'we', 'played', 'Reading', 'in', 'the', 'League', 'Cup', ',', 'this', 'happened', '.', '.', '.', '#AFCvRFC', 'https://t.co/JH5vnxV4Cg'], ['@Arsenal', 'Live', 'HD', 'stream', 'Arsenal', 'vs', 'Reading', 'FC', 'https://t.co/O53s3wNa87', 'https://t.co/rETecqz8MU'], ['Lets', 'go', '#arsenal', '@Arsenal', '!', 'Arsenal', 'vs', '.', 'Reading', 'has', 'started', 'at', 'Emirates', 'Stadium', '.', '(', 'ESPN', ')', 'https://t.co/Cq834erHiQ'], ['@Arsenal', 'we', 'watch', 'iwobi', 'every', 'weekend', 'lol'], ['@KallyBean', '@Arsenal', 'Live', 'HD', 'stream', 'Arsenal', 'vs', 'Reading', 'FC', 'https://t.co/O53s3wNa87', 'https://t.co/sG8jwrFTzE'], ['RT', '@Arsenal', ':', 'Last', 'time', 'we', 'played', 'Reading', 'in', 'the', 'League', 'Cup', ',', 'this', 'happened', '.', '.', '.', '#AFCvRFC', 'https://t.co/JH5vnxV4Cg'], ['RT', '@mj_afc', ':', '@Arsenal', 'Iwobi', ',', '17', 'mins', 'Arsenal', '3', 'Reading', '1'], ['@Faiqsaroni', '@Arsenal', '@__arsenalnews_', 'live', 'skrg', 'la', 'wei', 'https://t.co/jGMdXhXbbE'], ['RT', '@Arsenal', ':', 'Our', 'team', 'in', 'text', 'form', 'for', 'those', 'asking', ':', 'Martinez', ',', 'Jenkinson', ',', 'Holding', ',', 'Gabriel', ',', 'Gibbs', ',', 'Elneny', ',', 'Maitland-Niles', ',', 'Ox', ',', 'Jeff', ',', 'Iwobi', ',', '…'], ['RT', '@zacxmahrouche', ':', '@Arsenal', 'He', 'is', 'Arsenal'], ['RT', '@_CarltonCole9', ':', '@WestHamUtd', '@carljenkinson', '@Arsenal', 'West', 'Ham', 'legend'], ['RT', '@Arsenal', ':', 'Here', 'it', 'is', ',', 'your', '@Arsenal', 'team', 'to', 'face', '@ReadingFC', '#AFCvRFC', 'https://t.co/C4phgHjayy'], ['RT', '@otslondon', ':', 'Michaels', '#Arsenal', 'Top', '&', 'amp', ';', 'Jacket', 'so', 'kindly', 'given', 'to', 'him', 'by', '@DJ_A_S_L', 'all', 'ready', 'for', 'him', 'to', 'wear', 'later', '@arsenal', '#homeless', '#first', '…'], ['RT', '@Arsenal', ':', 'Here', 'it', 'is', ',', 'your', '@Arsenal', 'team', 'to', 'face', '@ReadingFC', '#AFCvRFC', 'https://t.co/C4phgHjayy'], ['RT', '@LP10oficial', ':', '#AFCvRFC', '🔴', '⚪', '️', '🏆', '🔴', '⚪', '️', '⚽', '️', '⚽', '️', '#AFC', '#Arsenal', '@Arsenal', 'https://t.co/deVmPx7l6J'], ['@Arsenal', '3', '-', '1', 'Iwobi', 'first', 'goal', '27', 'th', 'min', '.'], ['RT', '@Arsenal', ':', 'The', 'thoughts', 'of', 'everyone', 'at', 'Arsenal', 'are', 'with', 'the', 'family', 'and', 'friends', 'of', 'Carlos', 'Alberto', 'https://t.co/U50gkOwZAY'], ['RT', '@Arsenal', ':', 'Our', 'team', 'in', 'text', 'form', 'for', 'those', 'asking', ':', 'Martinez', ',', 'Jenkinson', ',', 'Holding', ',', 'Gabriel', ',', 'Gibbs', ',', 'Elneny', ',', 'Maitland-Niles', ',', 'Ox', ',', 'Jeff', ',', 'Iwobi', ',', '…'], ['RT', '@Arsenal', ':', 'Reading', 'get', 'us', 'underway', '-', 'come', 'on', 'you', 'Gunners', '!', 'Listen', 'LIVE', '➡', '️', 'https://t.co/fh4Fyeou4V', '#AFCvRFC', '🔴', '0', '-', '0', '🔵', '(', '1', ')', 'https://t.co/EYn', '…'], ['RT', '@EFLCup', ':', 'Tonight', ':', '#EFLCup', 'Round', 'Four', '.', '@Arsenal', 'v', '@ReadingFC', '.', 'Do', 'you', 'remember', 'the', 'last', 'time', '?', '👀', 'https://t.co/h6ftGtKP3V'], ['RT', '@Arsenal', ':', 'Reading', 'get', 'us', 'underway', '-', 'come', 'on', 'you', 'Gunners', '!', 'Listen', 'LIVE', '➡', '️', 'https://t.co/fh4Fyeou4V', '#AFCvRFC', '🔴', '0', '-', '0', '🔵', '(', '1', ')', 'https://t.co/EYn', '…'], ['RT', '@Arsenal', ':', 'Here', 'it', 'is', ',', 'your', '@Arsenal', 'team', 'to', 'face', '@ReadingFC', '#AFCvRFC', 'https://t.co/C4phgHjayy'], ['RT', '@Arsenal', ':', 'Reading', 'get', 'us', 'underway', '-', 'come', 'on', 'you', 'Gunners', '!', 'Listen', 'LIVE', '➡', '️', 'https://t.co/fh4Fyeou4V', '#AFCvRFC', '🔴', '0', '-', '0', '🔵', '(', '1', ')', 'https://t.co/EYn', '…'], ['RT', '@Arsenal', ':', 'Here', 'it', 'is', ',', 'your', '@Arsenal', 'team', 'to', 'face', '@ReadingFC', '#AFCvRFC', 'https://t.co/C4phgHjayy'], ['@arsenal', '#COYG'], ['RT', '@Arsenal', ':', 'Here', 'it', 'is', ',', 'your', '@Arsenal', 'team', 'to', 'face', '@ReadingFC', '#AFCvRFC', 'https://t.co/C4phgHjayy'], ['RT', '@KallyBean', ':', 'View', 'for', 'tonight', '.', 'Lots', 'of', 'goals', 'please', '@Arsenal', '#AFCvRFC', 'https://t.co/vijjyjabXt']]\n"
     ]
    }
   ],
   "source": [
    "#pre processing\n",
    "import nltk\n",
    "import re\n",
    "#nltk.download('punkt')\n",
    "\n",
    "from nltk.tokenize import word_tokenize\n",
    "\n",
    "emoticons_str = r\"\"\"\n",
    "    (?:\n",
    "        [:=;] # Eyes\n",
    "        [oO\\-]? # Nose (optional)\n",
    "        [D\\)\\]\\(\\]/\\\\OpP] # Mouth\n",
    "    )\"\"\"\n",
    " \n",
    "regex_str = [\n",
    "    emoticons_str,\n",
    "    r'<[^>]+>', # HTML tags\n",
    "    r'(?:@[\\w_]+)', # @-mentions\n",
    "    r\"(?:\\#+[\\w_]+[\\w\\'_\\-]*[\\w_]+)\", # hash-tags\n",
    "    r'http[s]?://(?:[a-z]|[0-9]|[$-_@.&amp;+]|[!*\\(\\),]|(?:%[0-9a-f][0-9a-f]))+', # URLs\n",
    " \n",
    "    r'(?:(?:\\d+,?)+(?:\\.?\\d+)?)', # numbers\n",
    "    r\"(?:[a-z][a-z'\\-_]+[a-z])\", # words with - and '\n",
    "    r'(?:[\\w_]+)', # other words\n",
    "    r'(?:\\S)' # anything else\n",
    "]\n",
    "    \n",
    "tokens_re = re.compile(r'('+'|'.join(regex_str)+')', re.VERBOSE | re.IGNORECASE)\n",
    "emoticon_re = re.compile(r'^'+emoticons_str+'$', re.VERBOSE | re.IGNORECASE)\n",
    " \n",
    "def tokenize(s):\n",
    "    return tokens_re.findall(s)\n",
    " \n",
    "def preprocess(s, lowercase=False):\n",
    "    tokens = tokenize(s)\n",
    "    if lowercase:\n",
    "        tokens = [token if emoticon_re.search(token) else token.lower() for token in tokens]\n",
    "    return tokens\n",
    "searchWord = input(\"Please enter a search term: \")\n",
    "filepath = searchWord.replace(\" \",\"\").lower() \n",
    "\n",
    "with open(filepath+'.json', 'r') as fr:\n",
    "    data = json.load(fr)\n",
    "\n",
    "\n",
    "tweets_tokenized = []\n",
    "for id in data:\n",
    "    tweet = data[id]['text']\n",
    "    tweets_tokenized.append(preprocess(tweet))\n",
    "\n",
    "\n",
    "print(tweets_tokenized)"
   ]
  },
  {
   "cell_type": "markdown",
   "metadata": {},
   "source": [
    "# To calculate  frequency"
   ]
  },
  {
   "cell_type": "code",
   "execution_count": 50,
   "metadata": {
    "collapsed": false
   },
   "outputs": [
    {
     "name": "stdout",
     "output_type": "stream",
     "text": [
      "[('@Arsenal', 55), (':', 40), ('RT', 36), (',', 33), ('.', 26)]\n"
     ]
    }
   ],
   "source": [
    "import operator \n",
    "import json\n",
    "import nltk\n",
    "import string\n",
    "\n",
    "from nltk.corpus import stopwords\n",
    "\n",
    "from collections import Counter\n",
    "punctuation = list(string.punctuation)\n",
    "\n",
    "stop = stopwords.words('english') + punctuation + ['rt', 'via']\n",
    "\n",
    "count_all = Counter()\n",
    "for line in tweets_tokenized:\n",
    "    if line not in stop:\n",
    "        count_all.update(line)\n",
    "print(count_all.most_common(5))\n"
   ]
  },
  {
   "cell_type": "markdown",
   "metadata": {},
   "source": [
    "# To remove stop words and calculate frequency"
   ]
  },
  {
   "cell_type": "code",
   "execution_count": 51,
   "metadata": {
    "collapsed": false
   },
   "outputs": [
    {
     "name": "stdout",
     "output_type": "stream",
     "text": [
      "[('RT', 8599), ('0', 4492), ('Reading', 4044), ('…', 2873), ('🔴', 2791), ('us', 2602), ('️', 2592), ('1', 2335), ('get', 2134), ('underway', 2118), ('come', 2110), ('Gunners', 2102), ('Listen', 2094), ('LIVE', 2086), ('Arsenal', 2082), ('➡', 2078), ('https://t.co/fh4Fyeou4V', 2062), ('🔵', 2030), ('https://t.co/EYn', 2014), ('tonight', 2011), ('action', 1793), ('last', 1326), ('Good', 1320), ('luck', 1316), ('return', 1312), ('evening', 1304), ('👊', 1300), ('https://t.co/f1Ij0mTW91', 1296), (\"Jenko's\", 1283), ('back', 1280), ('side', 1277), ('vs', 1273), ('898', 1271), ('days', 1268), ('since', 1265), ('appearance', 1259), ('https://t.co/4mCOQUnws3', 1256), ('team', 1045), ('go', 1036), ('3', 987), ('Here', 765), ('face', 753), ('https://t.co/C4phgHjayy', 747), ('want', 739), ('Live', 733), ('⚽', 732), ('HD', 730), ('stream', 727), ('FC', 715), ('https://t.co/O53s3wNa87', 712)]\n"
     ]
    }
   ],
   "source": [
    "#to remove stop words\n",
    "import nltk\n",
    "from nltk import bigrams \n",
    "\n",
    "from nltk.corpus import stopwords\n",
    "#nltk.download()\n",
    "from collections import Counter\n",
    " \n",
    "\n",
    "import string\n",
    " \n",
    "punctuation = list(string.punctuation)\n",
    "stop = stopwords.words('english') + punctuation + ['rt', 'via']\n",
    "count_all = Counter()\n",
    "terms_stop = []\n",
    "for line in tweets_tokenized:\n",
    "    for term in line:\n",
    "        if term not in stop and not term.startswith(('#', '@')):\n",
    "            terms_stop.append(term)\n",
    "    #terms_stop = [term for term in line if term not in stop]\n",
    "    #terms_stop.append(terms_stop)\n",
    "            count_all.update(terms_stop)\n",
    "\n",
    "# for word in terms_stop:\n",
    "#     count_all += 1\n",
    "# print(count_all)\n",
    "print(count_all.most_common(50))\n",
    "\n",
    "#terms_bigram = []\n",
    "#terms_bigram = bigrams(terms_stop) \n",
    "#print(terms_bigram)\n",
    "#print(terms_stop[:100])"
   ]
  },
  {
   "cell_type": "code",
   "execution_count": null,
   "metadata": {
    "collapsed": true
   },
   "outputs": [],
   "source": []
  }
 ],
 "metadata": {
  "anaconda-cloud": {},
  "kernelspec": {
   "display_name": "Python [Root]",
   "language": "python",
   "name": "Python [Root]"
  },
  "language_info": {
   "codemirror_mode": {
    "name": "ipython",
    "version": 3
   },
   "file_extension": ".py",
   "mimetype": "text/x-python",
   "name": "python",
   "nbconvert_exporter": "python",
   "pygments_lexer": "ipython3",
   "version": "3.5.2"
  }
 },
 "nbformat": 4,
 "nbformat_minor": 0
}
