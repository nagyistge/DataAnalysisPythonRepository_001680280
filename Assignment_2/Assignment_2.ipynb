{
 "cells": [
  {
   "cell_type": "code",
   "execution_count": 5,
   "metadata": {
    "collapsed": false
   },
   "outputs": [
    {
     "name": "stdout",
     "output_type": "stream",
     "text": [
      "Please enter a search term: acmilan\n",
      "This is the search term: acmilan\n"
     ]
    }
   ],
   "source": [
    "import requests\n",
    "from requests_oauthlib import OAuth1\n",
    "import os, json\n",
    "from time import sleep\n",
    "\n",
    "\n",
    "url = 'https://api.twitter.com/1.1/account/verify_credentials.json'\n",
    "auth = OAuth1('E5eeHHPrKm0N8qkHhH1BOkSu6', 'iLkXetVRI93Xt32KJfY44CUfau1BgH4BHSotaDLHloaykLOmTR',\n",
    "                  '744995423308374017-ic5GQxFdUxYjgpFJSbAQ1rRaJluz4nJ', 'hZl4AAiu62CalzpY8BeJfX2wJXezROk0WsEhms9KxXQ4w')\n",
    "requests.get(url, auth=auth)\n",
    "\n",
    "\n",
    "searchWord = input(\"Please enter a search term: \")\n",
    "print(\"This is the search term: \" + searchWord)\n",
    "searchWord = searchWord.replace(\" \", \"%20\")"
   ]
  },
  {
   "cell_type": "code",
   "execution_count": 6,
   "metadata": {
    "collapsed": false
   },
   "outputs": [
    {
     "name": "stdout",
     "output_type": "stream",
     "text": [
      "100\n",
      "103\n",
      "109\n",
      "112\n",
      "120\n",
      "123\n",
      "123\n",
      "125\n",
      "128\n",
      "132\n",
      "133\n",
      "135\n",
      "139\n",
      "140\n",
      "143\n",
      "146\n",
      "149\n",
      "156\n",
      "160\n",
      "162\n",
      "172\n",
      "176\n",
      "177\n",
      "178\n",
      "179\n",
      "181\n",
      "181\n",
      "182\n",
      "186\n",
      "193\n",
      "198\n",
      "199\n",
      "202\n",
      "202\n",
      "206\n",
      "209\n",
      "214\n",
      "216\n",
      "222\n",
      "230\n",
      "231\n",
      "234\n",
      "235\n",
      "238\n",
      "245\n",
      "245\n",
      "246\n",
      "252\n",
      "256\n",
      "261\n",
      "265\n",
      "266\n",
      "269\n",
      "276\n",
      "280\n",
      "286\n",
      "290\n",
      "292\n",
      "294\n",
      "298\n",
      "303\n",
      "305\n",
      "310\n",
      "314\n",
      "320\n",
      "322\n",
      "325\n",
      "327\n",
      "334\n",
      "336\n",
      "344\n",
      "351\n",
      "358\n",
      "367\n",
      "376\n",
      "384\n",
      "387\n",
      "397\n",
      "407\n",
      "416\n",
      "425\n",
      "436\n",
      "443\n",
      "449\n",
      "456\n",
      "459\n",
      "462\n",
      "468\n",
      "478\n",
      "484\n",
      "493\n",
      "503\n"
     ]
    }
   ],
   "source": [
    "\n",
    "\n",
    "getTweet = 'https://api.twitter.com/1.1/search/tweets.json?q=%40'+searchWord+'&count=100'\n",
    "#print(requests.get(getTweet, auth=auth))\n",
    "#print(\"URL: \" + getTweet)\n",
    "#response = requests.get(getTweet, auth=auth)\n",
    "\n",
    "\n",
    "#print(data)\n",
    "#json_str = json.dumps(data)\n",
    "#data = json.loads(json_str)\n",
    "# Writing JSON data\n",
    "\n",
    "\n",
    "def merge(query):\n",
    "    data = {}\n",
    "    while len(data) < 500:\n",
    "        response = requests.get(getTweet, auth = auth) \n",
    "        response = response.json()\n",
    "        for status in response['statuses']:\n",
    "            data[status['id']] = status \n",
    "        sleep(2)\n",
    "        print(len(data))\n",
    "    return data\n",
    "\n",
    "data = merge(getTweet)\n",
    "with open('data.json', 'w') as f:\n",
    "     json.dump(data, f)\n",
    "        \n"
   ]
  },
  {
   "cell_type": "code",
   "execution_count": 7,
   "metadata": {
    "collapsed": false
   },
   "outputs": [
    {
     "name": "stdout",
     "output_type": "stream",
     "text": [
      "503\n"
     ]
    }
   ],
   "source": [
    "print(len(data))"
   ]
  },
  {
   "cell_type": "code",
   "execution_count": 12,
   "metadata": {
    "collapsed": false
   },
   "outputs": [
    {
     "name": "stdout",
     "output_type": "stream",
     "text": [
      "{'Buenos Aires': 2, 'Stockholm': 2, 'Jakarta': 38, 'Bogota': 3, 'Central Time (US & Canada)': 18, 'Alaska': 1, 'Nairobi': 1, 'America/Caracas': 1, 'Greenland': 6, 'Melbourne': 1, 'Arizona': 3, 'Riyadh': 12, 'Ljubljana': 1, 'Europe/Moscow': 1, 'Mountain Time (US & Canada)': 1, 'Brasilia': 4, 'Cairo': 2, 'Skopje': 1, 'Bangkok': 20, 'Baghdad': 5, 'Indiana (East)': 1, 'Mexico City': 4, 'Madrid': 2, 'Warsaw': 1, 'Atlantic Time (Canada)': 2, 'Dublin': 2, 'Paris': 3, 'London': 13, 'Muscat': 6, 'West Central Africa': 5, 'Tokyo': 3, 'Lima': 1, 'Beijing': 3, 'Casablanca': 2, 'Caracas': 7, 'Pacific Time (US & Canada)': 38, 'Quito': 1, 'Rome': 23, 'Mid-Atlantic': 1, 'Amsterdam': 9, 'Bern': 1, 'Belgrade': 3, 'Kyiv': 1, 'Santiago': 1, 'Sydney': 2, 'Central America': 6, 'Athens': 13, 'Hawaii': 11, 'Eastern Time (US & Canada)': 12, 'Kuala Lumpur': 6, 'Bucharest': 1}\n",
      "['Alaska', 'Nairobi', 'America/Caracas', 'Melbourne', 'Ljubljana', 'Europe/Moscow', 'Mountain Time (US & Canada)', 'Skopje', 'Indiana (East)', 'Warsaw', 'Lima', 'Quito', 'Mid-Atlantic', 'Bern', 'Kyiv', 'Santiago', 'Bucharest', 'Buenos Aires', 'Stockholm', 'Cairo', 'Madrid', 'Atlantic Time (Canada)', 'Dublin', 'Casablanca', 'Sydney', 'Bogota', 'Arizona', 'Paris', 'Tokyo', 'Beijing', 'Belgrade', 'Brasilia', 'Mexico City', 'Baghdad', 'West Central Africa', 'Greenland', 'Muscat', 'Central America', 'Kuala Lumpur', 'Caracas', 'Amsterdam', 'Hawaii', 'Riyadh', 'Eastern Time (US & Canada)', 'London', 'Athens', 'Central Time (US & Canada)', 'Bangkok', 'Rome', 'Jakarta', 'Pacific Time (US & Canada)']\n",
      "['Alaska', 'Nairobi', 'America/Caracas', 'Melbourne', 'Ljubljana', 'Europe/Moscow', 'Mountain Time (US & Canada)', 'Skopje', 'Indiana (East)', 'Warsaw']\n"
     ]
    }
   ],
   "source": [
    "#TimeZones\n",
    "with open('data.json', 'r') as fr:\n",
    "    data = json.load(fr)\n",
    "time_zone_all = {}\n",
    "for id in data:\n",
    "    user = data[id]['user']\n",
    "    if user['time_zone'] is not None: \n",
    "        if user['time_zone'] in time_zone_all:\n",
    "            time_zone_all[user['time_zone']] += 1\n",
    "        else:\n",
    "            time_zone_all[user['time_zone']] = 1\n",
    "\n",
    "print(time_zone_all)\n",
    "print(sorted(time_zone_all, key=lambda x: time_zone_all[x]))\n",
    "\n",
    "top10 = sorted(time_zone_all, key=lambda x: time_zone_all[x])\n",
    "print(top10[:10])"
   ]
  },
  {
   "cell_type": "code",
   "execution_count": 71,
   "metadata": {
    "collapsed": false
   },
   "outputs": [
    {
     "ename": "SyntaxError",
     "evalue": "(unicode error) 'unicodeescape' codec can't decode bytes in position 0-4: truncated \\UXXXXXXXX escape (<ipython-input-71-61b834bbc05c>, line 12)",
     "output_type": "error",
     "traceback": [
      "\u001b[1;36m  File \u001b[1;32m\"<ipython-input-71-61b834bbc05c>\"\u001b[1;36m, line \u001b[1;32m12\u001b[0m\n\u001b[1;33m    matching += [token for token in emo if token.startswith('\\U000')]\u001b[0m\n\u001b[1;37m                                                           ^\u001b[0m\n\u001b[1;31mSyntaxError\u001b[0m\u001b[1;31m:\u001b[0m (unicode error) 'unicodeescape' codec can't decode bytes in position 0-4: truncated \\UXXXXXXXX escape\n"
     ]
    }
   ],
   "source": [
    "#emoticons\n",
    "emoticons = []\n",
    "for id in data:\n",
    "    text = data[id]['text']\n",
    "    emoticons.append(text.split())    \n",
    "\n",
    "#rint(emoticons)\n",
    "\n",
    "list_of_codes = ['U+1F601','U+1F602','U+1F603','U+1F604','U+1F605','U+1F606','U+1F607','U+1F6018','U+1F609','U+1F60A'] \n",
    "matching = []\n",
    "for emo in emoticons:\n",
    "    matching += [token for token in emo if token.startswith('\\U000')]\n",
    "    \n",
    "print(matching)"
   ]
  },
  {
   "cell_type": "code",
   "execution_count": 33,
   "metadata": {
    "collapsed": false
   },
   "outputs": [
    {
     "name": "stdout",
     "output_type": "stream",
     "text": [
      "['😀']\n"
     ]
    }
   ],
   "source": [
    "print(t.tokenize(\"😀\"))"
   ]
  },
  {
   "cell_type": "code",
   "execution_count": 43,
   "metadata": {
    "collapsed": false
   },
   "outputs": [
    {
     "name": "stdout",
     "output_type": "stream",
     "text": [
      "😀\n"
     ]
    }
   ],
   "source": [
    "print(u\"\\U0001F600\")"
   ]
  },
  {
   "cell_type": "code",
   "execution_count": null,
   "metadata": {
    "collapsed": true
   },
   "outputs": [],
   "source": []
  }
 ],
 "metadata": {
  "anaconda-cloud": {},
  "kernelspec": {
   "display_name": "Python [Root]",
   "language": "python",
   "name": "Python [Root]"
  },
  "language_info": {
   "codemirror_mode": {
    "name": "ipython",
    "version": 3
   },
   "file_extension": ".py",
   "mimetype": "text/x-python",
   "name": "python",
   "nbconvert_exporter": "python",
   "pygments_lexer": "ipython3",
   "version": "3.5.2"
  }
 },
 "nbformat": 4,
 "nbformat_minor": 0
}
