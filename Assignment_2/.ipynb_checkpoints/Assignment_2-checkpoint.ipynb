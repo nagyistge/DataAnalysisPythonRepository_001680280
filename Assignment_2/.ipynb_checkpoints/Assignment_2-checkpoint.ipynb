{
 "cells": [
  {
   "cell_type": "code",
   "execution_count": null,
   "metadata": {
    "collapsed": false
   },
   "outputs": [],
   "source": [
    "import requests\n",
    "from requests_oauthlib import OAuth1\n",
    "import os, json\n",
    "\n",
    "\n",
    "url = 'https://api.twitter.com/1.1/account/verify_credentials.json'\n",
    "auth = OAuth1('E5eeHHPrKm0N8qkHhH1BOkSu6', 'iLkXetVRI93Xt32KJfY44CUfau1BgH4BHSotaDLHloaykLOmTR',\n",
    "                  '744995423308374017-ic5GQxFdUxYjgpFJSbAQ1rRaJluz4nJ', 'hZl4AAiu62CalzpY8BeJfX2wJXezROk0WsEhms9KxXQ4w')\n",
    "requests.get(url, auth=auth)\n",
    "\n",
    "\n",
    "searchWord = input(\"Please enter a search term: \")\n",
    "print(\"This is th esearch term: \" + searchWord)\n",
    "\n",
    "\n",
    "url = 'https://api.twitter.com/1.1/search/tweets.json?q=%40'+searchWord\n",
    "print(requests.get(url, auth=auth))\n",
    "\n",
    "response = requests.get(url, auth=auth)\n",
    "\n",
    "data = response.json()\n",
    "print(data)\n",
    "json_str = json.dumps(data)\n",
    "data = json.loads(json_str)\n",
    "# Writing JSON data\n",
    "with open('data.json', 'w') as f:\n",
    "     json.dump(data, f)\n",
    "\n",
    "\n"
   ]
  }
 ],
 "metadata": {
  "anaconda-cloud": {},
  "kernelspec": {
   "display_name": "Python [Root]",
   "language": "python",
   "name": "Python [Root]"
  },
  "language_info": {
   "codemirror_mode": {
    "name": "ipython",
    "version": 3
   },
   "file_extension": ".py",
   "mimetype": "text/x-python",
   "name": "python",
   "nbconvert_exporter": "python",
   "pygments_lexer": "ipython3",
   "version": "3.5.2"
  }
 },
 "nbformat": 4,
 "nbformat_minor": 0
}
