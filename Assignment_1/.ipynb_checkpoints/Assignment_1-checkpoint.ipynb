{
 "cells": [
  {
   "cell_type": "markdown",
   "metadata": {},
   "source": [
    "# Q1   \n",
    "\n",
    "# Create a list of numbers which are multiple of 3 and 7 between 1 to 500 \n",
    "\n",
    "# For the list, find what is the mean. Print what is 25th quartile, 50th quartile and    75th quartile. "
   ]
  },
  {
   "cell_type": "code",
   "execution_count": 4,
   "metadata": {
    "collapsed": false
   },
   "outputs": [
    {
     "name": "stdout",
     "output_type": "stream",
     "text": [
      "\t number_list:  [0, 21, 42, 63, 84, 105, 126, 147, 168, 189, 210, 231, 252, 273, 294, 315, 336, 357, 378, 399, 420, 441, 462, 483]\n",
      "Number of elements in a list : 24\n",
      "MEAN: 241.5\n",
      "25th Quartile 126\n",
      "50th Quartile 252\n",
      "75th Quartile 378\n"
     ]
    }
   ],
   "source": [
    "max = 500\n",
    "total = 0\n",
    "number_list = []\n",
    "for i in range(0,max):\n",
    "    if i%21 == 0:\n",
    "        number_list.append(i)\n",
    "print(\"\\t\",\"number_list: \", number_list)\n",
    "for value in number_list:\n",
    "    total += value\n",
    "count = len(number_list)\n",
    "print(\"Number of elements in a list :\", count)\n",
    "print(\"MEAN:\", (total/count))\n",
    "q25 = count * 25 // 100;\n",
    "q50 = count * 50 // 100;\n",
    "q75 = count * 75 // 100;\n",
    "print(\"25th Quartile\", number_list[q25] )\n",
    "print(\"50th Quartile\", number_list[q50])\n",
    "print(\"75th Quartile\", number_list[q75])\n",
    "\n",
    "\n"
   ]
  },
  {
   "cell_type": "markdown",
   "metadata": {},
   "source": [
    "# Q2 \n",
    "# Read the file ‘ques2.txt’. Print the number of words.\n",
    "# Find out what is the average, median and mode for word length (character          length)"
   ]
  },
  {
   "cell_type": "code",
   "execution_count": 6,
   "metadata": {
    "collapsed": false
   },
   "outputs": [
    {
     "name": "stdout",
     "output_type": "stream",
     "text": [
      "Number of words: 309\n",
      "sorted list [1, 1, 1, 1, 1, 1, 2, 2, 2, 2, 2, 2, 2, 2, 2, 2, 2, 2, 2, 2, 2, 2, 2, 2, 2, 2, 2, 2, 2, 2, 2, 2, 2, 2, 2, 2, 2, 2, 2, 2, 2, 2, 2, 2, 2, 2, 2, 2, 2, 2, 2, 2, 2, 2, 2, 2, 2, 2, 2, 3, 3, 3, 3, 3, 3, 3, 3, 3, 3, 3, 3, 3, 3, 3, 3, 3, 3, 3, 3, 3, 3, 3, 3, 3, 3, 3, 3, 3, 3, 3, 3, 3, 3, 3, 3, 3, 3, 3, 3, 3, 3, 3, 3, 3, 3, 4, 4, 4, 4, 4, 4, 4, 4, 4, 4, 4, 4, 4, 4, 4, 4, 4, 4, 4, 4, 4, 4, 4, 4, 4, 4, 4, 4, 4, 4, 4, 4, 4, 4, 4, 5, 5, 5, 5, 5, 5, 5, 5, 5, 5, 5, 5, 5, 5, 5, 5, 5, 5, 5, 5, 5, 5, 5, 5, 5, 5, 5, 5, 5, 5, 6, 6, 6, 6, 6, 6, 6, 6, 6, 6, 6, 6, 6, 6, 6, 6, 6, 6, 6, 6, 6, 6, 6, 6, 6, 6, 7, 7, 7, 7, 7, 7, 7, 7, 7, 7, 7, 7, 7, 7, 7, 7, 7, 7, 7, 7, 7, 7, 7, 7, 7, 7, 7, 7, 7, 8, 8, 8, 8, 8, 8, 8, 8, 8, 8, 8, 8, 8, 8, 8, 8, 8, 8, 8, 8, 8, 8, 8, 8, 8, 8, 8, 9, 9, 9, 9, 9, 9, 9, 9, 9, 9, 9, 9, 9, 9, 9, 9, 10, 10, 10, 10, 10, 10, 10, 10, 10, 10, 10, 10, 10, 10, 11, 11, 11, 11, 11, 11, 11, 12, 12, 12, 12, 12, 12, 12, 12, 12, 12, 12, 13, 13, 13, 13, 14, 15, 16, 16, 17]\n",
      "To find Median: 154\n",
      "Median: 5\n",
      "Mode: 2\n",
      "Average word length: 5.624595469255663\n"
     ]
    }
   ],
   "source": [
    "fname = \"F:\\Python_DataAnalysis_Assignments\\DataAnalysisPythonRepository_001680280\\Assignment_1\\ques2.txt\"\n",
    "\n",
    "num_lines = 0\n",
    "num_words = 0\n",
    "num_chars = 0\n",
    "average = 0\n",
    "list_len_words = []\n",
    "\n",
    "with open(fname, 'r') as f:\n",
    "    for line in f:\n",
    "        words = line.split()\n",
    "        #all_words.append(words)\n",
    "        num_lines += 1\n",
    "        num_words += len(words)\n",
    "        num_chars += len(line)\n",
    "print(\"Number of words:\", num_words)     \n",
    "count = len(words)\n",
    "\n",
    "\n",
    "for item in words:\n",
    "    list_len_words.append(len(item))\n",
    "\n",
    "list_len_words = sorted(list_len_words)\n",
    "print(\"sorted list\", list_len_words)\n",
    "med = len(list_len_words)//2\n",
    "print(\"To find Median:\", med)\n",
    "print(\"Median:\", list_len_words[med])\n",
    "\n",
    "from statistics import mode\n",
    "\n",
    "print(\"Mode:\", mode(list_len_words))\n",
    "\n",
    "with open(fname, 'r') as f:\n",
    "        w = [len(word) for line in f for word in line.rstrip().split(\" \")]\n",
    "        w_avg = sum(w)/len(w)\n",
    "print(\"Average word length:\", w_avg)\n",
    "\n"
   ]
  },
  {
   "cell_type": "markdown",
   "metadata": {},
   "source": [
    "# Q3\n",
    "# There are 1500 json files in ‘Lecture03/question03’. Find out how many of the      files contain the string, ‘User not found’ (case insensitive)"
   ]
  },
  {
   "cell_type": "code",
   "execution_count": 9,
   "metadata": {
    "collapsed": false
   },
   "outputs": [
    {
     "name": "stdout",
     "output_type": "stream",
     "text": [
      "Number of files with the words 'User not found':  877\n",
      "Number of files without the words 'User not found':  623\n"
     ]
    }
   ],
   "source": [
    "import os, json\n",
    "import pandas as pd\n",
    "\n",
    "keywords = ('User not found')\n",
    "count = 0\n",
    "count_no_name = 0\n",
    "path_to_json = 'F:/Python_DataAnalysis_Assignments/DataAnalysisPythonRepository_001680280/Assignment_1/jsons/'\n",
    "json_files = [pos_json for pos_json in os.listdir(path_to_json) if pos_json.endswith('.json')]\n",
    "#print(\"files:\", json_files)\n",
    "\n",
    "for js in json_files:\n",
    "    with open(os.path.join(path_to_json, js)) as json_file:\n",
    "        # do something with your json; I'll just print\n",
    "        for line in json_file.readlines():\n",
    "            json_dict = json.loads(line)\n",
    "            if 'name' in json_dict:\n",
    "                 if any(keyword in json_dict[\"name\"].lower() for keyword in keywords):\n",
    "                #print(json_dict[\"message\"])\n",
    "                    count = count + 1\n",
    "            else:\n",
    "                count_no_name = count_no_name + 1\n",
    "print(\"Number of files with the words 'User not found': \", count)\n",
    "print(\"Number of files without the words 'User not found': \", count_no_name)\n",
    "\n",
    "                \n"
   ]
  },
  {
   "cell_type": "markdown",
   "metadata": {},
   "source": [
    "   # Q3\n",
    "   # File name is user_id.json"
   ]
  },
  {
   "cell_type": "code",
   "execution_count": 11,
   "metadata": {
    "collapsed": false
   },
   "outputs": [
    {
     "name": "stdout",
     "output_type": "stream",
     "text": [
      "This is the list of the files with USERID as their filename: \n",
      "['A1Fxs5Ag1A8vuB5', 'A2Dsv7RE1BDqYt5', 'A2HkZPkn1BpvvG5', 'A2VNCBDc1BI1q65', 'A3bVx1T11BLTx65', 'A3j6Sjuz1BMMV82', 'A5xOTqVS1Amd7F5', 'A919aKwiqnBd0plwT3izfU0NhGRKnX6z', 'A9UPpfah1BFECb5', 'Aa8F01bG1zEVca5', 'AAD2VmOH1BMwW12', 'AAHWj5QN1BJ1ZP5', 'AAOnpE891BhSM45', 'ABSy3tf91BzpGe5', 'ABwA5DAx1Az1g65', 'ABwpqKRf1Bz2UG5', 'AccoGpwU1BMvn42', 'ACE6wrft1AqkzU5', 'AcE7drxWsXOMPTMvKGWXlKq9ssEDqX1M', 'AdjWlMHv1A8vM55', 'AdLIMIYD1BuDiU2', 'ADMEUt2D1BMGwN2', 'AFFC2C591BlDCm5', 'AGCpEWWb1BEx235', 'AGIKzXTx1BMMk75', 'AHijfs1f1BLo1i2', 'Aig7jcGk1BqoTb5', 'AJHEkzfW1Adc5x5', 'AJmn0gHp1BDJ242', 'AjnCxTwv1BMutG2', 'AKeCOVxv1AR78w5', 'AKQDTy341AYLky5', 'AlGylYZ91B9UaK5', 'ALis2oIu1BMo275', 'AlpgeUoO6y2LshqJxIu5tvHKcisaiRxY', 'ALxJlgbJ1BhwXC5', 'AMrlahXF1BdClC2', 'AMzoHgJo1zzHp05', 'AnhmBX0Z1BMLcf5', 'AniGWaG71BFC205', 'AnQ6ESQ61Aoc4F5', 'AnTIjUWG1BDNX85', 'ANuFI3wm1BM9C75', 'AoMDTLDe1Bk5lD5', 'APlqXoMg1AcwZy5', 'AQLqHEvX1BLnIp5', 'AR0hkF421BFyc25', 'ARGizL9S1B8ZD25', 'ARI5Y6ZM1BImA25', 'AsvbNPu71B75C65', 'AtGOWVZf1BLjrK2', 'ATPm3LpW1BepUd5', 'AtRPmo9f1BJSDf5', 'AUqXVIJz1BhjHj5', 'AuRamyuA1BMJkI2', 'AxtScjEi1Btf3Y5', 'AY9GdOjk1ztGOt5', 'AYBhCCwF1zzi5m5', 'AzSGyFPG1BMaSb5', 'B0jSr8hO1BqCAc5', 'B1fkWU4B1BnJpi5', 'B54jhdRr1BrnBO5', 'B5jXbs5X1BMwhq5', 'B6MHb4ZP1BDFEq5', 'B6ohYGtm1ByFOI5', 'B7R1QfGl1AvPZw5', 'B9JmSTEk1BI70R5', 'BA0Q9k0P1BGDyo2', 'Bb0vE5cP1BLNMa5', 'BBR91eEw1BDCxE5', 'BbsEjJhY1A9y6x5', 'BCaQ1o0L1BF6Vv2', 'BDCb90TA1BLgGH5', 'BdKcsiu41BxtBr5', 'BDVxEPRh1BLQUL5', 'BdygLYWF1AIUmH5', 'Be8W8wmK1AoryF5', 'BekLXUjv1AZJCO5', 'BENy3u321Bu3jA5', 'Bevic89q1BI78c5', 'BF0LwNhC1BekAq2', 'BG7SjKA21BuLQG5', 'BGijYBDQ1AX6HB5', 'BIpfcxZA1zQ35g5', 'BiStK9rA1zT5VS5', 'BiSyaEpH1BHs2P5', 'BIuv0zAE1BLRsg5', 'Bk4iIqky1Bl3SL2', 'BKrmTGPK1BMn4W5', 'BlgoDTTL1BLp075', 'BMjPBNTk1AOWPF5', 'BmsYFBKO1BdaO55', 'BN5TKLdK1zsXgV5', 'BOaq3ZNo1AzLOR5', 'BoMsIYqa1BDho55', 'BovGXCnr1Bti305', 'Bpk3BPmD1BLmwF5', 'BPmPI8001BMsIa5', 'BPXhjodA1BMq0f2', 'BqPyokHE1Acifj5', 'BQYVihQz1BFwt25', 'BsEiZ9y61B4gjI5', 'BT50R6Qw1BMqhl5', 'Bt8HN1TN1AZbUB5', 'BtHxPRga1zV8Ci5', 'FvIMrHQk1BnrqL5', 'FvxnmIZU1AWxGP5', 'FwesrNXp1ABBQT5', 'fWOrVAxL1BMLWy2', 'FwTVVs8j1AJO1U5', 'FX5fmTRe1BnZec5', 'Fxf1G7Es1BoYdG5', 'FxTuYsfm1BnEYC5', 'FXYoNBlF1BMs162', 'FyXumeBK1BKKMo5', 'fzCWCwa81AhApU5', 'FZRY65XU1A405M5', 'FztYhncS1BMubM5', 'FZua0Uxl1BMOYm2', 'G03xcobX1BjAxe5', 'g07DrnGU1BLE0X5', 'G0aXzHDS1BMzKr2', 'G0GCyqRk1Ba51g5', 'G0mjg96A1A4z1p5', 'G1dhvwTI1B45yf5', 'g1DPeDI11BHOyi5', 'G1HUFiGX1BkPEc5', 'G1MIBSBH1ByC2u5', 'G2l0GlBb1Bwpxf5', 'g30TxF1W1A5zip5', 'g3bmJ7hI1BMvIC2', 'g3w9AsiW1BM7w32', 'G4ygoHJR1BCZ5i2', 'g53MTe0i1BFwWn5', 'g54OZDxJ1AjU9A5', 'g58fMEEi1BBMGY5', 'g6rJPqKY1BDDhM5', 'g6uTAWNA1ANb2d5', 'G6yvLRud1BJylQ2', 'g7cdiFT01BMybI2', 'G7ILtDa31BwXhx5', 'G7rpQ4vY1BI6uM2', 'g7ZYJoVZ1Biklu5', 'g80GJLlK1BKis35', 'g8Ej8Y901BL4e45', 'g9FbT5GAvfhYXIYrLDN8hGIJPeOvdRye', 'g9nTxgPQ1BMwk92', 'g9nxwxLF1BF5WL2', 'ga4nrcT71BMrLz5', 'gAGOFJsL1BcBsU5', 'gAzm2a8S1BIxC05', 'Gb51o7ol1BA8Jf5', 'gbdplUAy1BMnmc2', 'GBe4DTe41BcyK15', 'GbstW8if1B4xPO5', 'Gc90Oc0x1zQO9M5', 'GCkFM4uj1BpNS65', 'GCoEORZO1zWf3e5', 'gcqe285I1BwxeK5', 'Gcrvfihv1BMwXG2', 'gcyyGodc1AO2J15', 'q06QaaY91BMmUf5', 'Q354qrDS1Btal05', 'Q4nwk3Gh1BKCS45', 'Q5EnGgDM1BhWjo5', 'q5N116GQ1BMdbf2', 'Q72ts3B41Bcuag5', 'q7Y681J51zK01u2', 'q8TVfU1W1BDHfh2', 'Q8YghwIE1BH49S5', 'Q9QRGy391BtQIQ5', 'QAafxXTl1BM9hD5', 'Qae5k9IB1AiPtx5', 'qakOLREM1BLXoM5', 'QAr7G9t41BIRoS5', 'qaYSpRdq1BqDGF5', 'qb5rCu9u1BMOZl2', 'QP655HOF1B4tPp5', 'qPB2M3Bj1ABQY25', 'qPDSnDTM1BMP4J5', 'qPntkVP71BMOPB5', 'Qpu2EAfQ1BMm5J2', 'Qq0WtvWw1B7qmC5', 'qq9kS06r1B6lcp5', 'qQbfcvFi1B2krk5', 'qQfVQ5Hf1BJuks5', 'QqfwcL4Y1Bnvm05', 'qrChX24k1BHqlv5', 'Qrd4002a1BCbrm5', 'qrj7e1w01BovOU5', 'QRkstXPN1zG1fk5', 'qrQOHyoQ1zFyYL5', 'QS9Jnyre1Bzq2z2', 'QsamkhX91BHXR75', 'QsAVgeiL1BDh2G5', 'QtahjAZT1BMLgW5', 'QtkSTLCB1BIsFK5', 'Qtu8zclN1znQkl5', 'Qu1x0BYC1AHPoe5', 'qu4Z0gyTXlYkt08UeQuM8Oleh50eFf8l', 'QuI5P7sG1BoBus5', 'qunhQRw41BMqRD2', 'qUogFx1H1B4kac2', 'QuwOnkyK1AqLRV2', 'Qve9aYp91zzUnC5', 'QW5fjLE21BH3B35', 'QWbykDVS1BMaD92', 'QwHk9b6V1AEqMH5', 'QWqdZF2t1AthDN5', 'QWqI76vY1BCSPK5', 'qwRTQ9Lj1Bpk3e5', 'qXAOQWaG1BMzsB5', 'qxDZeVmG1BJQPj5', 'QxNB4bGg1BH1Xz5', 'QXXNnlDy1BKdw25', 'QY3ONjDv1BiPYt5', 'QyrNpJ3c1BIsbm5', 'qZfpYTat1BIKg85', 'qZigPREc1BMNzi2', 'QZL7nIpc1AN9w22', 'QZZl3uCS1By2wz5', 'R0bRPwwc1Bj8SG5', 'R0hAO3n41BCIGv5', 'r11ejw1U1BKHr45', 'r15pEZTi1BMsyT5', 'R1IYuUzz1AR8Os5', 'r1MezVIf1Bhxrt6', 'r24op22O1BunLZ5', 'r2OH1qz91zWJgQ5', 'r3HyXat91APNOu5', 'r4hGmDUM1Burdg5', 'r4LsJesz1BEe8w5', 'r4qhc4lZ1BLHR15', 'r5X6ciY71BlHC32', 'R6JfH8ck1BJeZx2', 'R6KTK5QO1BMs7t2', 'R6oQa2GG1BMMM95', 'R75QcDlk1BMIuC5', 'R7FJCkge1ANWJf5', 'R7Jr48Oy1BMxAO5', 'r8eR4nDu1BMOCx2', 'r8MYOFW11zEzdd5', 'R8nkA9GD1Borkr5', 'R98b5Mzr1Bi1nb5', 'R9cDiCOn1BLdgf5', 'R9N9QzFO1B9Hqi5', 'rA0KtS0J1AMmTw5', 'RAbXwtOJ1BIsR05', 'RB3emS9P1BM9Xg2', 'rbBHXXAu1BHqTl5', 'rbDl0jv21BFF9P5', 'rbdU0rGk1BqgNk5', 'RC0bR5hm1BFfsh5', 'rcAqwEm51AQwSN5', 'rcddMu2Y1BGiSo5', 'RchaJXZU1B0bPK5', 'rcJDu64e1BAcO22', 'rcnd53uk1AbZg15', 'RCrCAOZv1B7JMI5', 'RCtixFDc1BMMU02', 'RcTSaSAYAkEeGrLD8tj0JQ7SoRC4jsJN', 'RehuTeXf1BKV2b5', 'REi64X7d1AGFnF2', 'REInZTyX1BMxe62', 'rekGI7C61AwVWu5', 'ReKxr3i91AUv6d5', 'reobCSyd1BFFrS5', 'REon76Ro1Bk6t55', 'rEU5SXr61ALxuB5', 'RF4aLnyy1Bq4qB5', 'RFAfKOJZ1A5o0D5', 'RFc6ANkN1BLN4R5', 'rfjK1sh51AKAIe5', 'RFm7ejJ61BoSl85', 'RFWrTlYu1zXk9c5', 'rG73nibf1B7xmG5', 'rGbkm76421xRPvwBWd1dbspgVUoOj8jK', 'RgeMZ2Qb1BkRzq5', 'RgL8LXyb1BuAUy5', 'RgMORvt81AMI4r5', 'rGoHAdWO1ADNeS2', 'rHbhzx1oJMJMR7gd0J1hBxaMonADiig1', 'RhcAKh6i1BGUGA5', 'RhE0MivB1Bsay25', 'rhJcwbkO1Bo4ZD5', 'rHLEe68s1ARcUj5', 'RhomxVAg1BKCXM5', 'rhUZigaH1BKFi75', 'rhxmikOH1BmWKB5', 'RHXQIJOF1BuJi95', 'RIm45HSY1BFgQA5', 'RIncB32I1BMoqi5', 'RIRoYnVj1BMpBT5', 'rj7uNpUo1AYptb5', 'RjMCFkE11B3zIi5', 'rKeUzrwj1ByL3k5', 'RkKb0PjT1zMWgW5', 'RkLRclQqb7zWsPZXCEbrns4zumGJBBCJ', 'RKOYw5sY1ByIY22', 'RKRK1Pte1BwXnT5', 'rlAi8wN93hgezmuFnwKSvvbpJbBJH4CY', 'RLbeoM011BCnDo5', 'rlCDZMai1ALhom5', 'RleTQ9pG1A88GT5', 'RLFsETGD1AqMyr5', 'RLHN1Vk91BbIQk5', 'rLi53H881BAlra5', 'RMo7Cxzi1Bgf8d5', 'RmtpGQeX1zsWF15', 'rMUhNuX11AeS7d5', 'rMXdZsXg1BERmv5', 'rn01nShC1BMtzG5', 'Rn9dcjzH1AvoVa2', 'rnegUVaP1Be3NF5', 'rnIaTwvt1BLkQl5', 'rNozYJSV1AYgIa5', 'rnWS78W61Bz3Lj5', 'RobjHrno1BFwTD2', 'ROD15LNO1zGDlD5', 'rOiau9pJquU0YRpMYYR4ElY1ibePWz1p', 'RoQ441oX1Br3TE5', 'rP7XoEXx1BLs865', 'rpmRdl6r1BqIhj5', 'rpoqhaolyyD7lTxShcyD7NMhFnK2nbDE', 'rQ0RjFZC1BGkTb5', 'rQ9QWdAT1BMwRx5', 'rQfQle9t1BMoDh2', 'rqIAinu01BDpqe5', 'RQkMZUZe1BI0UM2', 'rR8iX0HM1BEwXK2', 'RRhP7AZu1AW5Vn5', 'rRi5LVgw1BbC2j5', 'rrLnHyNs1BKZUy5', 'rrOPB4jR1BLZrB5', 'RrpHRhiE1Bv2mL5', 'RSkEBmcm1BBigz5', 'rsnKu4BH1BhGBD5', 'RsRfgh3v1B92BJ5', 'RsXwvljm1AhLad2', 'rtHMOVvr1Brs2u5', 'RtIoKu2C1zPlPC5', 'RtSjLEjv1BMoXq2', 'RTXwl3iw1BpZsY5', 'RuCdPh3Q1BDcGL5', 'rUcoRMHx1Ak9SX5', 'RuCV2Ml01BztxS5', 'ruE1v11v1BMHIh2', 'rUgMObVC1BB8O35', 'RukXNrFv1BLPIq2', 'rUMLvvEj1BEy012', 'run6Rgjd1BuoAv5', 'ruZhhuu61BjjZH5', 'Rv7YUw1o1BvnJk5', 'rVanM4F31BMv2i5', 'rvFrQSud1Bairy5', 'RVRSFBBd1BnvBc5', 'rvTjjoAm1AJTZx5', 'rwHZJrqP1BI9WP5', 'VGPfVlzt1BIHmY2', 'vGQWymI81BDiCq5', 'VgYBf4X11BMO2e2', 'VH8e8hPS1BJ8A65', 'VHyOyWcCTwVwZeJyXZH427pWsWKNWbsg', 'vIaWDxe21BHeX45', 'VIEaQ5Ey1BiHhl5', 'viYLTDxE1B9AUu5', 'vIZvughTQ6aIGGO09Ux1FfsvIAwvFLen', 'vJHTYrfm1AOdVd2', 'vjljAxZ41BqE2f5', 'VjSnHLtrZLAhNPcRurj6ExcbVAFFT3un', 'vjukd8Ep1ANQXJ5', 'vjxp4aHx1Astzo5', 'vk1WhQROOaoy4ZALy7opLpEZhWC1GxgS', 'vkbVIIwp1BMKC22', 'VKnyAdDs1BgRL35', 'vksYxtk71BqBWj5', 'vkwwRtNf1zRhlQ5', 'vLdmrHKE1BJvsw5', 'VLGY20Zs1BGvV45', 'vlpdSh6i1AOXUa5', 'VLxuMKFn1BhKf05', 'vLZKER2W1BGfzD5', 'VMbt31ld1BBW6C5', 'VmTJWZu51BkPlR5', 'VmU8tt491BM1UC2', 'VMvFV5X41A1SLj5', 'vNGkqbXk1BMKjd2', 'VnN6zg6r1zLlRS5', 'vnxWp3r31Bx3rL5', 'VNyyIVf41Bh3co5', 'VOIcWFmB1BKhmf5', 'VoXkSIU31AWwnb2', 'Vp8oy8lN1Bs9Ky5', 'VPGqpAaM1BFYyf5', 'VPPA4CmX1BugZy5', 'VPSaAVrM1zYUyh5', 'vQ0m53Ax1BI45J5', 'Vq2C9u0u1BsbPF5', 'vqNPYjndiO2K4NcidiUcuMIcTY2nTKZ8', 'vqTjwdYb1BMy7s5', 'VQZjOCNu1BtJTI5', 'Vrjd5vpq1Advbq5', 'vrZ9dXXP1BtO5w5', 'VRzQ2Owo1BByll5', 'vs7Q55Ab1BD9Go5', 'VSmsuQLi1zHoRH5', 'vsnTQP1D1ATjpF5', 'VSUBQqJf1BLDUq5', 'vSzyn86Y1BH8yF5', 'VT8pdysN1zvRqK5', 'VtbhaDJP1BMqzC2', 'VtkRv2V91BM9rd5', 'vTsqsqq41A0wIK5', 'VUbqbYjj1BMx675', 'VuGrlYM11BJy6Z5', 'VUOAvH5I1BMkFH2', 'VuujW5f61BlTna5', 'VV9OvM4I1AsX142', 'vVeRRq9Q1BwxQq5', 'VVQ6gUGL1BM8Lm5', 'vVrtKgMX1BweMp5', 'vVWPb3qX1BhW3b5', 'Vw1nFgNH1BCHSx5', 'vWeMud5V1BMyma2', 'VWKu5RKy1BzphM5', 'vwOCckem1Bx4Wa5', 'vWX6noiG1BMNep5', 'vwZGeczL1BqGIi5', 'Vx5uIXgV1BFWKp5', 'Vx65yIWz1BHSx95', 'vxe4Aqve1BM9oT5', 'VXHWYz8a1AB7WM2', 'VxSB0MwO1BB4WY5', 'vxT6WyhM1BLtE95', 'vyAAuMo81BH2sd5', 'vYjpJILa1BMwNp5', 'VYo5NcHa1AfU705', 'VZ0udpKf1BLEqG5', 'VZDt2qcc1BFmBl5', 'Vztegpyo1AesYV5', 'vzWrKtkn1BrlWj5', 'vzyuFUlL1BdiyH5', 'w0BGAqao1BpALl5', 'w0ER8rln1BwRng5', 'W0F73CNI1BM8Gh2', 'W1LzOgzH1BMNpp2', 'w1tPRHpW1BehxZ5', 'W28d25LL1BMOr72', 'w3cgOQxl1BGX235', 'W3lKJpRu1AdvrA5', 'w4jMcxUX1B9DiP5', 'w4ShkB2G1BMma45', 'W5drVVBv1BMlj55', 'W60qLLKS1AlFeR5', 'W6xg92mB1AvRLa5', 'w77GpP1o1BJRKR5', 'W7i1uW5C1A4HUY5', 'w7NDdFH01zvseu5', 'w8JsGfDn1BsN3H5', 'w8oH2uDi1BMAXJ2', 'w95QhHrT1B2h695', 'W9GfOapB1BKu0w5', 'W9ggYZtQ1BMqRD2', 'W9k6BiC31ASY4T5', 'w9LFyUcR1BgSo35', 'Wa8NlaxK1AGL8U5', 'Wa8QvwxH1A8S625', 'wAA7GQZL1BDxzh5', 'wacZlqNh1Bl5FW5', 'WaDLKoZE1AikRv5', 'Waq4rojO1B6ME25', 'WaY4jHJL1AAoQN5', 'WB4RF8C21B8fCc5', 'wb7GFvQJ1B0hYM5', 'WBF9qxjj1zMxmP5', 'wBKcC9HI1Apdos2', 'WbkqlfzJ1BDsW85', 'wbNrlBLw1ACJMx5', 'wbPdTWzXQkN0ndTDG4EhXCPXzfr33W2a', 'wBzl56oc1zrvEo5', 'wC5uP2Ht1BJOeq5', 'WCO10JB01BLlp35', 'Wd1tsjPR1Bx8Nr5', 'wd36an0f1B1YiW5', 'wd4FSvBJ1BBNUK5', 'wDEvuCsE1BJ3Nv5', 'wDFFVP1n1B8WQn5', 'WdJonOel1AFpUv5', 'wDUfmZCt1BwtXl5', 'wdwFQreo1BxzoU5', 'wdzXBKdc1BEwfl5', 'weVqUCw31BGWoq5', 'WFgvm0ph1ATGxm5', 'WFIVJEud1B662x5', 'wFjp1u1o1BHqYz5', 'wfwUF5Vd1BGFgr2', 'wfY2P5rY1ByDXk5', 'Wg2QUY1s1BasoP5', 'WgbmO06X1BLNmL5', 'wghzLF0A1Bfarm5', 'WgO5xdqB1AlD9F5', 'wH0dlIPZ1BHO4P5', 'WH3GDa5v1BK0iu5', 'whcuo8nr1zxiHb5', 'whGAIFTX1BtV3g2', 'whSyMF5Q1BMtRU5', 'whwERCRP1BH0GW5', 'WHx2cVDj1BtDPT5', 'Whyg5OJX1BIbQv5', 'WIaQQcMu1BDlTh5', 'wieTWpLx1BGiWu5', 'WIfzZm0U1BHkwx5', 'WIiYrHvN1Afwcq5', 'WiLPib4d1BHM4i5', 'wImEdd0O1BM6ye2', 'WIqbzX441BMGml2', 'wIrXHBfp1BMjAd2', 'WIs5P3Eg1AWVbn5', 'wIVBvcOM1AOKvM5', 'wj8rTOOl1BEyqI5', 'WjAgUPNa1BJEhq2', 'WJwUWKFr1zOBp52', 'wjYP4axi1BM4qd5', 'wKBrd3Za1BJkDr2', 'wkYmL1Iy1BAmWx5', 'wLE7dqFR1BJyqj5', 'WlpSX49U1BKbiB5', 'wMLb9zFP1ASZR85', 'WMW6SIZe1BKLSo5', 'wo4ji8p11BE3l25', 'wojrdqup1AZVyC5', 'WOjroE0w1BIUjY5', 'wOl4wv2q1zsxAR5', 'WonGkCh91BnqcG5', 'wOnr5rke1BMGCv5', 'wozRbewM1AI7pc5', 'wpgBplTJ1BMORX2', 'WPNfMlAs1BMu8S5', 'wpQwNEu71BDsFt5', 'WpUidKQk1BKIT25', 'WpzmtuPo1BMkfk2', 'WqdFTpNQ1AFYt65', 'wQDXIFZS1BJTRU5', 'wqeJNPQ61AwMSC5', 'WQF1MwHu1ATDnk5', 'wQI7l8os1BAOrU5', 'WQuLQDyn1BLrNE5', 'WR2CYTVQ1BM2nn5', 'wr3T0KE61zvtuZ5', 'WRoTINWe1BMN9Q5', 'WrT0B30t1BqF6r5', 'wRUHJZlg1BsVnT5', 'wRVS3dyL1BM8US5', 'WRwZkEWX1AMb605', 'wRzVn2RK1BuVe85', 'wSjAjT5c1BxECT5', 'wsRAmm5Q1AnPvH5', 'WsuP1cFn1BJYGv5', 'wTB9SJ4h1BEvUK5', 'wTu8gCreexE7dFFsoAK0dSCTSXDOBL0x', 'wtxAI8301BJFCm5', 'wUBFp9ND1B2O7H5', 'wUIZUK8R1BMDBs2', 'wuoLWeMB1AfUU32', 'wuRvVBCu1AOZkh5', 'WveDTDYo1B7fzq5', 'WvfhW5CW1BKz8T5', 'wvon4kVo1AqRn15', 'WWl2ALx51AmKnl5', 'WwmpHbh31BrHby5', 'wWVrBJXs1BL6uj5', 'Wxp6oLx41BJPGf5', 'Wy10fDIa1ADsur5', 'Wy4dICb81zTjZi2', 'wY9oOKXC1BwSVl5', 'WYfi2sfz1A8F6a5', 'zMTquV0G1A3zO95', 'zMUq28w21AGgwe2', 'ZMUX2W8V1BDDoB5', 'ZncSuVAK1BMxW22', 'znNaVJvD1ByXRA5', 'ZnP8wAxh1BMMoQ2', 'znqz1JY51BMmy05', 'ZnrJ1QXr1AuC3x5', 'zNXXGHKF1AKoO65', 'ZOibOH801AM1Ad5', 'zOInRjY61BzwE25', 'zOv7t8T21BLJqo5', 'Zp1j3ZGn1AVxHA5', 'ZPbR4mg11BMIf25', 'ZpQjxq0d1BMbYu2', 'zpxjpMNy1AuiYF2', 'zPZbXMqN1zXgie5', 'zqbZpPLf1BMPOG5', 'ZQcoKCmB1B5eii5', 'zqDY7ZLG1BLmC52', 'ZQfaSO5n1BpdMa5', 'ZQoOV2fx1BBgyJ5', 'zQqUOg6d1BMGwi2', 'zqt0g3be1BMMAA5', 'zR79p05c1BMObJ2', 'zRm9pJQR1Bgem15', 'Zrrns0lJ1Bdo305', 'zRZbEMBH1BAQxr5', 'zSIKqV4u1BEsgg5', 'ZSkS0bmT1Bz6x15', 'zsn3Uw621AMTK95', 'zsX3Qg1s1BMx512', 'ZSzfe3jX1B2aT65', 'ztA3NtIV1B7kYc5', 'zTOvpRaL1BM6na2', 'ZuCGqtX51BMmqF5', 'zUfMQSu71B38jo5', 'ZuQO68HJ1BC5bh5', 'ZUUy97hQ1Bwtlc5', 'ZuWjcESU1BoR9S5', 'ZUzm137k1BEKiG5', 'Zv9ImYb81AUS6O5', 'ZvCOSJMp1BtQEp5', 'ZVk66FW11APmqN5', 'zVqPkcZi1BMlvA5', 'zvvJoBOU1BMxOp5', 'ZvYyHsS31BJMfI5']\n",
      "Number of files with the USERID as filename:  623\n",
      "Number of files where USERID is not the filename:  877\n"
     ]
    }
   ],
   "source": [
    "import os, json\n",
    "import pandas as pd\n",
    "\n",
    "keywords = ('User not found')\n",
    "count = 0\n",
    "filename_userId = []\n",
    "count_no_name = 0\n",
    "path_to_json = 'F:/Python_DataAnalysis_Assignments/DataAnalysisPythonRepository_001680280/Assignment_1/jsons/'\n",
    "json_files = [pos_json for pos_json in os.listdir(path_to_json) if pos_json.endswith('.json')]\n",
    "#print(\"files:\", json_files)\n",
    "\n",
    "for js in json_files:\n",
    "    with open(os.path.join(path_to_json, js)) as json_file:\n",
    "        # do something with your json; I'll just print\n",
    "        for line in json_file.readlines():\n",
    "            json_dict = json.loads(line)\n",
    "            if 'dxId' in json_dict:\n",
    "                #if any(keyword in json_dict[\"name\"].lower() for keyword in keywords):\n",
    "                #print(json_dict[\"message\"])\n",
    "                    filename_userId.append(json_dict['dxId'])\n",
    "                    count = count + 1\n",
    "            else:\n",
    "                count_no_name = count_no_name + 1\n",
    "                \n",
    "print(\"This is the list of the files with USERID as their filename: \")\n",
    "print(filename_userId)\n",
    "print(\"Number of files with the USERID as filename: \", count)\n",
    "print(\"Number of files where USERID is not the filename: \", count_no_name)\n",
    "\n",
    "                \n"
   ]
  },
  {
   "cell_type": "markdown",
   "metadata": {},
   "source": [
    "# Q3\n",
    "# Create a dictionary, containing (user_id,present). present is 0 if ‘user not              found’ else 1. Print random 5 entries"
   ]
  },
  {
   "cell_type": "code",
   "execution_count": 12,
   "metadata": {
    "collapsed": false,
    "scrolled": false
   },
   "outputs": [
    {
     "name": "stdout",
     "output_type": "stream",
     "text": [
      "This is the list of the files with USERID as their filename: \n",
      "1500\n",
      "Number of files with the USERID as filename:  623\n",
      "Number of files where USERID is not the filename:  877\n",
      "final length has to be 1500 :  1500\n",
      "{'USERID': 'A2HkZPkn1BpvvG5', 'present': 1}\n",
      "{'USERID': 'User Not Found', 'present': 0}\n",
      "{'USERID': 'A2VNCBDc1BI1q65', 'present': 1}\n",
      "{'USERID': 'User Not Found', 'present': 0}\n",
      "{'USERID': 'A3bVx1T11BLTx65', 'present': 1}\n",
      "{'USERID': 'A3j6Sjuz1BMMV82', 'present': 1}\n"
     ]
    }
   ],
   "source": [
    "import os, json\n",
    "import pandas as pd\n",
    "\n",
    "keywords = ('User not found')\n",
    "count = 0\n",
    "filename_userId = []\n",
    "count_no_name = 0\n",
    "path_to_json = 'F:/Python_DataAnalysis_Assignments/DataAnalysisPythonRepository_001680280/Assignment_1/jsons/'\n",
    "json_files = [pos_json for pos_json in os.listdir(path_to_json) if pos_json.endswith('.json')]\n",
    "#print(\"files:\", json_files)\n",
    "custom_dict = {}\n",
    "custom_dict1 = {}\n",
    "list_of_dictionaries = []\n",
    "for js in json_files:\n",
    "    with open(os.path.join(path_to_json, js)) as json_file:\n",
    "        # do something with your json; I'll just print\n",
    "        for line in json_file.readlines():\n",
    "            json_dict = json.loads(line)\n",
    "            custom_dict = {}\n",
    "            if 'dxId' in json_dict:\n",
    "                #if any(keyword in json_dict[\"name\"].lower() for keyword in keywords):\n",
    "                #print(json_dict[\"message\"])\n",
    "                    filename_userId.append(json_dict['dxId'])\n",
    "                    custom_dict['USERID'] = json_dict['dxId']\n",
    "                    custom_dict['present'] = 1\n",
    "                    #list_of_dictionaries.append(custom_dict)\n",
    "                    count = count + 1\n",
    "            if 'name' in json_dict:\n",
    "                 #if any(keyword in json_dict[\"name\"].lower() for keyword in keywords):\n",
    "                #print(json_dict[\"message\"])\n",
    "                    filename_userId.append(json_dict['name'])\n",
    "                    custom_dict['USERID'] = json_dict['name']\n",
    "                    custom_dict['present'] = 0\n",
    "                    #list_of_dictionaries.append(custom_dict1)\n",
    "                    count_no_name = count_no_name + 1\n",
    "\n",
    "        list_of_dictionaries.append(custom_dict)\n",
    "\n",
    "                \n",
    "            \n",
    "print(\"This is the list of the files with USERID as their filename: \")\n",
    "print(len(filename_userId))\n",
    "print(\"Number of files with the USERID as filename: \", count)\n",
    "print(\"Number of files where USERID is not the filename: \", count_no_name)\n",
    "print( \"final length has to be 1500 : \", len(list_of_dictionaries))\n",
    "for i in range(5,11):\n",
    "    print(list_of_dictionaries[i])                \n"
   ]
  },
  {
   "cell_type": "markdown",
   "metadata": {},
   "source": [
    "# Q4\n",
    "# For the same Json files, there is a field, `segmentUid` which can either start        with 0xxxx(lets call them 1st party data) or 1xxxxx (lets call them 3rd party          data). \n",
    "# For each user, count the number of first party segments and third party                segments. "
   ]
  },
  {
   "cell_type": "code",
   "execution_count": 13,
   "metadata": {
    "collapsed": false
   },
   "outputs": [
    {
     "name": "stdout",
     "output_type": "stream",
     "text": [
      "Number of files without USER:  623\n",
      "Number of files with USER:  877\n",
      "623\n",
      "[{'USERID': 'A1Fxs5Ag1A8vuB5', 'first': 91, 'third': 1246}, {'USERID': 'A2Dsv7RE1BDqYt5', 'first': 121, 'third': 27}, {'USERID': 'A2HkZPkn1BpvvG5', 'first': 15, 'third': 0}, {'USERID': 'A2VNCBDc1BI1q65', 'first': 6, 'third': 0}, {'USERID': 'A3bVx1T11BLTx65', 'first': 5, 'third': 0}, {'USERID': 'A3j6Sjuz1BMMV82', 'first': 1, 'third': 0}, {'USERID': 'A5xOTqVS1Amd7F5', 'first': 339, 'third': 1574}, {'USERID': 'A919aKwiqnBd0plwT3izfU0NhGRKnX6z', 'first': 1, 'third': 0}, {'USERID': 'A9UPpfah1BFECb5', 'first': 88, 'third': 337}, {'USERID': 'Aa8F01bG1zEVca5', 'first': 360, 'third': 1538}, {'USERID': 'AAD2VmOH1BMwW12', 'first': 1, 'third': 0}, {'USERID': 'AAHWj5QN1BJ1ZP5', 'first': 2, 'third': 0}, {'USERID': 'AAOnpE891BhSM45', 'first': 178, 'third': 500}, {'USERID': 'ABSy3tf91BzpGe5', 'first': 12, 'third': 26}, {'USERID': 'ABwA5DAx1Az1g65', 'first': 188, 'third': 2474}, {'USERID': 'ABwpqKRf1Bz2UG5', 'first': 68, 'third': 0}, {'USERID': 'AccoGpwU1BMvn42', 'first': 1, 'third': 0}, {'USERID': 'ACE6wrft1AqkzU5', 'first': 1, 'third': 1}, {'USERID': 'AcE7drxWsXOMPTMvKGWXlKq9ssEDqX1M', 'first': 227, 'third': 20}, {'USERID': 'AdjWlMHv1A8vM55', 'first': 125, 'third': 14}, {'USERID': 'AdLIMIYD1BuDiU2', 'first': 44, 'third': 159}, {'USERID': 'ADMEUt2D1BMGwN2', 'first': 1, 'third': 0}, {'USERID': 'AFFC2C591BlDCm5', 'first': 48, 'third': 386}, {'USERID': 'AGCpEWWb1BEx235', 'first': 4, 'third': 0}, {'USERID': 'AGIKzXTx1BMMk75', 'first': 4, 'third': 4}, {'USERID': 'AHijfs1f1BLo1i2', 'first': 8, 'third': 19}, {'USERID': 'Aig7jcGk1BqoTb5', 'first': 166, 'third': 1631}, {'USERID': 'AJHEkzfW1Adc5x5', 'first': 2, 'third': 0}, {'USERID': 'AJmn0gHp1BDJ242', 'first': 35, 'third': 0}, {'USERID': 'AjnCxTwv1BMutG2', 'first': 4, 'third': 0}, {'USERID': 'AKeCOVxv1AR78w5', 'first': 301, 'third': 914}, {'USERID': 'AKQDTy341AYLky5', 'first': 5, 'third': 0}, {'USERID': 'AlGylYZ91B9UaK5', 'first': 3, 'third': 0}, {'USERID': 'ALis2oIu1BMo275', 'first': 1, 'third': 0}, {'USERID': 'AlpgeUoO6y2LshqJxIu5tvHKcisaiRxY', 'first': 44, 'third': 194}, {'USERID': 'ALxJlgbJ1BhwXC5', 'first': 2, 'third': 3}, {'USERID': 'AMrlahXF1BdClC2', 'first': 63, 'third': 2184}, {'USERID': 'AMzoHgJo1zzHp05', 'first': 240, 'third': 2692}, {'USERID': 'AnhmBX0Z1BMLcf5', 'first': 3, 'third': 0}, {'USERID': 'AniGWaG71BFC205', 'first': 89, 'third': 86}, {'USERID': 'AnQ6ESQ61Aoc4F5', 'first': 223, 'third': 1231}, {'USERID': 'AnTIjUWG1BDNX85', 'first': 201, 'third': 27}, {'USERID': 'ANuFI3wm1BM9C75', 'first': 3, 'third': 0}, {'USERID': 'AoMDTLDe1Bk5lD5', 'first': 317, 'third': 700}, {'USERID': 'APlqXoMg1AcwZy5', 'first': 29, 'third': 100}, {'USERID': 'AQLqHEvX1BLnIp5', 'first': 7, 'third': 0}, {'USERID': 'AR0hkF421BFyc25', 'first': 1, 'third': 0}, {'USERID': 'ARGizL9S1B8ZD25', 'first': 103, 'third': 66}, {'USERID': 'ARI5Y6ZM1BImA25', 'first': 12, 'third': 0}, {'USERID': 'AsvbNPu71B75C65', 'first': 321, 'third': 0}, {'USERID': 'AtGOWVZf1BLjrK2', 'first': 5, 'third': 0}, {'USERID': 'ATPm3LpW1BepUd5', 'first': 467, 'third': 1686}, {'USERID': 'AtRPmo9f1BJSDf5', 'first': 11, 'third': 0}, {'USERID': 'AUqXVIJz1BhjHj5', 'first': 1, 'third': 0}, {'USERID': 'AuRamyuA1BMJkI2', 'first': 4, 'third': 0}, {'USERID': 'AxtScjEi1Btf3Y5', 'first': 2, 'third': 0}, {'USERID': 'AY9GdOjk1ztGOt5', 'first': 1, 'third': 0}, {'USERID': 'AYBhCCwF1zzi5m5', 'first': 231, 'third': 0}, {'USERID': 'AzSGyFPG1BMaSb5', 'first': 6, 'third': 0}, {'USERID': 'B0jSr8hO1BqCAc5', 'first': 4, 'third': 19}, {'USERID': 'B1fkWU4B1BnJpi5', 'first': 45, 'third': 0}, {'USERID': 'B54jhdRr1BrnBO5', 'first': 67, 'third': 396}, {'USERID': 'B5jXbs5X1BMwhq5', 'first': 6, 'third': 0}, {'USERID': 'B6MHb4ZP1BDFEq5', 'first': 15, 'third': 0}, {'USERID': 'B6ohYGtm1ByFOI5', 'first': 146, 'third': 917}, {'USERID': 'B7R1QfGl1AvPZw5', 'first': 194, 'third': 1224}, {'USERID': 'B9JmSTEk1BI70R5', 'first': 10, 'third': 0}, {'USERID': 'BA0Q9k0P1BGDyo2', 'first': 7, 'third': 2}, {'USERID': 'Bb0vE5cP1BLNMa5', 'first': 3, 'third': 0}, {'USERID': 'BBR91eEw1BDCxE5', 'first': 18, 'third': 0}, {'USERID': 'BbsEjJhY1A9y6x5', 'first': 102, 'third': 0}, {'USERID': 'BCaQ1o0L1BF6Vv2', 'first': 87, 'third': 28}, {'USERID': 'BDCb90TA1BLgGH5', 'first': 88, 'third': 20}, {'USERID': 'BdKcsiu41BxtBr5', 'first': 74, 'third': 324}, {'USERID': 'BDVxEPRh1BLQUL5', 'first': 39, 'third': 32}, {'USERID': 'BdygLYWF1AIUmH5', 'first': 295, 'third': 1336}, {'USERID': 'Be8W8wmK1AoryF5', 'first': 92, 'third': 0}, {'USERID': 'BekLXUjv1AZJCO5', 'first': 244, 'third': 0}, {'USERID': 'BENy3u321Bu3jA5', 'first': 58, 'third': 1469}, {'USERID': 'Bevic89q1BI78c5', 'first': 3, 'third': 8}, {'USERID': 'BF0LwNhC1BekAq2', 'first': 44, 'third': 0}, {'USERID': 'BG7SjKA21BuLQG5', 'first': 3, 'third': 0}, {'USERID': 'BGijYBDQ1AX6HB5', 'first': 9, 'third': 105}, {'USERID': 'BIpfcxZA1zQ35g5', 'first': 418, 'third': 0}, {'USERID': 'BiStK9rA1zT5VS5', 'first': 394, 'third': 1955}, {'USERID': 'BiSyaEpH1BHs2P5', 'first': 11, 'third': 1}, {'USERID': 'BIuv0zAE1BLRsg5', 'first': 5, 'third': 17}, {'USERID': 'Bk4iIqky1Bl3SL2', 'first': 145, 'third': 172}, {'USERID': 'BKrmTGPK1BMn4W5', 'first': 59, 'third': 0}, {'USERID': 'BlgoDTTL1BLp075', 'first': 4, 'third': 0}, {'USERID': 'BMjPBNTk1AOWPF5', 'first': 380, 'third': 1091}, {'USERID': 'BmsYFBKO1BdaO55', 'first': 34, 'third': 873}, {'USERID': 'BN5TKLdK1zsXgV5', 'first': 253, 'third': 2494}, {'USERID': 'BOaq3ZNo1AzLOR5', 'first': 272, 'third': 1181}, {'USERID': 'BoMsIYqa1BDho55', 'first': 11, 'third': 18}, {'USERID': 'BovGXCnr1Bti305', 'first': 107, 'third': 835}, {'USERID': 'Bpk3BPmD1BLmwF5', 'first': 6, 'third': 0}, {'USERID': 'BPmPI8001BMsIa5', 'first': 4, 'third': 0}, {'USERID': 'BPXhjodA1BMq0f2', 'first': 1, 'third': 0}, {'USERID': 'BqPyokHE1Acifj5', 'first': 236, 'third': 1187}, {'USERID': 'BQYVihQz1BFwt25', 'first': 18, 'third': 0}, {'USERID': 'BsEiZ9y61B4gjI5', 'first': 143, 'third': 2780}, {'USERID': 'BT50R6Qw1BMqhl5', 'first': 4, 'third': 0}, {'USERID': 'Bt8HN1TN1AZbUB5', 'first': 10, 'third': 16}, {'USERID': 'BtHxPRga1zV8Ci5', 'first': 206, 'third': 2139}, {'USERID': 'FvIMrHQk1BnrqL5', 'first': 168, 'third': 1052}, {'USERID': 'FvxnmIZU1AWxGP5', 'first': 1, 'third': 0}, {'USERID': 'FwesrNXp1ABBQT5', 'first': 5, 'third': 0}, {'USERID': 'fWOrVAxL1BMLWy2', 'first': 4, 'third': 0}, {'USERID': 'FwTVVs8j1AJO1U5', 'first': 262, 'third': 64}, {'USERID': 'FX5fmTRe1BnZec5', 'first': 220, 'third': 130}, {'USERID': 'Fxf1G7Es1BoYdG5', 'first': 395, 'third': 1310}, {'USERID': 'FxTuYsfm1BnEYC5', 'first': 0, 'third': 0}, {'USERID': 'FXYoNBlF1BMs162', 'first': 1, 'third': 0}, {'USERID': 'FyXumeBK1BKKMo5', 'first': 7, 'third': 2}, {'USERID': 'fzCWCwa81AhApU5', 'first': 0, 'third': 0}, {'USERID': 'FZRY65XU1A405M5', 'first': 415, 'third': 773}, {'USERID': 'FztYhncS1BMubM5', 'first': 4, 'third': 0}, {'USERID': 'FZua0Uxl1BMOYm2', 'first': 1, 'third': 0}, {'USERID': 'G03xcobX1BjAxe5', 'first': 3, 'third': 1}, {'USERID': 'g07DrnGU1BLE0X5', 'first': 2, 'third': 0}, {'USERID': 'G0aXzHDS1BMzKr2', 'first': 4, 'third': 0}, {'USERID': 'G0GCyqRk1Ba51g5', 'first': 192, 'third': 1806}, {'USERID': 'G0mjg96A1A4z1p5', 'first': 60, 'third': 0}, {'USERID': 'G1dhvwTI1B45yf5', 'first': 122, 'third': 1}, {'USERID': 'g1DPeDI11BHOyi5', 'first': 9, 'third': 0}, {'USERID': 'G1HUFiGX1BkPEc5', 'first': 14, 'third': 15}, {'USERID': 'G1MIBSBH1ByC2u5', 'first': 14, 'third': 8}, {'USERID': 'G2l0GlBb1Bwpxf5', 'first': 190, 'third': 977}, {'USERID': 'g30TxF1W1A5zip5', 'first': 27, 'third': 205}, {'USERID': 'g3bmJ7hI1BMvIC2', 'first': 1, 'third': 0}, {'USERID': 'g3w9AsiW1BM7w32', 'first': 1, 'third': 0}, {'USERID': 'G4ygoHJR1BCZ5i2', 'first': 118, 'third': 335}, {'USERID': 'g53MTe0i1BFwWn5', 'first': 0, 'third': 0}, {'USERID': 'g54OZDxJ1AjU9A5', 'first': 93, 'third': 776}, {'USERID': 'g58fMEEi1BBMGY5', 'first': 7, 'third': 0}, {'USERID': 'g6rJPqKY1BDDhM5', 'first': 64, 'third': 33}, {'USERID': 'g6uTAWNA1ANb2d5', 'first': 5, 'third': 0}, {'USERID': 'G6yvLRud1BJylQ2', 'first': 20, 'third': 2}, {'USERID': 'g7cdiFT01BMybI2', 'first': 2, 'third': 0}, {'USERID': 'G7ILtDa31BwXhx5', 'first': 71, 'third': 62}, {'USERID': 'G7rpQ4vY1BI6uM2', 'first': 2, 'third': 0}, {'USERID': 'g7ZYJoVZ1Biklu5', 'first': 140, 'third': 530}, {'USERID': 'g80GJLlK1BKis35', 'first': 9, 'third': 0}, {'USERID': 'g8Ej8Y901BL4e45', 'first': 53, 'third': 0}, {'USERID': 'g9FbT5GAvfhYXIYrLDN8hGIJPeOvdRye', 'first': 1, 'third': 0}, {'USERID': 'g9nTxgPQ1BMwk92', 'first': 4, 'third': 0}, {'USERID': 'g9nxwxLF1BF5WL2', 'first': 46, 'third': 48}, {'USERID': 'ga4nrcT71BMrLz5', 'first': 4, 'third': 0}, {'USERID': 'gAGOFJsL1BcBsU5', 'first': 46, 'third': 97}, {'USERID': 'gAzm2a8S1BIxC05', 'first': 13, 'third': 0}, {'USERID': 'Gb51o7ol1BA8Jf5', 'first': 48, 'third': 7}, {'USERID': 'gbdplUAy1BMnmc2', 'first': 1, 'third': 0}, {'USERID': 'GBe4DTe41BcyK15', 'first': 5, 'third': 10}, {'USERID': 'GbstW8if1B4xPO5', 'first': 179, 'third': 929}, {'USERID': 'Gc90Oc0x1zQO9M5', 'first': 67, 'third': 38}, {'USERID': 'GCkFM4uj1BpNS65', 'first': 251, 'third': 2613}, {'USERID': 'GCoEORZO1zWf3e5', 'first': 272, 'third': 3}, {'USERID': 'gcqe285I1BwxeK5', 'first': 73, 'third': 798}, {'USERID': 'Gcrvfihv1BMwXG2', 'first': 1, 'third': 0}, {'USERID': 'gcyyGodc1AO2J15', 'first': 322, 'third': 2191}, {'USERID': 'q06QaaY91BMmUf5', 'first': 3, 'third': 0}, {'USERID': 'Q354qrDS1Btal05', 'first': 244, 'third': 566}, {'USERID': 'Q4nwk3Gh1BKCS45', 'first': 4, 'third': 0}, {'USERID': 'Q5EnGgDM1BhWjo5', 'first': 4, 'third': 3}, {'USERID': 'q5N116GQ1BMdbf2', 'first': 1, 'third': 0}, {'USERID': 'Q72ts3B41Bcuag5', 'first': 83, 'third': 2347}, {'USERID': 'q7Y681J51zK01u2', 'first': 212, 'third': 0}, {'USERID': 'q8TVfU1W1BDHfh2', 'first': 46, 'third': 127}, {'USERID': 'Q8YghwIE1BH49S5', 'first': 4, 'third': 56}, {'USERID': 'Q9QRGy391BtQIQ5', 'first': 29, 'third': 745}, {'USERID': 'QAafxXTl1BM9hD5', 'first': 5, 'third': 0}, {'USERID': 'Qae5k9IB1AiPtx5', 'first': 1, 'third': 4}, {'USERID': 'qakOLREM1BLXoM5', 'first': 1, 'third': 0}, {'USERID': 'QAr7G9t41BIRoS5', 'first': 54, 'third': 0}, {'USERID': 'qaYSpRdq1BqDGF5', 'first': 26, 'third': 444}, {'USERID': 'qb5rCu9u1BMOZl2', 'first': 1, 'third': 0}, {'USERID': 'QP655HOF1B4tPp5', 'first': 323, 'third': 1794}, {'USERID': 'qPB2M3Bj1ABQY25', 'first': 295, 'third': 7}, {'USERID': 'qPDSnDTM1BMP4J5', 'first': 1, 'third': 0}, {'USERID': 'qPntkVP71BMOPB5', 'first': 5, 'third': 1}, {'USERID': 'Qpu2EAfQ1BMm5J2', 'first': 4, 'third': 0}, {'USERID': 'Qq0WtvWw1B7qmC5', 'first': 390, 'third': 3896}, {'USERID': 'qq9kS06r1B6lcp5', 'first': 235, 'third': 662}, {'USERID': 'qQbfcvFi1B2krk5', 'first': 305, 'third': 2609}, {'USERID': 'qQfVQ5Hf1BJuks5', 'first': 20, 'third': 0}, {'USERID': 'QqfwcL4Y1Bnvm05', 'first': 147, 'third': 749}, {'USERID': 'qrChX24k1BHqlv5', 'first': 28, 'third': 34}, {'USERID': 'Qrd4002a1BCbrm5', 'first': 30, 'third': 259}, {'USERID': 'qrj7e1w01BovOU5', 'first': 117, 'third': 697}, {'USERID': 'QRkstXPN1zG1fk5', 'first': 440, 'third': 2807}, {'USERID': 'qrQOHyoQ1zFyYL5', 'first': 154, 'third': 0}, {'USERID': 'QS9Jnyre1Bzq2z2', 'first': 21, 'third': 573}, {'USERID': 'QsamkhX91BHXR75', 'first': 11, 'third': 0}, {'USERID': 'QsAVgeiL1BDh2G5', 'first': 32, 'third': 23}, {'USERID': 'QtahjAZT1BMLgW5', 'first': 4, 'third': 0}, {'USERID': 'QtkSTLCB1BIsFK5', 'first': 8, 'third': 16}, {'USERID': 'Qtu8zclN1znQkl5', 'first': 108, 'third': 1618}, {'USERID': 'Qu1x0BYC1AHPoe5', 'first': 152, 'third': 0}, {'USERID': 'qu4Z0gyTXlYkt08UeQuM8Oleh50eFf8l', 'first': 3, 'third': 0}, {'USERID': 'QuI5P7sG1BoBus5', 'first': 156, 'third': 790}, {'USERID': 'qunhQRw41BMqRD2', 'first': 1, 'third': 0}, {'USERID': 'qUogFx1H1B4kac2', 'first': 132, 'third': 104}, {'USERID': 'QuwOnkyK1AqLRV2', 'first': 5, 'third': 6}, {'USERID': 'Qve9aYp91zzUnC5', 'first': 159, 'third': 0}, {'USERID': 'QW5fjLE21BH3B35', 'first': 7, 'third': 7}, {'USERID': 'QWbykDVS1BMaD92', 'first': 1, 'third': 0}, {'USERID': 'QwHk9b6V1AEqMH5', 'first': 102, 'third': 0}, {'USERID': 'QWqdZF2t1AthDN5', 'first': 0, 'third': 0}, {'USERID': 'QWqI76vY1BCSPK5', 'first': 24, 'third': 229}, {'USERID': 'qwRTQ9Lj1Bpk3e5', 'first': 274, 'third': 588}, {'USERID': 'qXAOQWaG1BMzsB5', 'first': 1, 'third': 0}, {'USERID': 'qxDZeVmG1BJQPj5', 'first': 38, 'third': 0}, {'USERID': 'QxNB4bGg1BH1Xz5', 'first': 8, 'third': 0}, {'USERID': 'QXXNnlDy1BKdw25', 'first': 5, 'third': 0}, {'USERID': 'QY3ONjDv1BiPYt5', 'first': 120, 'third': 1243}, {'USERID': 'QyrNpJ3c1BIsbm5', 'first': 25, 'third': 8}, {'USERID': 'qZfpYTat1BIKg85', 'first': 19, 'third': 0}, {'USERID': 'qZigPREc1BMNzi2', 'first': 1, 'third': 0}, {'USERID': 'QZL7nIpc1AN9w22', 'first': 264, 'third': 734}, {'USERID': 'QZZl3uCS1By2wz5', 'first': 15, 'third': 15}, {'USERID': 'R0bRPwwc1Bj8SG5', 'first': 192, 'third': 0}, {'USERID': 'R0hAO3n41BCIGv5', 'first': 4, 'third': 0}, {'USERID': 'r11ejw1U1BKHr45', 'first': 8, 'third': 0}, {'USERID': 'r15pEZTi1BMsyT5', 'first': 3, 'third': 1}, {'USERID': 'R1IYuUzz1AR8Os5', 'first': 178, 'third': 2}, {'USERID': 'r1MezVIf1Bhxrt6', 'first': 184, 'third': 560}, {'USERID': 'r24op22O1BunLZ5', 'first': 217, 'third': 58}, {'USERID': 'r2OH1qz91zWJgQ5', 'first': 309, 'third': 378}, {'USERID': 'r3HyXat91APNOu5', 'first': 179, 'third': 94}, {'USERID': 'r4hGmDUM1Burdg5', 'first': 238, 'third': 475}, {'USERID': 'r4LsJesz1BEe8w5', 'first': 0, 'third': 0}, {'USERID': 'r4qhc4lZ1BLHR15', 'first': 1, 'third': 21}, {'USERID': 'r5X6ciY71BlHC32', 'first': 144, 'third': 162}, {'USERID': 'R6JfH8ck1BJeZx2', 'first': 22, 'third': 4}, {'USERID': 'R6KTK5QO1BMs7t2', 'first': 4, 'third': 0}, {'USERID': 'R6oQa2GG1BMMM95', 'first': 1, 'third': 0}, {'USERID': 'R75QcDlk1BMIuC5', 'first': 8, 'third': 3}, {'USERID': 'R7FJCkge1ANWJf5', 'first': 161, 'third': 2}, {'USERID': 'R7Jr48Oy1BMxAO5', 'first': 35, 'third': 17}, {'USERID': 'r8eR4nDu1BMOCx2', 'first': 2, 'third': 0}, {'USERID': 'r8MYOFW11zEzdd5', 'first': 165, 'third': 5}, {'USERID': 'R8nkA9GD1Borkr5', 'first': 19, 'third': 103}, {'USERID': 'R98b5Mzr1Bi1nb5', 'first': 336, 'third': 837}, {'USERID': 'R9cDiCOn1BLdgf5', 'first': 3, 'third': 0}, {'USERID': 'R9N9QzFO1B9Hqi5', 'first': 194, 'third': 436}, {'USERID': 'rA0KtS0J1AMmTw5', 'first': 222, 'third': 597}, {'USERID': 'RAbXwtOJ1BIsR05', 'first': 3, 'third': 0}, {'USERID': 'RB3emS9P1BM9Xg2', 'first': 14, 'third': 9}, {'USERID': 'rbBHXXAu1BHqTl5', 'first': 0, 'third': 0}, {'USERID': 'rbDl0jv21BFF9P5', 'first': 10, 'third': 0}, {'USERID': 'rbdU0rGk1BqgNk5', 'first': 275, 'third': 3013}, {'USERID': 'RC0bR5hm1BFfsh5', 'first': 11, 'third': 0}, {'USERID': 'rcAqwEm51AQwSN5', 'first': 180, 'third': 378}, {'USERID': 'rcddMu2Y1BGiSo5', 'first': 0, 'third': 0}, {'USERID': 'RchaJXZU1B0bPK5', 'first': 77, 'third': 885}, {'USERID': 'rcJDu64e1BAcO22', 'first': 5, 'third': 0}, {'USERID': 'rcnd53uk1AbZg15', 'first': 152, 'third': 1}, {'USERID': 'RCrCAOZv1B7JMI5', 'first': 270, 'third': 321}, {'USERID': 'RCtixFDc1BMMU02', 'first': 1, 'third': 0}, {'USERID': 'RcTSaSAYAkEeGrLD8tj0JQ7SoRC4jsJN', 'first': 19, 'third': 0}, {'USERID': 'RehuTeXf1BKV2b5', 'first': 11, 'third': 0}, {'USERID': 'REi64X7d1AGFnF2', 'first': 190, 'third': 15}, {'USERID': 'REInZTyX1BMxe62', 'first': 1, 'third': 0}, {'USERID': 'rekGI7C61AwVWu5', 'first': 76, 'third': 0}, {'USERID': 'ReKxr3i91AUv6d5', 'first': 1, 'third': 0}, {'USERID': 'reobCSyd1BFFrS5', 'first': 0, 'third': 0}, {'USERID': 'REon76Ro1Bk6t55', 'first': 8, 'third': 0}, {'USERID': 'rEU5SXr61ALxuB5', 'first': 241, 'third': 225}, {'USERID': 'RF4aLnyy1Bq4qB5', 'first': 71, 'third': 457}, {'USERID': 'RFAfKOJZ1A5o0D5', 'first': 367, 'third': 0}, {'USERID': 'RFc6ANkN1BLN4R5', 'first': 27, 'third': 0}, {'USERID': 'rfjK1sh51AKAIe5', 'first': 109, 'third': 166}, {'USERID': 'RFm7ejJ61BoSl85', 'first': 313, 'third': 1033}, {'USERID': 'RFWrTlYu1zXk9c5', 'first': 25, 'third': 594}, {'USERID': 'rG73nibf1B7xmG5', 'first': 61, 'third': 158}, {'USERID': 'rGbkm76421xRPvwBWd1dbspgVUoOj8jK', 'first': 117, 'third': 0}, {'USERID': 'RgeMZ2Qb1BkRzq5', 'first': 155, 'third': 16}, {'USERID': 'RgL8LXyb1BuAUy5', 'first': 81, 'third': 145}, {'USERID': 'RgMORvt81AMI4r5', 'first': 3, 'third': 0}, {'USERID': 'rGoHAdWO1ADNeS2', 'first': 189, 'third': 159}, {'USERID': 'rHbhzx1oJMJMR7gd0J1hBxaMonADiig1', 'first': 10, 'third': 0}, {'USERID': 'RhcAKh6i1BGUGA5', 'first': 22, 'third': 12}, {'USERID': 'RhE0MivB1Bsay25', 'first': 62, 'third': 613}, {'USERID': 'rhJcwbkO1Bo4ZD5', 'first': 70, 'third': 75}, {'USERID': 'rHLEe68s1ARcUj5', 'first': 1, 'third': 0}, {'USERID': 'RhomxVAg1BKCXM5', 'first': 4, 'third': 0}, {'USERID': 'rhUZigaH1BKFi75', 'first': 4, 'third': 0}, {'USERID': 'rhxmikOH1BmWKB5', 'first': 6, 'third': 0}, {'USERID': 'RHXQIJOF1BuJi95', 'first': 20, 'third': 55}, {'USERID': 'RIm45HSY1BFgQA5', 'first': 60, 'third': 1}, {'USERID': 'RIncB32I1BMoqi5', 'first': 5, 'third': 0}, {'USERID': 'RIRoYnVj1BMpBT5', 'first': 1, 'third': 0}, {'USERID': 'rj7uNpUo1AYptb5', 'first': 185, 'third': 53}, {'USERID': 'RjMCFkE11B3zIi5', 'first': 261, 'third': 0}, {'USERID': 'rKeUzrwj1ByL3k5', 'first': 8, 'third': 0}, {'USERID': 'RkKb0PjT1zMWgW5', 'first': 96, 'third': 712}, {'USERID': 'RkLRclQqb7zWsPZXCEbrns4zumGJBBCJ', 'first': 17, 'third': 0}, {'USERID': 'RKOYw5sY1ByIY22', 'first': 10, 'third': 33}, {'USERID': 'RKRK1Pte1BwXnT5', 'first': 13, 'third': 237}, {'USERID': 'rlAi8wN93hgezmuFnwKSvvbpJbBJH4CY', 'first': 166, 'third': 727}, {'USERID': 'RLbeoM011BCnDo5', 'first': 19, 'third': 151}, {'USERID': 'rlCDZMai1ALhom5', 'first': 56, 'third': 369}, {'USERID': 'RleTQ9pG1A88GT5', 'first': 2, 'third': 0}, {'USERID': 'RLFsETGD1AqMyr5', 'first': 2, 'third': 0}, {'USERID': 'RLHN1Vk91BbIQk5', 'first': 159, 'third': 1775}, {'USERID': 'rLi53H881BAlra5', 'first': 4, 'third': 5}, {'USERID': 'RMo7Cxzi1Bgf8d5', 'first': 105, 'third': 114}, {'USERID': 'RmtpGQeX1zsWF15', 'first': 170, 'third': 1874}, {'USERID': 'rMUhNuX11AeS7d5', 'first': 121, 'third': 0}, {'USERID': 'rMXdZsXg1BERmv5', 'first': 206, 'third': 279}, {'USERID': 'rn01nShC1BMtzG5', 'first': 7, 'third': 0}, {'USERID': 'Rn9dcjzH1AvoVa2', 'first': 55, 'third': 0}, {'USERID': 'rnegUVaP1Be3NF5', 'first': 220, 'third': 0}, {'USERID': 'rnIaTwvt1BLkQl5', 'first': 13, 'third': 20}, {'USERID': 'rNozYJSV1AYgIa5', 'first': 60, 'third': 185}, {'USERID': 'rnWS78W61Bz3Lj5', 'first': 64, 'third': 0}, {'USERID': 'RobjHrno1BFwTD2', 'first': 18, 'third': 46}, {'USERID': 'ROD15LNO1zGDlD5', 'first': 141, 'third': 74}, {'USERID': 'rOiau9pJquU0YRpMYYR4ElY1ibePWz1p', 'first': 179, 'third': 898}, {'USERID': 'RoQ441oX1Br3TE5', 'first': 45, 'third': 89}, {'USERID': 'rP7XoEXx1BLs865', 'first': 1, 'third': 23}, {'USERID': 'rpmRdl6r1BqIhj5', 'first': 7, 'third': 125}, {'USERID': 'rpoqhaolyyD7lTxShcyD7NMhFnK2nbDE', 'first': 290, 'third': 0}, {'USERID': 'rQ0RjFZC1BGkTb5', 'first': 145, 'third': 239}, {'USERID': 'rQ9QWdAT1BMwRx5', 'first': 3, 'third': 9}, {'USERID': 'rQfQle9t1BMoDh2', 'first': 4, 'third': 0}, {'USERID': 'rqIAinu01BDpqe5', 'first': 12, 'third': 41}, {'USERID': 'RQkMZUZe1BI0UM2', 'first': 17, 'third': 0}, {'USERID': 'rR8iX0HM1BEwXK2', 'first': 22, 'third': 53}, {'USERID': 'RRhP7AZu1AW5Vn5', 'first': 192, 'third': 205}, {'USERID': 'rRi5LVgw1BbC2j5', 'first': 0, 'third': 0}, {'USERID': 'rrLnHyNs1BKZUy5', 'first': 7, 'third': 0}, {'USERID': 'rrOPB4jR1BLZrB5', 'first': 11, 'third': 12}, {'USERID': 'RrpHRhiE1Bv2mL5', 'first': 35, 'third': 176}, {'USERID': 'RSkEBmcm1BBigz5', 'first': 92, 'third': 320}, {'USERID': 'rsnKu4BH1BhGBD5', 'first': 36, 'third': 0}, {'USERID': 'RsRfgh3v1B92BJ5', 'first': 7, 'third': 0}, {'USERID': 'RsXwvljm1AhLad2', 'first': 171, 'third': 356}, {'USERID': 'rtHMOVvr1Brs2u5', 'first': 0, 'third': 0}, {'USERID': 'RtIoKu2C1zPlPC5', 'first': 171, 'third': 404}, {'USERID': 'RtSjLEjv1BMoXq2', 'first': 4, 'third': 0}, {'USERID': 'RTXwl3iw1BpZsY5', 'first': 117, 'third': 93}, {'USERID': 'RuCdPh3Q1BDcGL5', 'first': 0, 'third': 0}, {'USERID': 'rUcoRMHx1Ak9SX5', 'first': 171, 'third': 0}, {'USERID': 'RuCV2Ml01BztxS5', 'first': 1, 'third': 0}, {'USERID': 'ruE1v11v1BMHIh2', 'first': 4, 'third': 0}, {'USERID': 'rUgMObVC1BB8O35', 'first': 4, 'third': 0}, {'USERID': 'RukXNrFv1BLPIq2', 'first': 9, 'third': 35}, {'USERID': 'rUMLvvEj1BEy012', 'first': 9, 'third': 0}, {'USERID': 'run6Rgjd1BuoAv5', 'first': 80, 'third': 590}, {'USERID': 'ruZhhuu61BjjZH5', 'first': 193, 'third': 0}, {'USERID': 'Rv7YUw1o1BvnJk5', 'first': 138, 'third': 725}, {'USERID': 'rVanM4F31BMv2i5', 'first': 2, 'third': 0}, {'USERID': 'rvFrQSud1Bairy5', 'first': 1, 'third': 0}, {'USERID': 'RVRSFBBd1BnvBc5', 'first': 66, 'third': 988}, {'USERID': 'rvTjjoAm1AJTZx5', 'first': 47, 'third': 468}, {'USERID': 'rwHZJrqP1BI9WP5', 'first': 16, 'third': 8}, {'USERID': 'VGPfVlzt1BIHmY2', 'first': 13, 'third': 0}, {'USERID': 'vGQWymI81BDiCq5', 'first': 151, 'third': 313}, {'USERID': 'VgYBf4X11BMO2e2', 'first': 1, 'third': 0}, {'USERID': 'VH8e8hPS1BJ8A65', 'first': 16, 'third': 0}, {'USERID': 'VHyOyWcCTwVwZeJyXZH427pWsWKNWbsg', 'first': 163, 'third': 0}, {'USERID': 'vIaWDxe21BHeX45', 'first': 1, 'third': 0}, {'USERID': 'VIEaQ5Ey1BiHhl5', 'first': 294, 'third': 0}, {'USERID': 'viYLTDxE1B9AUu5', 'first': 81, 'third': 116}, {'USERID': 'vIZvughTQ6aIGGO09Ux1FfsvIAwvFLen', 'first': 92, 'third': 0}, {'USERID': 'vJHTYrfm1AOdVd2', 'first': 19, 'third': 121}, {'USERID': 'vjljAxZ41BqE2f5', 'first': 246, 'third': 761}, {'USERID': 'VjSnHLtrZLAhNPcRurj6ExcbVAFFT3un', 'first': 29, 'third': 0}, {'USERID': 'vjukd8Ep1ANQXJ5', 'first': 116, 'third': 42}, {'USERID': 'vjxp4aHx1Astzo5', 'first': 199, 'third': 697}, {'USERID': 'vk1WhQROOaoy4ZALy7opLpEZhWC1GxgS', 'first': 298, 'third': 14}, {'USERID': 'vkbVIIwp1BMKC22', 'first': 3, 'third': 1}, {'USERID': 'VKnyAdDs1BgRL35', 'first': 392, 'third': 288}, {'USERID': 'vksYxtk71BqBWj5', 'first': 281, 'third': 765}, {'USERID': 'vkwwRtNf1zRhlQ5', 'first': 473, 'third': 0}, {'USERID': 'vLdmrHKE1BJvsw5', 'first': 8, 'third': 0}, {'USERID': 'VLGY20Zs1BGvV45', 'first': 74, 'third': 1}, {'USERID': 'vlpdSh6i1AOXUa5', 'first': 266, 'third': 1}, {'USERID': 'VLxuMKFn1BhKf05', 'first': 190, 'third': 263}, {'USERID': 'vLZKER2W1BGfzD5', 'first': 144, 'third': 563}, {'USERID': 'VMbt31ld1BBW6C5', 'first': 2, 'third': 0}, {'USERID': 'VmTJWZu51BkPlR5', 'first': 193, 'third': 1655}, {'USERID': 'VmU8tt491BM1UC2', 'first': 1, 'third': 0}, {'USERID': 'VMvFV5X41A1SLj5', 'first': 123, 'third': 0}, {'USERID': 'vNGkqbXk1BMKjd2', 'first': 1, 'third': 0}, {'USERID': 'VnN6zg6r1zLlRS5', 'first': 373, 'third': 948}, {'USERID': 'vnxWp3r31Bx3rL5', 'first': 104, 'third': 113}, {'USERID': 'VNyyIVf41Bh3co5', 'first': 284, 'third': 1742}, {'USERID': 'VOIcWFmB1BKhmf5', 'first': 3, 'third': 0}, {'USERID': 'VoXkSIU31AWwnb2', 'first': 226, 'third': 1521}, {'USERID': 'Vp8oy8lN1Bs9Ky5', 'first': 0, 'third': 0}, {'USERID': 'VPGqpAaM1BFYyf5', 'first': 9, 'third': 3}, {'USERID': 'VPPA4CmX1BugZy5', 'first': 268, 'third': 1341}, {'USERID': 'VPSaAVrM1zYUyh5', 'first': 2, 'third': 0}, {'USERID': 'vQ0m53Ax1BI45J5', 'first': 3, 'third': 0}, {'USERID': 'Vq2C9u0u1BsbPF5', 'first': 116, 'third': 598}, {'USERID': 'vqNPYjndiO2K4NcidiUcuMIcTY2nTKZ8', 'first': 162, 'third': 51}, {'USERID': 'vqTjwdYb1BMy7s5', 'first': 5, 'third': 8}, {'USERID': 'VQZjOCNu1BtJTI5', 'first': 85, 'third': 367}, {'USERID': 'Vrjd5vpq1Advbq5', 'first': 101, 'third': 335}, {'USERID': 'vrZ9dXXP1BtO5w5', 'first': 198, 'third': 1135}, {'USERID': 'VRzQ2Owo1BByll5', 'first': 158, 'third': 1510}, {'USERID': 'vs7Q55Ab1BD9Go5', 'first': 6, 'third': 31}, {'USERID': 'VSmsuQLi1zHoRH5', 'first': 5, 'third': 0}, {'USERID': 'vsnTQP1D1ATjpF5', 'first': 56, 'third': 4}, {'USERID': 'VSUBQqJf1BLDUq5', 'first': 9, 'third': 491}, {'USERID': 'vSzyn86Y1BH8yF5', 'first': 13, 'third': 16}, {'USERID': 'VT8pdysN1zvRqK5', 'first': 243, 'third': 35}, {'USERID': 'VtbhaDJP1BMqzC2', 'first': 1, 'third': 0}, {'USERID': 'VtkRv2V91BM9rd5', 'first': 1, 'third': 0}, {'USERID': 'vTsqsqq41A0wIK5', 'first': 16, 'third': 0}, {'USERID': 'VUbqbYjj1BMx675', 'first': 2, 'third': 1}, {'USERID': 'VuGrlYM11BJy6Z5', 'first': 34, 'third': 0}, {'USERID': 'VUOAvH5I1BMkFH2', 'first': 1, 'third': 0}, {'USERID': 'VuujW5f61BlTna5', 'first': 205, 'third': 1043}, {'USERID': 'VV9OvM4I1AsX142', 'first': 4, 'third': 0}, {'USERID': 'vVeRRq9Q1BwxQq5', 'first': 44, 'third': 64}, {'USERID': 'VVQ6gUGL1BM8Lm5', 'first': 4, 'third': 0}, {'USERID': 'vVrtKgMX1BweMp5', 'first': 9, 'third': 0}, {'USERID': 'vVWPb3qX1BhW3b5', 'first': 80, 'third': 491}, {'USERID': 'Vw1nFgNH1BCHSx5', 'first': 122, 'third': 348}, {'USERID': 'vWeMud5V1BMyma2', 'first': 1, 'third': 0}, {'USERID': 'VWKu5RKy1BzphM5', 'first': 119, 'third': 958}, {'USERID': 'vwOCckem1Bx4Wa5', 'first': 56, 'third': 484}, {'USERID': 'vWX6noiG1BMNep5', 'first': 2, 'third': 0}, {'USERID': 'vwZGeczL1BqGIi5', 'first': 73, 'third': 89}, {'USERID': 'Vx5uIXgV1BFWKp5', 'first': 11, 'third': 3}, {'USERID': 'Vx65yIWz1BHSx95', 'first': 3, 'third': 0}, {'USERID': 'vxe4Aqve1BM9oT5', 'first': 2, 'third': 0}, {'USERID': 'VXHWYz8a1AB7WM2', 'first': 112, 'third': 0}, {'USERID': 'VxSB0MwO1BB4WY5', 'first': 267, 'third': 415}, {'USERID': 'vxT6WyhM1BLtE95', 'first': 2, 'third': 0}, {'USERID': 'vyAAuMo81BH2sd5', 'first': 11, 'third': 0}, {'USERID': 'vYjpJILa1BMwNp5', 'first': 21, 'third': 0}, {'USERID': 'VYo5NcHa1AfU705', 'first': 30, 'third': 0}, {'USERID': 'VZ0udpKf1BLEqG5', 'first': 2, 'third': 0}, {'USERID': 'VZDt2qcc1BFmBl5', 'first': 0, 'third': 0}, {'USERID': 'Vztegpyo1AesYV5', 'first': 2, 'third': 7}, {'USERID': 'vzWrKtkn1BrlWj5', 'first': 47, 'third': 221}, {'USERID': 'vzyuFUlL1BdiyH5', 'first': 282, 'third': 221}, {'USERID': 'w0BGAqao1BpALl5', 'first': 98, 'third': 57}, {'USERID': 'w0ER8rln1BwRng5', 'first': 5, 'third': 12}, {'USERID': 'W0F73CNI1BM8Gh2', 'first': 1, 'third': 0}, {'USERID': 'W1LzOgzH1BMNpp2', 'first': 4, 'third': 0}, {'USERID': 'w1tPRHpW1BehxZ5', 'first': 342, 'third': 3306}, {'USERID': 'W28d25LL1BMOr72', 'first': 1, 'third': 0}, {'USERID': 'w3cgOQxl1BGX235', 'first': 6, 'third': 0}, {'USERID': 'W3lKJpRu1AdvrA5', 'first': 200, 'third': 1357}, {'USERID': 'w4jMcxUX1B9DiP5', 'first': 2, 'third': 1}, {'USERID': 'w4ShkB2G1BMma45', 'first': 5, 'third': 6}, {'USERID': 'W5drVVBv1BMlj55', 'first': 10, 'third': 0}, {'USERID': 'W60qLLKS1AlFeR5', 'first': 110, 'third': 2419}, {'USERID': 'W6xg92mB1AvRLa5', 'first': 155, 'third': 238}, {'USERID': 'w77GpP1o1BJRKR5', 'first': 6, 'third': 1}, {'USERID': 'W7i1uW5C1A4HUY5', 'first': 182, 'third': 3165}, {'USERID': 'w7NDdFH01zvseu5', 'first': 102, 'third': 0}, {'USERID': 'w8JsGfDn1BsN3H5', 'first': 242, 'third': 980}, {'USERID': 'w8oH2uDi1BMAXJ2', 'first': 4, 'third': 0}, {'USERID': 'w95QhHrT1B2h695', 'first': 223, 'third': 1732}, {'USERID': 'W9GfOapB1BKu0w5', 'first': 6, 'third': 14}, {'USERID': 'W9ggYZtQ1BMqRD2', 'first': 1, 'third': 0}, {'USERID': 'W9k6BiC31ASY4T5', 'first': 206, 'third': 575}, {'USERID': 'w9LFyUcR1BgSo35', 'first': 3, 'third': 0}, {'USERID': 'Wa8NlaxK1AGL8U5', 'first': 272, 'third': 1189}, {'USERID': 'Wa8QvwxH1A8S625', 'first': 64, 'third': 321}, {'USERID': 'wAA7GQZL1BDxzh5', 'first': 53, 'third': 399}, {'USERID': 'wacZlqNh1Bl5FW5', 'first': 111, 'third': 531}, {'USERID': 'WaDLKoZE1AikRv5', 'first': 303, 'third': 1608}, {'USERID': 'Waq4rojO1B6ME25', 'first': 0, 'third': 0}, {'USERID': 'WaY4jHJL1AAoQN5', 'first': 95, 'third': 0}, {'USERID': 'WB4RF8C21B8fCc5', 'first': 186, 'third': 896}, {'USERID': 'wb7GFvQJ1B0hYM5', 'first': 3, 'third': 0}, {'USERID': 'WBF9qxjj1zMxmP5', 'first': 257, 'third': 0}, {'USERID': 'wBKcC9HI1Apdos2', 'first': 5, 'third': 0}, {'USERID': 'WbkqlfzJ1BDsW85', 'first': 19, 'third': 7}, {'USERID': 'wbNrlBLw1ACJMx5', 'first': 65, 'third': 5}, {'USERID': 'wbPdTWzXQkN0ndTDG4EhXCPXzfr33W2a', 'first': 377, 'third': 54}, {'USERID': 'wBzl56oc1zrvEo5', 'first': 252, 'third': 0}, {'USERID': 'wC5uP2Ht1BJOeq5', 'first': 14, 'third': 0}, {'USERID': 'WCO10JB01BLlp35', 'first': 3, 'third': 3}, {'USERID': 'Wd1tsjPR1Bx8Nr5', 'first': 127, 'third': 491}, {'USERID': 'wd36an0f1B1YiW5', 'first': 377, 'third': 371}, {'USERID': 'wd4FSvBJ1BBNUK5', 'first': 81, 'third': 1042}, {'USERID': 'wDEvuCsE1BJ3Nv5', 'first': 10, 'third': 0}, {'USERID': 'wDFFVP1n1B8WQn5', 'first': 364, 'third': 2616}, {'USERID': 'WdJonOel1AFpUv5', 'first': 6, 'third': 0}, {'USERID': 'wDUfmZCt1BwtXl5', 'first': 23, 'third': 135}, {'USERID': 'wdwFQreo1BxzoU5', 'first': 9, 'third': 14}, {'USERID': 'wdzXBKdc1BEwfl5', 'first': 94, 'third': 1050}, {'USERID': 'weVqUCw31BGWoq5', 'first': 0, 'third': 0}, {'USERID': 'WFgvm0ph1ATGxm5', 'first': 211, 'third': 987}, {'USERID': 'WFIVJEud1B662x5', 'first': 180, 'third': 3}, {'USERID': 'wFjp1u1o1BHqYz5', 'first': 27, 'third': 0}, {'USERID': 'wfwUF5Vd1BGFgr2', 'first': 6, 'third': 4}, {'USERID': 'wfY2P5rY1ByDXk5', 'first': 74, 'third': 685}, {'USERID': 'Wg2QUY1s1BasoP5', 'first': 20, 'third': 163}, {'USERID': 'WgbmO06X1BLNmL5', 'first': 6, 'third': 0}, {'USERID': 'wghzLF0A1Bfarm5', 'first': 290, 'third': 733}, {'USERID': 'WgO5xdqB1AlD9F5', 'first': 29, 'third': 97}, {'USERID': 'wH0dlIPZ1BHO4P5', 'first': 15, 'third': 0}, {'USERID': 'WH3GDa5v1BK0iu5', 'first': 1, 'third': 0}, {'USERID': 'whcuo8nr1zxiHb5', 'first': 266, 'third': 0}, {'USERID': 'whGAIFTX1BtV3g2', 'first': 75, 'third': 67}, {'USERID': 'whSyMF5Q1BMtRU5', 'first': 1, 'third': 0}, {'USERID': 'whwERCRP1BH0GW5', 'first': 0, 'third': 0}, {'USERID': 'WHx2cVDj1BtDPT5', 'first': 202, 'third': 625}, {'USERID': 'Whyg5OJX1BIbQv5', 'first': 21, 'third': 0}, {'USERID': 'WIaQQcMu1BDlTh5', 'first': 0, 'third': 0}, {'USERID': 'wieTWpLx1BGiWu5', 'first': 8, 'third': 0}, {'USERID': 'WIfzZm0U1BHkwx5', 'first': 2, 'third': 0}, {'USERID': 'WIiYrHvN1Afwcq5', 'first': 1, 'third': 0}, {'USERID': 'WiLPib4d1BHM4i5', 'first': 8, 'third': 2}, {'USERID': 'wImEdd0O1BM6ye2', 'first': 1, 'third': 0}, {'USERID': 'WIqbzX441BMGml2', 'first': 4, 'third': 0}, {'USERID': 'wIrXHBfp1BMjAd2', 'first': 1, 'third': 0}, {'USERID': 'WIs5P3Eg1AWVbn5', 'first': 170, 'third': 0}, {'USERID': 'wIVBvcOM1AOKvM5', 'first': 251, 'third': 26}, {'USERID': 'wj8rTOOl1BEyqI5', 'first': 12, 'third': 11}, {'USERID': 'WjAgUPNa1BJEhq2', 'first': 6, 'third': 0}, {'USERID': 'WJwUWKFr1zOBp52', 'first': 113, 'third': 13}, {'USERID': 'wjYP4axi1BM4qd5', 'first': 10, 'third': 55}, {'USERID': 'wKBrd3Za1BJkDr2', 'first': 12, 'third': 22}, {'USERID': 'wkYmL1Iy1BAmWx5', 'first': 226, 'third': 0}, {'USERID': 'wLE7dqFR1BJyqj5', 'first': 16, 'third': 0}, {'USERID': 'WlpSX49U1BKbiB5', 'first': 28, 'third': 9}, {'USERID': 'wMLb9zFP1ASZR85', 'first': 213, 'third': 2048}, {'USERID': 'WMW6SIZe1BKLSo5', 'first': 5, 'third': 11}, {'USERID': 'wo4ji8p11BE3l25', 'first': 25, 'third': 221}, {'USERID': 'wojrdqup1AZVyC5', 'first': 1, 'third': 5}, {'USERID': 'WOjroE0w1BIUjY5', 'first': 21, 'third': 0}, {'USERID': 'wOl4wv2q1zsxAR5', 'first': 210, 'third': 0}, {'USERID': 'WonGkCh91BnqcG5', 'first': 236, 'third': 3225}, {'USERID': 'wOnr5rke1BMGCv5', 'first': 1, 'third': 0}, {'USERID': 'wozRbewM1AI7pc5', 'first': 308, 'third': 1713}, {'USERID': 'wpgBplTJ1BMORX2', 'first': 3, 'third': 0}, {'USERID': 'WPNfMlAs1BMu8S5', 'first': 4, 'third': 0}, {'USERID': 'wpQwNEu71BDsFt5', 'first': 5, 'third': 7}, {'USERID': 'WpUidKQk1BKIT25', 'first': 8, 'third': 13}, {'USERID': 'WpzmtuPo1BMkfk2', 'first': 4, 'third': 0}, {'USERID': 'WqdFTpNQ1AFYt65', 'first': 105, 'third': 751}, {'USERID': 'wQDXIFZS1BJTRU5', 'first': 39, 'third': 7}, {'USERID': 'wqeJNPQ61AwMSC5', 'first': 202, 'third': 440}, {'USERID': 'WQF1MwHu1ATDnk5', 'first': 317, 'third': 1408}, {'USERID': 'wQI7l8os1BAOrU5', 'first': 139, 'third': 128}, {'USERID': 'WQuLQDyn1BLrNE5', 'first': 0, 'third': 6}, {'USERID': 'WR2CYTVQ1BM2nn5', 'first': 26, 'third': 409}, {'USERID': 'wr3T0KE61zvtuZ5', 'first': 202, 'third': 0}, {'USERID': 'WRoTINWe1BMN9Q5', 'first': 1, 'third': 0}, {'USERID': 'WrT0B30t1BqF6r5', 'first': 146, 'third': 0}, {'USERID': 'wRUHJZlg1BsVnT5', 'first': 47, 'third': 496}, {'USERID': 'wRVS3dyL1BM8US5', 'first': 5, 'third': 0}, {'USERID': 'WRwZkEWX1AMb605', 'first': 123, 'third': 9}, {'USERID': 'wRzVn2RK1BuVe85', 'first': 77, 'third': 1159}, {'USERID': 'wSjAjT5c1BxECT5', 'first': 100, 'third': 464}, {'USERID': 'wsRAmm5Q1AnPvH5', 'first': 62, 'third': 47}, {'USERID': 'WsuP1cFn1BJYGv5', 'first': 5, 'third': 1}, {'USERID': 'wTB9SJ4h1BEvUK5', 'first': 12, 'third': 0}, {'USERID': 'wTu8gCreexE7dFFsoAK0dSCTSXDOBL0x', 'first': 169, 'third': 22}, {'USERID': 'wtxAI8301BJFCm5', 'first': 5, 'third': 3}, {'USERID': 'wUBFp9ND1B2O7H5', 'first': 132, 'third': 330}, {'USERID': 'wUIZUK8R1BMDBs2', 'first': 1, 'third': 0}, {'USERID': 'wuoLWeMB1AfUU32', 'first': 3, 'third': 0}, {'USERID': 'wuRvVBCu1AOZkh5', 'first': 50, 'third': 478}, {'USERID': 'WveDTDYo1B7fzq5', 'first': 65, 'third': 238}, {'USERID': 'WvfhW5CW1BKz8T5', 'first': 5, 'third': 0}, {'USERID': 'wvon4kVo1AqRn15', 'first': 145, 'third': 0}, {'USERID': 'WWl2ALx51AmKnl5', 'first': 88, 'third': 120}, {'USERID': 'WwmpHbh31BrHby5', 'first': 44, 'third': 792}, {'USERID': 'wWVrBJXs1BL6uj5', 'first': 3, 'third': 0}, {'USERID': 'Wxp6oLx41BJPGf5', 'first': 12, 'third': 0}, {'USERID': 'Wy10fDIa1ADsur5', 'first': 21, 'third': 0}, {'USERID': 'Wy4dICb81zTjZi2', 'first': 26, 'third': 0}, {'USERID': 'wY9oOKXC1BwSVl5', 'first': 14, 'third': 89}, {'USERID': 'WYfi2sfz1A8F6a5', 'first': 1, 'third': 0}, {'USERID': 'zMTquV0G1A3zO95', 'first': 420, 'third': 1481}, {'USERID': 'zMUq28w21AGgwe2', 'first': 12, 'third': 0}, {'USERID': 'ZMUX2W8V1BDDoB5', 'first': 15, 'third': 1}, {'USERID': 'ZncSuVAK1BMxW22', 'first': 1, 'third': 0}, {'USERID': 'znNaVJvD1ByXRA5', 'first': 102, 'third': 424}, {'USERID': 'ZnP8wAxh1BMMoQ2', 'first': 5, 'third': 0}, {'USERID': 'znqz1JY51BMmy05', 'first': 10, 'third': 164}, {'USERID': 'ZnrJ1QXr1AuC3x5', 'first': 2, 'third': 0}, {'USERID': 'zNXXGHKF1AKoO65', 'first': 46, 'third': 0}, {'USERID': 'ZOibOH801AM1Ad5', 'first': 153, 'third': 117}, {'USERID': 'zOInRjY61BzwE25', 'first': 195, 'third': 1}, {'USERID': 'zOv7t8T21BLJqo5', 'first': 47, 'third': 1}, {'USERID': 'Zp1j3ZGn1AVxHA5', 'first': 215, 'third': 27}, {'USERID': 'ZPbR4mg11BMIf25', 'first': 3, 'third': 0}, {'USERID': 'ZpQjxq0d1BMbYu2', 'first': 4, 'third': 0}, {'USERID': 'zpxjpMNy1AuiYF2', 'first': 70, 'third': 23}, {'USERID': 'zPZbXMqN1zXgie5', 'first': 221, 'third': 174}, {'USERID': 'zqbZpPLf1BMPOG5', 'first': 4, 'third': 0}, {'USERID': 'ZQcoKCmB1B5eii5', 'first': 369, 'third': 484}, {'USERID': 'zqDY7ZLG1BLmC52', 'first': 7, 'third': 0}, {'USERID': 'ZQfaSO5n1BpdMa5', 'first': 32, 'third': 26}, {'USERID': 'ZQoOV2fx1BBgyJ5', 'first': 17, 'third': 385}, {'USERID': 'zQqUOg6d1BMGwi2', 'first': 1, 'third': 0}, {'USERID': 'zqt0g3be1BMMAA5', 'first': 3, 'third': 0}, {'USERID': 'zR79p05c1BMObJ2', 'first': 3, 'third': 0}, {'USERID': 'zRm9pJQR1Bgem15', 'first': 40, 'third': 73}, {'USERID': 'Zrrns0lJ1Bdo305', 'first': 227, 'third': 0}, {'USERID': 'zRZbEMBH1BAQxr5', 'first': 173, 'third': 262}, {'USERID': 'zSIKqV4u1BEsgg5', 'first': 108, 'third': 175}, {'USERID': 'ZSkS0bmT1Bz6x15', 'first': 4, 'third': 947}, {'USERID': 'zsn3Uw621AMTK95', 'first': 151, 'third': 385}, {'USERID': 'zsX3Qg1s1BMx512', 'first': 4, 'third': 0}, {'USERID': 'ZSzfe3jX1B2aT65', 'first': 1, 'third': 0}, {'USERID': 'ztA3NtIV1B7kYc5', 'first': 1, 'third': 0}, {'USERID': 'zTOvpRaL1BM6na2', 'first': 1, 'third': 0}, {'USERID': 'ZuCGqtX51BMmqF5', 'first': 10, 'third': 1}, {'USERID': 'zUfMQSu71B38jo5', 'first': 319, 'third': 1093}, {'USERID': 'ZuQO68HJ1BC5bh5', 'first': 10, 'third': 0}, {'USERID': 'ZUUy97hQ1Bwtlc5', 'first': 1, 'third': 1}, {'USERID': 'ZuWjcESU1BoR9S5', 'first': 0, 'third': 1}, {'USERID': 'ZUzm137k1BEKiG5', 'first': 0, 'third': 0}, {'USERID': 'Zv9ImYb81AUS6O5', 'first': 294, 'third': 505}, {'USERID': 'ZvCOSJMp1BtQEp5', 'first': 83, 'third': 6}, {'USERID': 'ZVk66FW11APmqN5', 'first': 447, 'third': 665}, {'USERID': 'zVqPkcZi1BMlvA5', 'first': 37, 'third': 0}, {'USERID': 'zvvJoBOU1BMxOp5', 'first': 3, 'third': 0}, {'USERID': 'ZvYyHsS31BJMfI5', 'first': 10, 'third': 3}]\n"
     ]
    }
   ],
   "source": [
    "import os, json\n",
    "import pandas as pd\n",
    "\n",
    "keywords = ('User not found')\n",
    "count = 0\n",
    "count_no_name = 0\n",
    "\n",
    "list_of_segUid = []\n",
    "path_to_json = 'F:/Python_DataAnalysis_Assignments/DataAnalysisPythonRepository_001680280/Assignment_1/jsons/'\n",
    "json_files = [pos_json for pos_json in os.listdir(path_to_json) if pos_json.endswith('.json')]\n",
    "#print(\"files:\", json_files)\n",
    "#custom_dict = {}\n",
    "for js in json_files:\n",
    "    with open(os.path.join(path_to_json, js)) as json_file:\n",
    "        # do something with your json; I'll just print\n",
    "        for line in json_file.readlines():\n",
    "            json_dict = json.loads(line)\n",
    "            if 'retargetingSegments' in json_dict:\n",
    "                custom_dict = {}\n",
    "                custom_dict['USERID'] = json_dict[\"dxId\"]\n",
    "                #print(custom_dict['USERID'])\n",
    "                list = []\n",
    "                cc = 0\n",
    "                fp = []\n",
    "                tp = []\n",
    "                \n",
    "\n",
    "                for suid in json_dict[\"retargetingSegments\"]:\n",
    "                    #a =suid[\"segmentUid\"]\n",
    "                    list.append(suid[\"segmentUid\"])\n",
    "                    fp = [word for word in list if word[0]=='0']\n",
    "                    tp = [word for word in list if word[0]=='1']\n",
    "                    cc = cc + 1\n",
    "                #print(cc)\n",
    "                #custom_dict['suid'] = list\n",
    "                custom_dict['first'] = len(fp)\n",
    "                custom_dict['third'] = len(tp)\n",
    "                #print('custom_dict['\"first\"']' , custom_dict['first'+ str(increment)])\n",
    "                #print('custom_dict['\"third\"']' , custom_dict['third' + str(increment)])\n",
    "                    #suid[\"segmentUid\"]\n",
    "                #list_of_segUid.append(custom_dict)\n",
    "                count = count + 1\n",
    "                list_of_segUid.append(custom_dict)      \n",
    "       \n",
    "            else:\n",
    "                count_no_name = count_no_name + 1\n",
    "print(\"Number of files without USER: \", count)\n",
    "print(\"Number of files with USER: \", count_no_name)\n",
    "\n",
    "#list_only_segId = []\n",
    "#for x in list_of_segUid:\n",
    " #   segID = x[\"suid\"]\n",
    "#  list_only_segId.append(segID)\n",
    " \n",
    "print(len(list_of_segUid))\n",
    "print(list_of_segUid)\n"
   ]
  },
  {
   "cell_type": "code",
   "execution_count": null,
   "metadata": {
    "collapsed": true
   },
   "outputs": [],
   "source": []
  },
  {
   "cell_type": "code",
   "execution_count": null,
   "metadata": {
    "collapsed": true
   },
   "outputs": [],
   "source": []
  }
 ],
 "metadata": {
  "anaconda-cloud": {},
  "kernelspec": {
   "display_name": "Python [Root]",
   "language": "python",
   "name": "Python [Root]"
  },
  "language_info": {
   "codemirror_mode": {
    "name": "ipython",
    "version": 3
   },
   "file_extension": ".py",
   "mimetype": "text/x-python",
   "name": "python",
   "nbconvert_exporter": "python",
   "pygments_lexer": "ipython3",
   "version": "3.5.2"
  }
 },
 "nbformat": 4,
 "nbformat_minor": 0
}
