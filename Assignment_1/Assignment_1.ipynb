{
 "cells": [
  {
   "cell_type": "markdown",
   "metadata": {},
   "source": [
    "# Q1   \n",
    "\n",
    "# Create a list of numbers which are multiple of 3 and 7 between 1 to 500 \n",
    "\n",
    "# For the list, find what is the mean. Print what is 25th quartile, 50th quartile and    75th quartile. "
   ]
  },
  {
   "cell_type": "code",
   "execution_count": 59,
   "metadata": {
    "collapsed": false
   },
   "outputs": [
    {
     "name": "stdout",
     "output_type": "stream",
     "text": [
      "\t number_list:  [0, 3, 6, 7, 9, 12, 14, 15, 18, 21, 24, 27, 28, 30, 33, 35, 36, 39, 42, 45, 48, 49, 51, 54, 56, 57, 60, 63, 66, 69, 70, 72, 75, 77, 78, 81, 84, 87, 90, 91, 93, 96, 98, 99, 102, 105, 108, 111, 112, 114, 117, 119, 120, 123, 126, 129, 132, 133, 135, 138, 140, 141, 144, 147, 150, 153, 154, 156, 159, 161, 162, 165, 168, 171, 174, 175, 177, 180, 182, 183, 186, 189, 192, 195, 196, 198, 201, 203, 204, 207, 210, 213, 216, 217, 219, 222, 224, 225, 228, 231, 234, 237, 238, 240, 243, 245, 246, 249, 252, 255, 258, 259, 261, 264, 266, 267, 270, 273, 276, 279, 280, 282, 285, 287, 288, 291, 294, 297, 300, 301, 303, 306, 308, 309, 312, 315, 318, 321, 322, 324, 327, 329, 330, 333, 336, 339, 342, 343, 345, 348, 350, 351, 354, 357, 360, 363, 364, 366, 369, 371, 372, 375, 378, 381, 384, 385, 387, 390, 392, 393, 396, 399, 402, 405, 406, 408, 411, 413, 414, 417, 420, 423, 426, 427, 429, 432, 434, 435, 438, 441, 444, 447, 448, 450, 453, 455, 456, 459, 462, 465, 468, 469, 471, 474, 476, 477, 480, 483, 486, 489, 490, 492, 495, 497, 498]\n",
      "Number of elements in a list : 215\n",
      "MEAN: 249.66976744186047\n",
      "25th Quartile 123\n",
      "50th Quartile 249\n",
      "75th Quartile 375\n"
     ]
    }
   ],
   "source": [
    "max = 500\n",
    "total = 0\n",
    "count = 0;\n",
    "number_list = []\n",
    "for i in range(0,max):\n",
    "    if i%3 == 0 or i%7 == 0:\n",
    "        number_list.append(i)\n",
    "print(\"\\t\",\"number_list: \", number_list)\n",
    "for value in number_list:\n",
    "    total += value\n",
    "    count = count + 1\n",
    "print(\"Number of elements in a list :\", count)\n",
    "print(\"MEAN:\", (total/count))\n",
    "q25 = count * 25 // 100;\n",
    "q50 = count * 50 // 100;\n",
    "q75 = count * 75 // 100;\n",
    "print(\"25th Quartile\", number_list[q25] )\n",
    "print(\"50th Quartile\", number_list[q50])\n",
    "print(\"75th Quartile\", number_list[q75])\n",
    "\n",
    "\n"
   ]
  },
  {
   "cell_type": "markdown",
   "metadata": {},
   "source": [
    "# Q2 \n",
    "# Read the file ‘ques2.txt’. Print the number of words.\n",
    "# Find out what is the average, median and mode for word length (character          length)"
   ]
  },
  {
   "cell_type": "code",
   "execution_count": 112,
   "metadata": {
    "collapsed": false
   },
   "outputs": [
    {
     "name": "stdout",
     "output_type": "stream",
     "text": [
      "Number of words: 309\n",
      "To find Median: 154\n",
      "Median: an\n",
      "Mode: the\n",
      "Average word length: 5.624595469255663\n"
     ]
    }
   ],
   "source": [
    "fname = \"F:\\Python_Assignments\\Assignment_1\\ques2.txt\"\n",
    "\n",
    "num_lines = 0\n",
    "num_words = 0\n",
    "num_chars = 0\n",
    "average = 0\n",
    "\n",
    "with open(fname, 'r') as f:\n",
    "    for line in f:\n",
    "        words = line.split()\n",
    "        #all_words.append(words)\n",
    "        num_lines += 1\n",
    "        num_words += len(words)\n",
    "        num_chars += len(line)\n",
    "print(\"Number of words:\", num_words)     \n",
    "median = num_words//2;\n",
    "count = len(words)\n",
    "\n",
    "print(\"To find Median:\", num_words//2)\n",
    "print(\"Median:\", words[2])\n",
    "from statistics import mode\n",
    "\n",
    "print(\"Mode:\", mode(words))\n",
    "\n",
    "with open(fname, 'r') as f:\n",
    "        w = [len(word) for line in f for word in line.rstrip().split(\" \")]\n",
    "        w_avg = sum(w)/len(w)\n",
    "print(\"Average word length:\", w_avg)\n",
    "\n"
   ]
  },
  {
   "cell_type": "markdown",
   "metadata": {},
   "source": [
    "# Q3\n",
    "# There are 1500 json files in ‘Lecture03/question03’. Find out how many of the      files contain the string, ‘User not found’ (case insensitive)"
   ]
  },
  {
   "cell_type": "code",
   "execution_count": 116,
   "metadata": {
    "collapsed": false
   },
   "outputs": [
    {
     "name": "stdout",
     "output_type": "stream",
     "text": [
      "Number of files with the words 'User not found':  877\n",
      "Number of files without the words 'User not found':  623\n"
     ]
    }
   ],
   "source": [
    "import os, json\n",
    "import pandas as pd\n",
    "\n",
    "keywords = ('User not found')\n",
    "count = 0\n",
    "count_no_name = 0\n",
    "path_to_json = 'F:/Python_Assignments/Assignment_1/jsons/'\n",
    "json_files = [pos_json for pos_json in os.listdir(path_to_json) if pos_json.endswith('.json')]\n",
    "#print(\"files:\", json_files)\n",
    "\n",
    "for js in json_files:\n",
    "    with open(os.path.join(path_to_json, js)) as json_file:\n",
    "        # do something with your json; I'll just print\n",
    "        for line in json_file.readlines():\n",
    "            json_dict = json.loads(line)\n",
    "            if 'name' in json_dict:\n",
    "                 if any(keyword in json_dict[\"name\"].lower() for keyword in keywords):\n",
    "                #print(json_dict[\"message\"])\n",
    "                    count = count + 1\n",
    "            else:\n",
    "                count_no_name = count_no_name + 1\n",
    "print(\"Number of files with the words 'User not found': \", count)\n",
    "print(\"Number of files without the words 'User not found': \", count_no_name)\n",
    "\n",
    "                \n"
   ]
  },
  {
   "cell_type": "markdown",
   "metadata": {},
   "source": [
    "   # Q3\n",
    "   # File name is user_id.json"
   ]
  },
  {
   "cell_type": "code",
   "execution_count": 118,
   "metadata": {
    "collapsed": false
   },
   "outputs": [
    {
     "name": "stdout",
     "output_type": "stream",
     "text": [
      "This is the list of the files with USERID as their filename: \n",
      "Number of files with the USERID as filename:  623\n",
      "Number of files where USERID is not the filename:  877\n"
     ]
    }
   ],
   "source": [
    "import os, json\n",
    "import pandas as pd\n",
    "\n",
    "keywords = ('User not found')\n",
    "count = 0\n",
    "filename_userId = []\n",
    "count_no_name = 0\n",
    "path_to_json = 'F:/Python_Assignments/Assignment_1/jsons/'\n",
    "json_files = [pos_json for pos_json in os.listdir(path_to_json) if pos_json.endswith('.json')]\n",
    "#print(\"files:\", json_files)\n",
    "\n",
    "for js in json_files:\n",
    "    with open(os.path.join(path_to_json, js)) as json_file:\n",
    "        # do something with your json; I'll just print\n",
    "        for line in json_file.readlines():\n",
    "            json_dict = json.loads(line)\n",
    "            if 'dxId' in json_dict:\n",
    "                #if any(keyword in json_dict[\"name\"].lower() for keyword in keywords):\n",
    "                #print(json_dict[\"message\"])\n",
    "                    filename_userId.append(json_dict['dxId'])\n",
    "                    count = count + 1\n",
    "            else:\n",
    "                count_no_name = count_no_name + 1\n",
    "                \n",
    "print(\"This is the list of the files with USERID as their filename: \")\n",
    "#print(filename_userId)\n",
    "print(\"Number of files with the USERID as filename: \", count)\n",
    "print(\"Number of files where USERID is not the filename: \", count_no_name)\n",
    "\n",
    "                \n"
   ]
  },
  {
   "cell_type": "markdown",
   "metadata": {},
   "source": [
    "# Q3\n",
    "# Create a dictionary, containing (user_id,present). present is 0 if ‘user not              found’ else 1. Print random 5 entries"
   ]
  },
  {
   "cell_type": "code",
   "execution_count": 124,
   "metadata": {
    "collapsed": false,
    "scrolled": true
   },
   "outputs": [
    {
     "name": "stdout",
     "output_type": "stream",
     "text": [
      "This is the list of the files with USERID as their filename: \n",
      "1500\n",
      "Number of files with the USERID as filename:  623\n",
      "Number of files where USERID is not the filename:  877\n",
      "final length has to be 1500 :  1500\n",
      "{'USERID': 'A2HkZPkn1BpvvG5', 'present': 1}\n",
      "{'USERID': 'User Not Found', 'present': 0}\n",
      "{'USERID': 'A2VNCBDc1BI1q65', 'present': 1}\n",
      "{'USERID': 'User Not Found', 'present': 0}\n",
      "{'USERID': 'A3bVx1T11BLTx65', 'present': 1}\n",
      "{'USERID': 'A3j6Sjuz1BMMV82', 'present': 1}\n"
     ]
    }
   ],
   "source": [
    "import os, json\n",
    "import pandas as pd\n",
    "\n",
    "keywords = ('User not found')\n",
    "count = 0\n",
    "filename_userId = []\n",
    "count_no_name = 0\n",
    "path_to_json = 'F:/Python_Assignments/Assignment_1/jsons/'\n",
    "json_files = [pos_json for pos_json in os.listdir(path_to_json) if pos_json.endswith('.json')]\n",
    "#print(\"files:\", json_files)\n",
    "custom_dict = {}\n",
    "custom_dict1 = {}\n",
    "list_of_dictionaries = []\n",
    "for js in json_files:\n",
    "    with open(os.path.join(path_to_json, js)) as json_file:\n",
    "        # do something with your json; I'll just print\n",
    "        for line in json_file.readlines():\n",
    "            json_dict = json.loads(line)\n",
    "            custom_dict = {}\n",
    "            if 'dxId' in json_dict:\n",
    "                #if any(keyword in json_dict[\"name\"].lower() for keyword in keywords):\n",
    "                #print(json_dict[\"message\"])\n",
    "                    filename_userId.append(json_dict['dxId'])\n",
    "                    custom_dict['USERID'] = json_dict['dxId']\n",
    "                    custom_dict['present'] = 1\n",
    "                    #list_of_dictionaries.append(custom_dict)\n",
    "                    count = count + 1\n",
    "            if 'name' in json_dict:\n",
    "                 #if any(keyword in json_dict[\"name\"].lower() for keyword in keywords):\n",
    "                #print(json_dict[\"message\"])\n",
    "                    filename_userId.append(json_dict['name'])\n",
    "                    custom_dict['USERID'] = json_dict['name']\n",
    "                    custom_dict['present'] = 0\n",
    "                    #list_of_dictionaries.append(custom_dict1)\n",
    "                    count_no_name = count_no_name + 1\n",
    "\n",
    "        list_of_dictionaries.append(custom_dict)\n",
    "\n",
    "                \n",
    "            \n",
    "print(\"This is the list of the files with USERID as their filename: \")\n",
    "print(len(filename_userId))\n",
    "print(\"Number of files with the USERID as filename: \", count)\n",
    "print(\"Number of files where USERID is not the filename: \", count_no_name)\n",
    "print( \"final length has to be 1500 : \", len(list_of_dictionaries))\n",
    "for i in range(5,11):\n",
    "    print(list_of_dictionaries[i])                \n"
   ]
  },
  {
   "cell_type": "markdown",
   "metadata": {},
   "source": [
    "# Q4\n",
    "# For the same Json files, there is a field, `segmentUid` which can either start        with 0xxxx(lets call them 1st party data) or 1xxxxx (lets call them 3rd party          data). \n",
    "# For each user, count the number of first party segments and third party                segments. "
   ]
  },
  {
   "cell_type": "code",
   "execution_count": 110,
   "metadata": {
    "collapsed": false
   },
   "outputs": [
    {
     "name": "stdout",
     "output_type": "stream",
     "text": [
      "A5xOTqVS1Amd7F5\n",
      "A919aKwiqnBd0plwT3izfU0NhGRKnX6z\n",
      "A9UPpfah1BFECb5\n",
      "Aa8F01bG1zEVca5\n",
      "AAD2VmOH1BMwW12\n",
      "AAHWj5QN1BJ1ZP5\n",
      "QXXNnlDy1BKdw25\n",
      "QY3ONjDv1BiPYt5\n",
      "Number of files without USER:  8\n",
      "Number of files with USER:  9\n",
      "8\n",
      "[{'USERID': 'A5xOTqVS1Amd7F5', 'third': 1574, 'first': 339}, {'USERID': 'A919aKwiqnBd0plwT3izfU0NhGRKnX6z', 'third': 0, 'first': 1}, {'USERID': 'A9UPpfah1BFECb5', 'third': 337, 'first': 88}, {'USERID': 'Aa8F01bG1zEVca5', 'third': 1538, 'first': 360}, {'USERID': 'AAD2VmOH1BMwW12', 'third': 0, 'first': 1}, {'USERID': 'AAHWj5QN1BJ1ZP5', 'third': 0, 'first': 2}, {'USERID': 'QXXNnlDy1BKdw25', 'third': 0, 'first': 5}, {'USERID': 'QY3ONjDv1BiPYt5', 'third': 1243, 'first': 120}]\n"
     ]
    }
   ],
   "source": [
    "import os, json\n",
    "import pandas as pd\n",
    "\n",
    "keywords = ('User not found')\n",
    "count = 0\n",
    "count_no_name = 0\n",
    "\n",
    "list_of_segUid = []\n",
    "path_to_json = 'F:/Python_Assignments/check/'\n",
    "json_files = [pos_json for pos_json in os.listdir(path_to_json) if pos_json.endswith('.json')]\n",
    "#print(\"files:\", json_files)\n",
    "#custom_dict = {}\n",
    "for js in json_files:\n",
    "    with open(os.path.join(path_to_json, js)) as json_file:\n",
    "        # do something with your json; I'll just print\n",
    "        for line in json_file.readlines():\n",
    "            json_dict = json.loads(line)\n",
    "            if 'retargetingSegments' in json_dict:\n",
    "                custom_dict = {}\n",
    "                custom_dict['USERID'] = json_dict[\"dxId\"]\n",
    "                print(custom_dict['USERID'])\n",
    "                list = []\n",
    "                cc = 0\n",
    "                fp = []\n",
    "                tp = []\n",
    "                \n",
    "\n",
    "                for suid in json_dict[\"retargetingSegments\"]:\n",
    "                    #a =suid[\"segmentUid\"]\n",
    "                    list.append(suid[\"segmentUid\"])\n",
    "                    fp = [word for word in list if word[0]=='0']\n",
    "                    tp = [word for word in list if word[0]=='1']\n",
    "                    cc = cc + 1\n",
    "                #print(cc)\n",
    "                #custom_dict['suid'] = list\n",
    "                custom_dict['first'] = len(fp)\n",
    "                custom_dict['third'] = len(tp)\n",
    "                #print('custom_dict['\"first\"']' , custom_dict['first'+ str(increment)])\n",
    "                #print('custom_dict['\"third\"']' , custom_dict['third' + str(increment)])\n",
    "                    #suid[\"segmentUid\"]\n",
    "                #list_of_segUid.append(custom_dict)\n",
    "                count = count + 1\n",
    "                list_of_segUid.append(custom_dict)      \n",
    "       \n",
    "            else:\n",
    "                count_no_name = count_no_name + 1\n",
    "print(\"Number of files without USER: \", count)\n",
    "print(\"Number of files with USER: \", count_no_name)\n",
    "\n",
    "#list_only_segId = []\n",
    "#for x in list_of_segUid:\n",
    " #   segID = x[\"suid\"]\n",
    "#  list_only_segId.append(segID)\n",
    " \n",
    "print(len(list_of_segUid))\n",
    "print(list_of_segUid)\n"
   ]
  },
  {
   "cell_type": "code",
   "execution_count": 104,
   "metadata": {
    "collapsed": false
   },
   "outputs": [
    {
     "name": "stdout",
     "output_type": "stream",
     "text": [
      "['0SKwDMSeyk', '0Svn4L7KgH', '0SjdizEO8p']\n"
     ]
    }
   ],
   "source": [
    "rs = [\n",
    "    {\"segmentUid\":\"0SKwDMSeyk\",\"timestamps\":[1474495482],\"activityCount\":1},\n",
    "    {\"segmentUid\":\"0Svn4L7KgH\",\"timestamps\":[1474497492],\"activityCount\":1},\n",
    "    {\"segmentUid\":\"0SjdizEO8p\",\"timestamps\":[1474556355],\"activityCount\":1}]\n",
    "list = []\n",
    "\n",
    "for s in rs:\n",
    "    #a =a+ [s[\"segmentUid\"]]\n",
    "    list.append(s[\"segmentUid\"])\n",
    "print(list)\n",
    " "
   ]
  },
  {
   "cell_type": "code",
   "execution_count": 105,
   "metadata": {
    "collapsed": false
   },
   "outputs": [
    {
     "name": "stdout",
     "output_type": "stream",
     "text": [
      "0\n",
      "['0jfs', '0fsdjhfks']\n"
     ]
    }
   ],
   "source": [
    "list = ['0jfs', '0fsdjhfks', '1ksdhg']\n",
    "\n",
    "first_party = 0\n",
    "third_party = 0\n",
    "a = [word for word in list if word[0]=='0']\n",
    "    #first_party = first_party + 1\n",
    "\n",
    "\n",
    "print(first_party)\n",
    "print(a)"
   ]
  },
  {
   "cell_type": "code",
   "execution_count": 42,
   "metadata": {
    "collapsed": false
   },
   "outputs": [
    {
     "data": {
      "text/plain": [
       "['apple', 'ant']"
      ]
     },
     "execution_count": 42,
     "metadata": {},
     "output_type": "execute_result"
    }
   ],
   "source": [
    "list = [\"apple\", \"bannana\", \"custard\", \"shoe\", \"ant\", \"police\", \"python\"]\n",
    "newList = [ word for word in list if word[0]=='a' ]\n",
    "newList\n"
   ]
  },
  {
   "cell_type": "code",
   "execution_count": null,
   "metadata": {
    "collapsed": true
   },
   "outputs": [],
   "source": [
    "import os, json\n",
    "import pandas as pd\n",
    "\n",
    "keywords = ('User not found')\n",
    "count = 0\n",
    "count_no_name = 0\n",
    "\n",
    "list_of_segUid = []\n",
    "path_to_json = 'F:/Python_Assignments/check/'\n",
    "json_files = [pos_json for pos_json in os.listdir(path_to_json) if pos_json.endswith('.json')]\n",
    "#print(\"files:\", json_files)\n",
    "#custom_dict = {}\n",
    "increment = 0\n",
    "for js in json_files:\n",
    "    with open(os.path.join(path_to_json, js)) as json_file:\n",
    "        # do something with your json; I'll just print\n",
    "        for line in json_file.readlines():\n",
    "            json_dict = json.loads(line)\n",
    "            if 'retargetingSegments' in json_dict:\n",
    "                custom_dict = {}\n",
    "                custom_dict['USERID' + str(increment)] = json_dict[\"dxId\"]\n",
    "                print(custom_dict['USERID' + str(increment)])\n",
    "                list = []\n",
    "                cc = 0\n",
    "                fp = []\n",
    "                tp = []\n",
    "\n",
    "\n",
    "                for suid in json_dict[\"retargetingSegments\"]:\n",
    "                    a = suid[\"segmentUid\"]\n",
    "                    list.append(a)\n",
    "                    fp = [word for word in list if word[0]=='0']\n",
    "                    tp = [word for word in list if word[0]=='1']\n",
    "                    cc = cc + 1\n",
    "                #print(cc)\n",
    "                #custom_dict['suid'] = list\n",
    "                custom_dict['first' + str(increment)] = len(fp)\n",
    "                custom_dict['third' + str(increment)] = len(tp)\n",
    "                #print('custom_dict['\"first\"']' , custom_dict['first'+ str(increment)])\n",
    "                #print('custom_dict['\"third\"']' , custom_dict['third' + str(increment)])\n",
    "                    #suid[\"segmentUid\"]\n",
    "                #list_of_segUid.append(custom_dict)\n",
    "                count = count + 1\n",
    "                increment = increment + 1\n",
    "            else:\n",
    "                count_no_name = count_no_name + 1\n",
    "        list_of_segUid.append(custom_dict)      \n",
    "print(\"Number of files without USER: \", count)\n",
    "print(\"Number of files with USER: \", count_no_name)\n",
    "\n",
    "#list_only_segId = []\n",
    "#for x in list_of_segUid:\n",
    " #   segID = x[\"suid\"]\n",
    "#  list_only_segId.append(segID)\n",
    " \n",
    "print(len(list_of_segUid))\n",
    "print(list_of_segUid)\n"
   ]
  },
  {
   "cell_type": "code",
   "execution_count": null,
   "metadata": {
    "collapsed": true
   },
   "outputs": [],
   "source": []
  },
  {
   "cell_type": "code",
   "execution_count": null,
   "metadata": {
    "collapsed": true
   },
   "outputs": [],
   "source": []
  }
 ],
 "metadata": {
  "anaconda-cloud": {},
  "kernelspec": {
   "display_name": "Python [Root]",
   "language": "python",
   "name": "Python [Root]"
  },
  "language_info": {
   "codemirror_mode": {
    "name": "ipython",
    "version": 3
   },
   "file_extension": ".py",
   "mimetype": "text/x-python",
   "name": "python",
   "nbconvert_exporter": "python",
   "pygments_lexer": "ipython3",
   "version": "3.5.2"
  }
 },
 "nbformat": 4,
 "nbformat_minor": 0
}
